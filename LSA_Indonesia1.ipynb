{
 "cells": [
  {
   "cell_type": "markdown",
   "id": "f48218c3-9d52-4c23-a759-4114dcdb25cd",
   "metadata": {},
   "source": [
    "<h1 style=\"text-align: center;\">📘 LSA Indonesia Data Processing and Analysis</h1>\n",
    "\n",
    "\r\n",
    "This notebook documents the process of preparing and analyzing data collected from the Life Skills Assessment (LSA) conducted in Indonesia. The LSA was administered in two distinct cohorts: **Year 1** and **Year 2**, with each year including data collected **before (Pre)** and **after (Post)** the training interventions. The aim of this analysis is to first conduct a descriptive analysis  and  evaluate changes in participant outcomes — specifically in **Life Skills** and **Employability** — and to determine whether these changes are statistically significant.\r\n",
    "\r\n",
    "To achieve this, the notebook is organized into the following major component\r\n",
    "- ✅ **Data Import & Preparation**: Four datasets (Y1 Pre/Post and Y2 Pre/Post) are imported after being initially cleaned in Excel to ensure uniform structure, translated headers, and removal of personally identifiable information (PII) and calculated fiel.\r\n",
    "- ✅ **Structural and Type Validation**: We confirm that all datasets have the same column structure and data types to enable safe mergg.\r\n",
    "- ✅ **Data Merging**: The four datasets are combined into a single structured dataset for analis.\r\n",
    "- ✅ **Score Construction**: Composite scores (e.g., Life Skills, Employability) are computed from relevant question ems.\r\n",
    "- ✅ **Descriptive & Inferential Analysis**: Pre/Post distributions are visualized using hi. gTamsand the **Wilcoxon signedank test** is applied to assess the statistical significance of changes ovetime.\r\n",
    "- ✅ **Co and regressionrrelation Analysis**: We examine the relationship between changes in Life Skills and Employability to assess whether improvements in one domain are associated with gains in the other.\r\n",
    "\r\n",
    "The nebook uses **Pytn libraries** such as `pandas`, `matplotlib`, `seaborn`, and `scipy.stats` to perform data manipulation, visualization, and statisti in Indonesia.\r\n"
   ]
  },
  {
   "cell_type": "markdown",
   "id": "c8c358bf-b55a-4851-b11b-c6e301cd2c3c",
   "metadata": {},
   "source": [
    "## 📌 Summary of Main Findings\n",
    "---\n",
    "\n",
    "###  Life Skills Score\n",
    "\n",
    "- **Year 1**:  \n",
    "  There was a **statistically significant improvement** in life skill scores. The mean increased from 99.18 to 101.63, and the median and upper percentiles also rose. The histogram showed a clear **rightward shift**, indicating a positive impact from the intervention. However, variability increased post-training, and a few outliers were observed on the lower end.\n",
    "\n",
    "- **Year 2**:  \n",
    "  Life skill scores showed a **small but statistically significant decrease** (mean dropped from 102.4 to 100.95). The median also declined slightly, and the histogram revealed a **leftward shift** in the distribution. This suggests that the program's effectiveness may have been lower in Year 2, possibly due to contextual or implementation factors.\n",
    "\n",
    "### Employability Score\n",
    "\n",
    "- **Year 1**:  \n",
    "  A **modest increase** in employability scores was observed (mean rose from 35.29 to 35.72), and the change was statistically significant. The distribution shifted slightly to the right with minor increases in variability, indicating some positive effects of the training.\n",
    "\n",
    "- **Year 2**:  \n",
    "  Scores **declined significantly** after the intervention (mean dropped from 37.20 to 35.74). The distribution flattened and shifted left, and the decrease was statistically confirmed by the Wilcoxon test. This may reflect reduced training effectiveness or participant differences in Year 2.\n",
    "\n",
    "### Correlation Between Life Skills and Employability\n",
    "\n",
    "- **Year 1**:  \n",
    "  The **Spearman correlation coefficient** between change in life skills and employability was **0.50**, indicating a **moderate positive relationship**. Participants who improved more in life skills also tended to improve in employability.\n",
    "\n",
    "- **Year 2**:  \n",
    "  The correlation was slightly stronger at **0.55**, reinforcing the **interconnectedness** between the two domains. Despite the average decline in scores, those who gained in life skills still showed concurrent employability gains.\n",
    "\n",
    "- **Combined Visual**:  \n",
    "  A scatterplot with regression lines by year confirmed a **consistent upward trend** between the two scores across both years. Year 2 showed a **broader spread**, highlighting greater variability in participant outcomes.\n",
    "\n",
    "\n",
    "These findings highlight that while the intervention had **positive effects in Year 1**, its impact was **less consistent in Year 2**, warranting further investigation into implementation quality, participant characteristics, or external factors.\n"
   ]
  },
  {
   "cell_type": "markdown",
   "id": "4b6576c8-006f-494f-b028-9b5b6d87c562",
   "metadata": {},
   "source": [
    "## 📦 1. Creating a single concatenated LSA dataset\n",
    "\n",
    "---"
   ]
  },
  {
   "cell_type": "markdown",
   "id": "53dc2106-bbd7-454a-8277-732acb53a53f",
   "metadata": {},
   "source": [
    "### Importing the datasets\n",
    "\n",
    "To created and single dataset on which we will conduct the analysis, we imported four files: the LSA survey conducted in Year 1 before and after the training, and the LSA survey conducted in Year 2 before and after the training.\n",
    "\n",
    "However, fefore importing in this notebook, each original raw dataset underwent an initial cleaning and restructuring phase in Excel. This process involved removing personally identifiable information (PII), such as name columns, translating and relabeling column headers for clarity (and more aligned to the LSA guideline) while ensuring that the first row remained the header, and removing calculated score columns. Additionally, specific transformations were applied to each dataset to maintain consistency and ensure a uniform structure across all files. You can download the initial cleaned datasets using the link below\n",
    "\n",
    "https://github.com/naeljb/GG8_FE_Indonesia/blob/main/indonesia_Y1_LSA_pre.csv\n",
    "\n",
    "https://github.com/naeljb/GG8_FE_Indonesia/blob/main/indonesia_Y1_LSA_post.csv\n",
    "\n",
    "https://github.com/naeljb/GG8_FE_Indonesia/blob/main/indonesia_y2_LSA_pre.csv\n",
    "\n",
    "https://github.com/naeljb/GG8_FE_Indonesia/blob/main/indonesia_Y2_LSA_post.csv\n",
    "\n",
    "\n",
    "For data import, we used the pandas library in Python. The pandas library in Python is a powerful tool for data manipulation and analysis, offering efficient data structures like DataFrames and Series for handling structured data. It provides functionalities for data cleaning, transformation, aggregation, and merging, making it essential for preprocessing and analysis. With pandas, users can easily read and write data from various formats (CSV, Excel, SQL, JSON), handle missing values, reshape datasets, and perform statistical operations."
   ]
  },
  {
   "cell_type": "code",
   "execution_count": 5,
   "id": "c8e43f23-64d5-4c43-b400-f8de36475c5f",
   "metadata": {},
   "outputs": [],
   "source": [
    "# importing pandas library\n",
    "import pandas as pd"
   ]
  },
  {
   "cell_type": "code",
   "execution_count": 6,
   "id": "76a4d3d5-3807-4a64-bb30-ab070413aad5",
   "metadata": {},
   "outputs": [],
   "source": [
    "#  Providing the File paths for each datasets (currently downloaded,stored in a local machine)\n",
    "path1 = \"D:/S2S_FE/Indonesia_data/indonesia_Y1_LSA_pre.csv\"\n",
    "path2 = \"D:/S2S_FE/Indonesia_data/indonesia_Y1_LSA_post.csv\"\n",
    "path3 = \"D:/S2S_FE/Indonesia_data/indonesia_y2_LSA_pre.csv\"\n",
    "path4 = \"D:/S2S_FE/Indonesia_data/indonesia_Y2_LSA_post.csv\"\n",
    "\n",
    "# Loadingt the  datasets\n",
    "y1_lsa_pre = pd.read_csv(path1)\n",
    "y1_lsa_post = pd.read_csv(path2)\n",
    "y2_lsa_pre = pd.read_csv(path3)\n",
    "y2_lsa_post = pd.read_csv(path4)"
   ]
  },
  {
   "cell_type": "markdown",
   "id": "362f96c0-2cb3-44ef-ab4e-0b54196f1e92",
   "metadata": {},
   "source": [
    "### Validating the consistency of the column structure \n",
    "\n",
    "As in this workbook  we also aim to append (concatenate) all datasets into a single dataset, it is essential to ensure consistency across all datasets before appending.  We will  validates the structural consistency of four datasets: Y1_LSA_Pre, Y1_LSA_Post, Y2_LSA_Pre, and Y2_LSA_Post, which represent survey data collected before and after training in Years 1 and 2. These datasets are stored in a dictionary, where the keys are dataset names, and the values are the corresponding DataFrames. The script first prints the shape (number of rows and columns) of each dataset along with the first five column names to provide an overview of their structures. It then checks whether all datasets have the same set of column names by creating a set for each dataset’s column structure. If all column sets are identical, it confirms that the datasets are consistent and can be safely appended. Otherwise, it raises a warning indicating a mismatch in column structures, which must be resolved before proceeding. This validation step is crucial to prevent errors during data merging and ensure uniformity in the final dataset."
   ]
  },
  {
   "cell_type": "code",
   "execution_count": 8,
   "id": "9e6dd05b-1648-466d-9d5f-80c4c8047b1f",
   "metadata": {},
   "outputs": [
    {
     "name": "stdout",
     "output_type": "stream",
     "text": [
      "Y1_LSA_Pre: (1123, 103) columns: ['respondent', 'date', 'province', 'school', 'id']...\n",
      "Y1_LSA_Post: (1022, 103) columns: ['respondent', 'date', 'province', 'school', 'id']...\n",
      "Y2_LSA_Pre: (1123, 103) columns: ['respondent', 'date', 'province', 'school', 'id']...\n",
      "Y2_LSA_Post: (572, 103) columns: ['respondent', 'date', 'province', 'school', 'id']...\n",
      "\n",
      "✅ All datasets have the same column structure!\n"
     ]
    }
   ],
   "source": [
    "# Validate column consistency\n",
    "datasets = {\n",
    "    \"Y1_LSA_Pre\": y1_lsa_pre,\n",
    "    \"Y1_LSA_Post\": y1_lsa_post,\n",
    "    \"Y2_LSA_Pre\": y2_lsa_pre,\n",
    "    \"Y2_LSA_Post\": y2_lsa_post\n",
    "}\n",
    "\n",
    "for name, df in datasets.items():\n",
    "    print(f\"{name}: {df.shape} columns: {list(df.columns[:5])}...\")  # Show first 5 columns\n",
    "\n",
    "# Ensure all datasets have the same columns\n",
    "column_sets = {name: set(df.columns) for name, df in datasets.items()}\n",
    "if len(set(map(tuple, column_sets.values()))) == 1:\n",
    "    print(\"\\n✅ All datasets have the same column structure!\")\n",
    "else:\n",
    "    print(\"\\n⚠️ Column mismatch detected between datasets!\")"
   ]
  },
  {
   "cell_type": "markdown",
   "id": "1ff7499e-2cea-47fb-92ba-6089183429dd",
   "metadata": {},
   "source": [
    "### Validating the data type consistency\n",
    "\n",
    "We also need to  ensure/check the  consistency in data types across multiple datasets before appending  them into a single dataset.  The script below, creates a DataFrame to store and compare the data types of each column across the four datasets: Y1_LSA_Pre, Y1_LSA_Post, Y2_LSA_Pre, and Y2_LSA_Post. First, the script iterates through each dataset, extracting its data types and converting them to string format for easier storage and comparison. It then consolidates these data types into a new DataFrame called dtype_df, where each column represents a dataset, and each row corresponds to a column name and its associated data type in the dataset. To facilitate further review, the script saves this data type comparison table as a CSV file in the specified directory (D:/S2S_FE/Indonesia_data/column_data_types.csv). Finally, it prints the first 15 rows of this table, allowing us to quickly inspect the consistency of data types across datasets. This step helps identify any discrepancies in data types that may cause issues when merging and analyzing the datasets."
   ]
  },
  {
   "cell_type": "code",
   "execution_count": 10,
   "id": "108d098c-26fd-49d0-a52a-0da970ad840c",
   "metadata": {},
   "outputs": [
    {
     "name": "stdout",
     "output_type": "stream",
     "text": [
      "                 Y1_LSA_Pre Y1_LSA_Post Y2_LSA_Pre Y2_LSA_Post\n",
      "respondent           object     float64    float64      object\n",
      "date                 object      object    float64     float64\n",
      "province             object      object     object      object\n",
      "school               object     float64     object      object\n",
      "id                    int64       int64    float64       int64\n",
      "gender                int64     float64    float64       int64\n",
      "grade                 int64      object    float64       int64\n",
      "field_study          object      object     object      object\n",
      "understanding_q1      int64       int64    float64       int64\n",
      "understanding_q2      int64       int64    float64       int64\n",
      "understanding_q3      int64       int64    float64       int64\n",
      "understanding_q4      int64       int64    float64       int64\n",
      "understanding_q5      int64       int64    float64       int64\n",
      "understanding_q6      int64       int64    float64       int64\n",
      "understanding_q7      int64       int64    float64       int64\n"
     ]
    }
   ],
   "source": [
    "# Create a DataFrame to store column data types\n",
    "dtype_dict = {}\n",
    "for name, df in datasets.items():\n",
    "    dtype_dict[name] = df.dtypes.astype(str)  # Convert data types to string for storage\n",
    "\n",
    "dtype_df = pd.DataFrame(dtype_dict)\n",
    "\n",
    "# Save to CSV for review\n",
    "dtype_df.to_csv(\"D:/S2S_FE/Indonesia_data/column_data_types.csv\", index=True)\n",
    "\n",
    "# Display first 30 rows of data type table\n",
    "print(dtype_df.head(15))"
   ]
  },
  {
   "cell_type": "markdown",
   "id": "4bd30e14-414a-40a1-b901-8eb693e1442c",
   "metadata": {},
   "source": [
    "###  Removing irrelevant columns\n",
    "\n",
    "Removing irrelevant columns helps streamline the dataset by eliminating unnecessary information, reducing memory usage, and improving processing efficiency. It also ensures that only meaningful variables are retained for analysis, minimizing distractions and potential privacy concerns.This Python script below ensures that unnecessary columns, specifically \"respondent\" and \"date\", are removed from all datasets before  later merging them into a single dataset. The script iterates over the four datasets (Y1_LSA_Pre, Y1_LSA_Post, Y2_LSA_Pre, and Y2_LSA_Post) and checks if the columns \"respondent\" and \"date\" exist in each dataset. If they are present, they are dropped in place using the drop() function. This step ensures that all datasets have a consistent structure and only retain relevant variables, reducing redundancy and potential privacy concerns before merging.\n"
   ]
  },
  {
   "cell_type": "code",
   "execution_count": 12,
   "id": "be75f5e4-13c4-46a0-9a22-e291be952a5b",
   "metadata": {},
   "outputs": [],
   "source": [
    "# dropping respondent and date colunms\n",
    "for df in [y1_lsa_pre, y1_lsa_post, y2_lsa_pre, y2_lsa_post]:\n",
    "        df.drop(columns=[col for col in ['respondent', 'date'] if col in df.columns], inplace=True)"
   ]
  },
  {
   "cell_type": "markdown",
   "id": "fe894ad8-bbaa-4cd3-876d-d4eafc9fe5c8",
   "metadata": {},
   "source": [
    "### Adding column for diffentiating datasets  \n",
    "\n",
    "This script below enhances dataset organization by adding two new categorical columns (\"year\" and \"time_lsa\") to each dataset. These columns help differentiate data across different years and survey periods, ensuring clarity in subsequent analysis.\n",
    "\n",
    "The \"year\" column is added to indicate whether the data belongs to Year 1 or Year 2, while the \"time_lsa\" column specifies whether the survey was conducted before (\"pre\") or after (\"post\") the training. Each dataset is updated accordingly. \n",
    "\n",
    "By adding these columns, the script ensures that all datasets can be easily distinguished and analyzed based on year and survey timing, facilitating comparisons and trend analysis after appending."
   ]
  },
  {
   "cell_type": "code",
   "execution_count": 14,
   "id": "3e5819d7-7b32-438c-affe-e1fa91462314",
   "metadata": {},
   "outputs": [],
   "source": [
    "# Add new columns to y1_lsa_pre for indicating year1 and pre for all rows\n",
    "y1_lsa_pre[\"year\"] = \"year1\"\n",
    "y1_lsa_pre[\"time_lsa\"] = \"pre\"\n",
    "\n",
    "# Add new columns to y1_lsa_post for indicating years and post for all rows\n",
    "y1_lsa_post[\"year\"] = \"year1\"\n",
    "y1_lsa_post[\"time_lsa\"] = \"post\"\n",
    "\n",
    "# Add new columns to y2_lsa_pre for indicating year2 and pre for all rows\n",
    "y2_lsa_pre[\"year\"] = \"year2\"\n",
    "y2_lsa_pre[\"time_lsa\"] = \"pre\"\n",
    "\n",
    "# Add new columns to y2_lsa_post for indicating year2 and post for all rows\n",
    "y2_lsa_post[\"year\"] = \"year2\"\n",
    "y2_lsa_post[\"time_lsa\"] = \"post\""
   ]
  },
  {
   "cell_type": "markdown",
   "id": "90697ffc-80c5-4fd6-9e8f-be730dfd5399",
   "metadata": {},
   "source": [
    "### Checking datasets size \n",
    "\n",
    "This script below retrieves and displays the sizes of all four datasets. Given the consistency work we have done on the dataset structure, we expect each dataset to have the same number of columns. Additionally, since the pre- and post-surveys are conducted as part of a panel survey, we anticipate that the number of rows in the pre- and post-survey datasets will be the same. The script creates a dictionary called dataset_sizes, where each dataset's name is mapped to its shape (number of rows and columns). It then prints a summary of the dataset sizes, specifying the number of rows and columns for each dataset. This step helps identify discrepancies in dataset dimensions, ensuring that all datasets are correctly formatted and aligned before merging. It also allows for early detection of missing data or unexpected variations in dataset sizes, which could indicate data collection issues or inconsistencies in the panel structure."
   ]
  },
  {
   "cell_type": "code",
   "execution_count": 16,
   "id": "1e471c7a-8184-4d6b-a5a9-1a5489ed94aa",
   "metadata": {},
   "outputs": [
    {
     "name": "stdout",
     "output_type": "stream",
     "text": [
      "\n",
      "Dataset Sizes:\n",
      "Y1_LSA_Pre: 1123 rows, 103 columns\n",
      "Y1_LSA_Post: 1022 rows, 103 columns\n",
      "Y2_LSA_Pre: 1123 rows, 103 columns\n",
      "Y2_LSA_Post: 572 rows, 103 columns\n"
     ]
    }
   ],
   "source": [
    "# Get dataset sizes\n",
    "dataset_sizes = {name: df.shape for name, df in {\n",
    "    \"Y1_LSA_Pre\": y1_lsa_pre,\n",
    "    \"Y1_LSA_Post\": y1_lsa_post,\n",
    "    \"Y2_LSA_Pre\": y2_lsa_pre,\n",
    "    \"Y2_LSA_Post\": y2_lsa_post\n",
    "}.items()}\n",
    "\n",
    "print(\"\\nDataset Sizes:\")\n",
    "for name, size in dataset_sizes.items():\n",
    "    print(f\"{name}: {size[0]} rows, {size[1]} columns\")"
   ]
  },
  {
   "cell_type": "markdown",
   "id": "54ff1838-82b9-4910-a45c-2d92dedbc69f",
   "metadata": {},
   "source": [
    "### Checking retention between pre & post survey in year 1\n",
    "\n",
    "From the above results, we found that the number of rows in Year 1 for the pre- and post-surveys are not the same. Therefore, we want to count the number of ID values that are identical in Y1_LSA_Pre and Y1_LSA_Post to assess the extent of respondent retention between the two survey rounds.\n",
    "\n",
    "This Python script verifies whether the 'ID' column exists in both Y1_LSA_Pre (Year 1 pre-training survey) and Y1_LSA_Post (Year 1 post-training survey). Given that the survey follows a panel design, where the same respondents are surveyed before and after training, we expect the 'ID' column to be present and contain identical values in both datasets.\n",
    "\n",
    "The script first checks if the 'ID' column exists in both datasets. If the column is found, it extracts unique respondent IDs from each dataset and identifies the common IDs by computing the intersection of the two sets. The total number of matching IDs is then printed to confirm the consistency of respondent tracking across the two survey rounds.\n",
    "\n",
    "If the 'ID' column is missing in either dataset, the script issues a warning, indicating a potential data integrity issue. This check is crucial for ensuring that the panel structure is correctly maintained and that the same respondents appear in both survey waves, allowing for reliable pre-post comparisons."
   ]
  },
  {
   "cell_type": "code",
   "execution_count": 18,
   "id": "c2582bfe-ad49-48a1-b47e-9e4eccd1314d",
   "metadata": {},
   "outputs": [
    {
     "name": "stdout",
     "output_type": "stream",
     "text": [
      "\n",
      "✅ Identical IDs count in Y1_LSA_Pre and Y1_LSA_Post: 1021\n"
     ]
    }
   ],
   "source": [
    "# Check if 'ID' column exists in both datasets\n",
    "if \"id\" in y1_lsa_pre.columns and \"id\" in y1_lsa_post.columns:\n",
    "    pre_ids = set(y1_lsa_pre[\"id\"])\n",
    "    post_ids = set(y1_lsa_post[\"id\"])\n",
    "    \n",
    "    # Find common IDs\n",
    "    common_ids = pre_ids.intersection(post_ids)\n",
    "    \n",
    "    print(f\"\\n✅ Identical IDs count in Y1_LSA_Pre and Y1_LSA_Post: {len(common_ids)}\")\n",
    "else:\n",
    "    print(\"\\n⚠️ 'ID' column not found in one or both Y1 datasets!\")"
   ]
  },
  {
   "cell_type": "markdown",
   "id": "eca8b793-017f-434c-887d-51fc5515a2be",
   "metadata": {},
   "source": [
    "### Checking retention betweeen pre &  post in year 2"
   ]
  },
  {
   "cell_type": "code",
   "execution_count": 20,
   "id": "92e8c3c0-d5b4-46b1-93ae-54cd86c3288b",
   "metadata": {},
   "outputs": [
    {
     "name": "stdout",
     "output_type": "stream",
     "text": [
      "\n",
      "✅ Identical IDs count in Y2_LSA_Pre and Y2_LSA_Post: 572\n"
     ]
    }
   ],
   "source": [
    "# Check if 'ID' column exists in both datasets\n",
    "if \"id\" in y2_lsa_pre.columns and \"id\" in y2_lsa_post.columns:\n",
    "    pre_ids = set(y2_lsa_pre[\"id\"])\n",
    "    post_ids = set(y2_lsa_post[\"id\"])\n",
    "    \n",
    "    # Find common IDs\n",
    "    common_ids = pre_ids.intersection(post_ids)\n",
    "    \n",
    "    print(f\"\\n✅ Identical IDs count in Y2_LSA_Pre and Y2_LSA_Post: {len(common_ids)}\")\n",
    "else:\n",
    "    print(\"\\n⚠️ 'ID' column not found in one or both Y2 datasets!\")"
   ]
  },
  {
   "cell_type": "markdown",
   "id": "87bf04c8-cd24-4769-bffc-75a240f33958",
   "metadata": {},
   "source": [
    "### Checking retention between pre in year 1 & post year 2"
   ]
  },
  {
   "cell_type": "code",
   "execution_count": 22,
   "id": "ccdf48f8-3a83-45be-a629-9d4a9f898dee",
   "metadata": {},
   "outputs": [
    {
     "name": "stdout",
     "output_type": "stream",
     "text": [
      "\n",
      "✅ Identical IDs count in Y1_LSA_Pre and Y2_LSA_Post: 0\n"
     ]
    }
   ],
   "source": [
    "# Check if 'ID' column exists in both datasets\n",
    "if \"id\" in y1_lsa_pre.columns and \"id\" in y2_lsa_post.columns:\n",
    "    pre_ids = set(y1_lsa_pre[\"id\"])\n",
    "    post_ids = set(y2_lsa_post[\"id\"])\n",
    "    \n",
    "    # Find common IDs\n",
    "    common_ids = pre_ids.intersection(post_ids)\n",
    "    \n",
    "    print(f\"\\n✅ Identical IDs count in Y1_LSA_Pre and Y2_LSA_Post: {len(common_ids)}\")\n",
    "else:\n",
    "    print(\"\\n⚠️ 'ID' column not found in one or both Y2 datasets!\")"
   ]
  },
  {
   "cell_type": "code",
   "execution_count": null,
   "id": "cc13a84f-7680-46af-aac3-f674c185247a",
   "metadata": {},
   "outputs": [],
   "source": []
  },
  {
   "cell_type": "markdown",
   "id": "35208fd1-dbf6-40c4-be7e-fe85b5e19ed7",
   "metadata": {},
   "source": [
    "### Retaining only matching respondents in year 1 in pre & post\n",
    "\n",
    "Since the previous check revealed that the number of rows in Y1_LSA_Pre and Y1_LSA_Post are not the same, we want to ensure that only respondents who appear in both datasets are retained in Y1_LSA_Pre. This step is essential for maintaining the integrity of the panel survey, where each respondent should have both a pre- and post-training record.\n",
    "\n",
    "The script first verifies whether the 'ID' column exists in both datasets. If present, it filters Y1_LSA_Pre to keep only rows where the 'ID' is also found in Y1_LSA_Post. This ensures that all retained respondents have corresponding post-training records, facilitating accurate pre-post comparisons.\n",
    "\n",
    "If the 'ID' column is missing from one or both datasets, a warning message is displayed, signaling a potential data issue that needs to be addressed. This step helps prevent inconsistencies and ensures that subsequent analyses focus only on respondents with complete survey data for both time points."
   ]
  },
  {
   "cell_type": "code",
   "execution_count": 24,
   "id": "33500b44-ad3b-4148-bcb2-5727b184924e",
   "metadata": {},
   "outputs": [
    {
     "name": "stdout",
     "output_type": "stream",
     "text": [
      "\n",
      "✅ Dropped rows in Y1_LSA_Pre that do not have a matching ID in Y1_LSA_Post\n"
     ]
    }
   ],
   "source": [
    "# Drop rows in Y1_LSA_Pre that do not have a matching ID in Y1_LSA_Post\n",
    "if \"id\" in y1_lsa_pre.columns and \"id\" in y1_lsa_post.columns:\n",
    "    y1_lsa_pre = y1_lsa_pre[y1_lsa_pre[\"id\"].isin(y1_lsa_post[\"id\"])]\n",
    "    print(\"\\n✅ Dropped rows in Y1_LSA_Pre that do not have a matching ID in Y1_LSA_Post\")\n",
    "else:\n",
    "    print(\"\\n⚠️ 'ID' column not found in one or both Y1 datasets!\")"
   ]
  },
  {
   "cell_type": "code",
   "execution_count": 25,
   "id": "ab435e46-7dbc-4fbf-8a24-bc8e16eb96ed",
   "metadata": {},
   "outputs": [
    {
     "name": "stdout",
     "output_type": "stream",
     "text": [
      "\n",
      "⚠️ Mismatch detected! Y1_LSA_Pre has 1025 rows, while Y1_LSA_Post has 1022 rows.\n"
     ]
    }
   ],
   "source": [
    "# Checking the size of datasets in Y1 are same after removing row where id doesn't match\n",
    "\n",
    "# Check if both datasets have the 'ID' column\n",
    "if 'id' in y1_lsa_pre.columns and 'id' in y1_lsa_post.columns:\n",
    "    # Check if both datasets have the same number of rows\n",
    "    if y1_lsa_pre.shape[0] == y1_lsa_post.shape[0]:\n",
    "        print(f\"\\n✅ Both datasets now have the same number of rows: {y1_lsa_pre.shape[0]}\")\n",
    "    else:\n",
    "        print(f\"\\n⚠️ Mismatch detected! Y1_LSA_Pre has {y1_lsa_pre.shape[0]} rows, while Y1_LSA_Post has {y1_lsa_post.shape[0]} rows.\")\n",
    "else:\n",
    "    print(\"\\n⚠️ 'ID' column not found in one or both Y1 datasets!\")"
   ]
  },
  {
   "cell_type": "markdown",
   "id": "c9c2b2e2-fa2a-4f28-846c-8c6ed42efceb",
   "metadata": {},
   "source": [
    "### Checking & removing  for duplicate respondent IDs in Y1_LSA_Pre and Y2_LSA_post\n",
    "The result of the previous cell indicated that the size of the pre- and post-datasets in Y1 is still not the same, even after removing mismatched IDs. This discrepancy could be due to some IDs being duplicated in Y1_LSA_Pre, leading to an inflated row count.\n",
    "\n",
    "This script identifies potential duplicate respondent IDs in the Y1_LSA_Pre dataset to ensure data integrity. Since each respondent should have a unique ID in a panel survey, duplicate entries could indicate data entry errors or inconsistencies that need to be addressed before analysis.\n",
    "\n",
    "The script first counts the occurrences of each ID using the value_counts() function. It then filters for IDs that appear more than once, displaying them to highlight potential duplication issues. If duplicates are found, further investigation is required to determine whether they result from incorrect data entry, multiple survey submissions, or other anomalies."
   ]
  },
  {
   "cell_type": "code",
   "execution_count": 27,
   "id": "44b62659-fce4-4fc8-99a8-ffd99372ad39",
   "metadata": {},
   "outputs": [
    {
     "name": "stdout",
     "output_type": "stream",
     "text": [
      "id\n",
      "3898     2\n",
      "4143     2\n",
      "23410    2\n",
      "7910     2\n",
      "Name: count, dtype: int64\n"
     ]
    }
   ],
   "source": [
    "# Count occurrences of each ID in y1_lsa_pre for checking ID duplicated\n",
    "id_counts = y1_lsa_pre['id'].value_counts()\n",
    "\n",
    "# Filter IDs that appear more than once\n",
    "duplicate_id_counts = id_counts[id_counts > 1]\n",
    "print(duplicate_id_counts)"
   ]
  },
  {
   "cell_type": "code",
   "execution_count": 28,
   "id": "c14281a8-20d1-4ac5-8420-facc27ac9cfe",
   "metadata": {},
   "outputs": [],
   "source": [
    " # Remove Duplicates and Keep the First Occurrence of id in y1_lsa_pre\n",
    "y1_lsa_pre = y1_lsa_pre.drop_duplicates(subset=['id'], keep='first')"
   ]
  },
  {
   "cell_type": "code",
   "execution_count": 29,
   "id": "b256cd42-167f-4e43-b8e9-dd18ec850eaa",
   "metadata": {},
   "outputs": [
    {
     "data": {
      "text/plain": [
       "(1021, 103)"
      ]
     },
     "execution_count": 29,
     "metadata": {},
     "output_type": "execute_result"
    }
   ],
   "source": [
    "y1_lsa_pre.shape"
   ]
  },
  {
   "cell_type": "code",
   "execution_count": 30,
   "id": "116f24d4-e417-4865-95c9-e4b3d6d33214",
   "metadata": {},
   "outputs": [
    {
     "name": "stdout",
     "output_type": "stream",
     "text": [
      "id\n",
      "3015    2\n",
      "Name: count, dtype: int64\n"
     ]
    }
   ],
   "source": [
    "# Count occurrences of each ID in y1_lsa_post for checking ID duplicated\n",
    "id_counts = y1_lsa_post['id'].value_counts()\n",
    "\n",
    "# Filter IDs that appear more than once\n",
    "duplicate_id_counts = id_counts[id_counts > 1]\n",
    "print(duplicate_id_counts)"
   ]
  },
  {
   "cell_type": "code",
   "execution_count": 31,
   "id": "00815b3f-f2f4-4cfb-8e18-9f91388ce053",
   "metadata": {},
   "outputs": [],
   "source": [
    "# Remove Duplicates and Keep the First Occurrence of id in y1_lsa_post\n",
    "y1_lsa_post = y1_lsa_post.drop_duplicates(subset=['id'], keep='first')"
   ]
  },
  {
   "cell_type": "code",
   "execution_count": null,
   "id": "71300aaa-372a-4b82-8dcf-16655911df0d",
   "metadata": {},
   "outputs": [],
   "source": []
  },
  {
   "cell_type": "code",
   "execution_count": 32,
   "id": "474ae952-2664-4b72-8cce-289dcbaed57f",
   "metadata": {},
   "outputs": [
    {
     "name": "stdout",
     "output_type": "stream",
     "text": [
      "\n",
      "✅ Both datasets now have the same number of rows: 1021\n"
     ]
    }
   ],
   "source": [
    "# Checking again the size of datasets in Y1 are same  size after removing rows with duplicated ID\n",
    "\n",
    "# Check if both datasets have the 'ID' column\n",
    "if 'id' in y1_lsa_pre.columns and 'id' in y1_lsa_post.columns:\n",
    "    # Check if both datasets have the same number of rows\n",
    "    if y1_lsa_pre.shape[0] == y1_lsa_post.shape[0]:\n",
    "        print(f\"\\n✅ Both datasets now have the same number of rows: {y1_lsa_pre.shape[0]}\")\n",
    "    else:\n",
    "        print(f\"\\n⚠️ Mismatch detected! Y1_LSA_Pre has {y1_lsa_pre.shape[0]} rows, while Y1_LSA_Post has {y1_lsa_post.shape[0]} rows.\")\n",
    "else:\n",
    "    print(\"\\n⚠️ 'ID' column not found in one or both Y1 datasets!\")"
   ]
  },
  {
   "cell_type": "markdown",
   "id": "09f04992-a109-4ff7-8a36-c2b71b66e227",
   "metadata": {},
   "source": [
    "### Retaining only matching respondents in year 2 in pre & post"
   ]
  },
  {
   "cell_type": "code",
   "execution_count": 34,
   "id": "bc1d05f4-a486-4611-8ef9-d928157e9b17",
   "metadata": {},
   "outputs": [
    {
     "name": "stdout",
     "output_type": "stream",
     "text": [
      "\n",
      "✅ Dropped rows in Y2_LSA_Pre that do not have a matching ID in Y2_LSA_Post\n"
     ]
    }
   ],
   "source": [
    "# Drop rows in Y2_LSA_Pre that do not have a matching ID in Y2_LSA_Post\n",
    "if \"id\" in y2_lsa_pre.columns and \"id\" in y2_lsa_post.columns:\n",
    "    y2_lsa_pre = y2_lsa_pre[y2_lsa_pre[\"id\"].isin(y2_lsa_post[\"id\"])]\n",
    "    print(\"\\n✅ Dropped rows in Y2_LSA_Pre that do not have a matching ID in Y2_LSA_Post\")\n",
    "else:\n",
    "    print(\"\\n⚠️ 'ID' column not found in one or both Y2 datasets!\")"
   ]
  },
  {
   "cell_type": "code",
   "execution_count": 35,
   "id": "6fb8e1e9-0263-4c5f-9e08-ea160befffd2",
   "metadata": {},
   "outputs": [
    {
     "name": "stdout",
     "output_type": "stream",
     "text": [
      "\n",
      "✅ Both datasets now have the same number of rows: 572\n"
     ]
    }
   ],
   "source": [
    "# Checking the size of datasets in Y2 are same after removing row where id doesn't match\n",
    "\n",
    "# Check if both datasets have the 'ID' column\n",
    "if 'id' in y2_lsa_pre.columns and 'id' in y2_lsa_post.columns:\n",
    "    # Check if both datasets have the same number of rows\n",
    "    if y2_lsa_pre.shape[0] == y2_lsa_post.shape[0]:\n",
    "        print(f\"\\n✅ Both datasets now have the same number of rows: {y2_lsa_pre.shape[0]}\")\n",
    "    else:\n",
    "        print(f\"\\n⚠️ Mismatch detected! Y2_LSA_Pre has {y2_lsa_pre.shape[0]} rows, while Y2_LSA_Post has {y2_lsa_post.shape[0]} rows.\")\n",
    "else:\n",
    "    print(\"\\n⚠️ 'ID' column not found in one or both Y2 datasets!\")"
   ]
  },
  {
   "cell_type": "markdown",
   "id": "e9234a71-60a9-4fa8-a32d-a02dd4f78fa6",
   "metadata": {},
   "source": [
    "### Concatenating all Survey Datasets into a Single DataFrame\n",
    "\n",
    "This script  below consolidates the cleaned and structured datasets into a single dataset (df) for further analysis. By combining the pre- and post-survey data from both Year 1 and Year 2, this step ensures that all observations are stored in one unified dataset, facilitating comparisons and statistical analyses.\n",
    "\n",
    "The pd.concat() function is used to merge the four datasets (Y1_LSA_Pre, Y1_LSA_Post, Y2_LSA_Pre, Y2_LSA_Post) while preserving their original structure. The parameter ignore_index=True resets the index in the combined dataset, ensuring a continuous sequence of row indices instead of retaining the original dataset-specific indices.\n",
    "\n",
    "This merged dataset will now be used for further exploratory data analysis, statistical comparisons, and modeling to assess the impact of the training intervention over time."
   ]
  },
  {
   "cell_type": "code",
   "execution_count": 37,
   "id": "92a822c6-e55a-46f6-9e47-2a79aed3d2e1",
   "metadata": {},
   "outputs": [],
   "source": [
    "df = pd.concat([y1_lsa_pre, y1_lsa_post, y2_lsa_pre, y2_lsa_post], ignore_index=True)"
   ]
  },
  {
   "cell_type": "markdown",
   "id": "0baa66b5-dee8-4b4b-84d2-14d64ac92ba4",
   "metadata": {},
   "source": [
    "### Double checking  consistency Pre and Post  after concatenating\n",
    "This script checks whether the number of respondents in pre- and post-surveys is consistent for each survey year after merging the datasets into combined_lsa. Ensuring balance between pre- and post-survey counts is crucial for maintaining the integrity of the panel survey and ensuring valid comparisons. The script filters the dataset to count rows where time_lsa is \"pre\" and \"post\" separately for Year 1 and Year 2, using the conditions on the year and time_lsa columns. It then prints the total number of rows for each category:\n",
    "Pre-training (Year 1)\n",
    "Post-training (Year 1)\n",
    "Pre-training (Year 2)\n",
    "Post-training (Year 2)"
   ]
  },
  {
   "cell_type": "code",
   "execution_count": 39,
   "id": "5cb95d07-f285-4ced-96ae-4b0c4c1ecdb7",
   "metadata": {},
   "outputs": [
    {
     "name": "stdout",
     "output_type": "stream",
     "text": [
      "Number of rows where 'time_lsa' is 'pre' and 'year' is 'year1': 1021\n",
      "Number of rows where 'time_lsa' is 'post' and 'year' is 'year1': 1021\n",
      "Number of rows where 'time_lsa' is 'pre' and 'year' is 'year2': 572\n",
      "Number of rows where 'time_lsa' is 'post' and 'year' is 'year2': 572\n"
     ]
    }
   ],
   "source": [
    "# Count rows where 'time_lsa' == 'pre' and 'year' == 'year1'\n",
    "count_pre_year1 = df[(df[\"time_lsa\"] == \"pre\") & (df[\"year\"] == \"year1\")].shape[0]\n",
    "\n",
    "# Count rows where 'time_lsa' == 'post' and 'year' == 'year1'\n",
    "count_post_year1 = df[(df[\"time_lsa\"] == \"post\") & (df[\"year\"] == \"year1\")].shape[0]\n",
    "\n",
    "# Count rows where 'time_lsa' == 'pre' and 'year' == 'year2'\n",
    "count_pre_year2 = df[(df[\"time_lsa\"] == \"pre\") & (df[\"year\"] == \"year2\")].shape[0]\n",
    "\n",
    "# Count rows where 'time_lsa' == 'post' and 'year' == 'year2'\n",
    "count_post_year2 = df[(df[\"time_lsa\"] == \"post\") & (df[\"year\"] == \"year2\")].shape[0]\n",
    "\n",
    "print(\"Number of rows where 'time_lsa' is 'pre' and 'year' is 'year1':\", count_pre_year1)\n",
    "print(\"Number of rows where 'time_lsa' is 'post' and 'year' is 'year1':\", count_post_year1)\n",
    "print(\"Number of rows where 'time_lsa' is 'pre' and 'year' is 'year2':\", count_pre_year2)\n",
    "print(\"Number of rows where 'time_lsa' is 'post' and 'year' is 'year2':\", count_post_year2)"
   ]
  },
  {
   "cell_type": "markdown",
   "id": "2de88863-3ac9-4b2d-b64f-de6b0933f827",
   "metadata": {},
   "source": [
    "### Ensuring the Concatenated Dataset is Displayed in a Specific Order\n",
    "For convenience, we want the concatenated dataset to be sorted and structured properly. We  will sort the dataset so that:\n",
    "Year 1 - Pre appears first, followed by Year 1 - Post.\n",
    "Year 2 - Pre comes next, followed by Year 2 - Post. then we will reorder columns so that \"year\" and \"time_lsa\" are the first two columns for better readability.We will Display the first five rows to confirm that the dataset is correctly structured."
   ]
  },
  {
   "cell_type": "code",
   "execution_count": 41,
   "id": "9676ce1a-9805-41fc-a4e8-53ded4e3a98d",
   "metadata": {},
   "outputs": [
    {
     "data": {
      "text/html": [
       "<div>\n",
       "<style scoped>\n",
       "    .dataframe tbody tr th:only-of-type {\n",
       "        vertical-align: middle;\n",
       "    }\n",
       "\n",
       "    .dataframe tbody tr th {\n",
       "        vertical-align: top;\n",
       "    }\n",
       "\n",
       "    .dataframe thead th {\n",
       "        text-align: right;\n",
       "    }\n",
       "</style>\n",
       "<table border=\"1\" class=\"dataframe\">\n",
       "  <thead>\n",
       "    <tr style=\"text-align: right;\">\n",
       "      <th></th>\n",
       "      <th>year</th>\n",
       "      <th>time_lsa</th>\n",
       "      <th>province</th>\n",
       "      <th>school</th>\n",
       "      <th>id</th>\n",
       "      <th>gender</th>\n",
       "      <th>grade</th>\n",
       "      <th>field_study</th>\n",
       "      <th>understanding_q1</th>\n",
       "      <th>understanding_q2</th>\n",
       "      <th>...</th>\n",
       "      <th>mindset_q12</th>\n",
       "      <th>mindset_q13</th>\n",
       "      <th>mindset_q14</th>\n",
       "      <th>mindset_q15</th>\n",
       "      <th>mindset_q16</th>\n",
       "      <th>mindset_q17</th>\n",
       "      <th>mindset_q18</th>\n",
       "      <th>mindset_q19</th>\n",
       "      <th>mindset_q20</th>\n",
       "      <th>mindset_q21</th>\n",
       "    </tr>\n",
       "  </thead>\n",
       "  <tbody>\n",
       "    <tr>\n",
       "      <th>0</th>\n",
       "      <td>year1</td>\n",
       "      <td>pre</td>\n",
       "      <td>Jawa Timur</td>\n",
       "      <td>SMKN 2 LUMAJANG</td>\n",
       "      <td>2765.0</td>\n",
       "      <td>1.0</td>\n",
       "      <td>12</td>\n",
       "      <td>TATA BOGA</td>\n",
       "      <td>4.0</td>\n",
       "      <td>4.0</td>\n",
       "      <td>...</td>\n",
       "      <td>4</td>\n",
       "      <td>4</td>\n",
       "      <td>4</td>\n",
       "      <td>4</td>\n",
       "      <td>3</td>\n",
       "      <td>3</td>\n",
       "      <td>4</td>\n",
       "      <td>4</td>\n",
       "      <td>4</td>\n",
       "      <td>4</td>\n",
       "    </tr>\n",
       "    <tr>\n",
       "      <th>1</th>\n",
       "      <td>year1</td>\n",
       "      <td>pre</td>\n",
       "      <td>Jawa Timur</td>\n",
       "      <td>SMKN 2 LUMAJANG</td>\n",
       "      <td>2902.0</td>\n",
       "      <td>1.0</td>\n",
       "      <td>12</td>\n",
       "      <td>TATA KECANTIKAN</td>\n",
       "      <td>4.0</td>\n",
       "      <td>4.0</td>\n",
       "      <td>...</td>\n",
       "      <td>3</td>\n",
       "      <td>4</td>\n",
       "      <td>4</td>\n",
       "      <td>3</td>\n",
       "      <td>3</td>\n",
       "      <td>4</td>\n",
       "      <td>4</td>\n",
       "      <td>3</td>\n",
       "      <td>3</td>\n",
       "      <td>3</td>\n",
       "    </tr>\n",
       "  </tbody>\n",
       "</table>\n",
       "<p>2 rows × 103 columns</p>\n",
       "</div>"
      ],
      "text/plain": [
       "    year time_lsa    province           school      id  gender grade  \\\n",
       "0  year1      pre  Jawa Timur  SMKN 2 LUMAJANG  2765.0     1.0    12   \n",
       "1  year1      pre  Jawa Timur  SMKN 2 LUMAJANG  2902.0     1.0    12   \n",
       "\n",
       "       field_study  understanding_q1  understanding_q2  ...  mindset_q12  \\\n",
       "0        TATA BOGA               4.0               4.0  ...            4   \n",
       "1  TATA KECANTIKAN               4.0               4.0  ...            3   \n",
       "\n",
       "   mindset_q13  mindset_q14  mindset_q15  mindset_q16  mindset_q17  \\\n",
       "0            4            4            4            3            3   \n",
       "1            4            4            3            3            4   \n",
       "\n",
       "   mindset_q18  mindset_q19  mindset_q20  mindset_q21  \n",
       "0            4            4            4            4  \n",
       "1            4            3            3            3  \n",
       "\n",
       "[2 rows x 103 columns]"
      ]
     },
     "execution_count": 41,
     "metadata": {},
     "output_type": "execute_result"
    }
   ],
   "source": [
    "# Define custom categorical order for sorting\n",
    "df[\"year\"] = pd.Categorical(df[\"year\"], categories=[\"year1\", \"year2\"], ordered=True)\n",
    "df[\"time_lsa\"] = pd.Categorical(df[\"time_lsa\"], categories=[\"pre\", \"post\"], ordered=True)\n",
    "\n",
    "# Sort by year first, then by time_lsa\n",
    "df = df.sort_values(by=[\"year\", \"time_lsa\"]).reset_index(drop=True)\n",
    "\n",
    "# Define the desired column order\n",
    "column_order = [\"year\", \"time_lsa\"] + [col for col in df.columns if col not in [\"year\", \"time_lsa\"]]\n",
    "\n",
    "# Reorder the DataFrame\n",
    "df = df[column_order]\n",
    "\n",
    "#viewing the fist 2 rows\n",
    "df.head(2)"
   ]
  },
  {
   "cell_type": "markdown",
   "id": "e6e674bb-dd6f-4c8f-ab0d-92fae19ac548",
   "metadata": {},
   "source": [
    "## 🛠️ 2. Pre-processing of concatenated LSA dataset"
   ]
  },
  {
   "cell_type": "markdown",
   "id": "37926849-c897-40a8-ab4a-6d458f8e658f",
   "metadata": {},
   "source": [
    "### Getting a summary of the concatenated dataset"
   ]
  },
  {
   "cell_type": "code",
   "execution_count": 44,
   "id": "5855e115-f118-4df3-b5fc-19a1090e20ec",
   "metadata": {},
   "outputs": [
    {
     "name": "stdout",
     "output_type": "stream",
     "text": [
      "<class 'pandas.core.frame.DataFrame'>\n",
      "RangeIndex: 3186 entries, 0 to 3185\n",
      "Columns: 103 entries, year to mindset_q21\n",
      "dtypes: category(2), float64(23), int64(74), object(4)\n",
      "memory usage: 2.5+ MB\n"
     ]
    }
   ],
   "source": [
    "df.info()"
   ]
  },
  {
   "cell_type": "code",
   "execution_count": 45,
   "id": "6b075cf6-d773-4bd8-b36c-1c944b8f9720",
   "metadata": {},
   "outputs": [
    {
     "name": "stdout",
     "output_type": "stream",
     "text": [
      "['year', 'time_lsa', 'province', 'school', 'id', 'gender', 'grade', 'field_study', 'understanding_q1', 'understanding_q2', 'understanding_q3', 'understanding_q4', 'understanding_q5', 'understanding_q6', 'understanding_q7', 'understanding_q8', 'understanding_q9', 'relationship_q10', 'relationship_q11', 'relationship_q12', 'relationship_q13', 'relationship_q14', 'relationship_q15', 'relationship_q16', 'relationship_q17', 'relationship_q18', 'relationship_q19', 'relationship_q20', 'relationship_q21', 'hots_q22', 'hots_q23', 'hots_q24', 'hots_q25', 'hots_q26', 'hots_q27', 'hots_q28', 'hots_q29', 'hots_q30', 'hots_q31', 'education_q1', 'education_q2', 'education_q3', 'education_q4', 'education_q5', 'education_q6', 'education_q7', 'education_q8', 'education_q9', 'education_q10', 'education_q11', 'education_q12', 'education_q13', 'education_q14', 'education_q15', 'education_q16', 'entrepreneurship_q1', 'entrepreneurship_q2', 'entrepreneurship_q3', 'entrepreneurship_q4', 'entrepreneurship_q5', 'entrepreneurship_q6', 'entrepreneurship_q7', 'entrepreneurship_q8', 'entrepreneurship_q9', 'entrepreneurship_q10', 'entrepreneurship_q11', 'entrepreneurship_q12', 'entrepreneurship_q13', 'entrepreneurship_q14', 'entrepreneurship_q15', 'employability_q1', 'employability_q2', 'employability_q3', 'employability_q4', 'employability_q5', 'employability_q6', 'employability_q7', 'employability_q8', 'employability_q9', 'employability_q10', 'employability_q11', 'employability_q12', 'mindset_q1', 'mindset_q2', 'mindset_q3', 'mindset_q4', 'mindset_q5', 'mindset_q6', 'mindset_q7', 'mindset_q8', 'mindset_q9', 'mindset_q10', 'mindset_q11', 'mindset_q12', 'mindset_q13', 'mindset_q14', 'mindset_q15', 'mindset_q16', 'mindset_q17', 'mindset_q18', 'mindset_q19', 'mindset_q20', 'mindset_q21']\n"
     ]
    }
   ],
   "source": [
    "# Get the list of column names\n",
    "column_headers = df.columns.tolist()\n",
    "print(column_headers)"
   ]
  },
  {
   "cell_type": "markdown",
   "id": "cfea7185-6b12-4a81-bd89-38b3dc686f5b",
   "metadata": {},
   "source": [
    "###  Checking missing values"
   ]
  },
  {
   "cell_type": "code",
   "execution_count": 47,
   "id": "6111cb0e-9358-4cc5-9ec4-d53885c4ec41",
   "metadata": {},
   "outputs": [
    {
     "name": "stdout",
     "output_type": "stream",
     "text": [
      "school    1021\n",
      "gender    1021\n",
      "dtype: int64\n"
     ]
    }
   ],
   "source": [
    "# Count missing values in each column\n",
    "missing_values = df.isnull().sum()\n",
    "\n",
    "# Display columns with missing values\n",
    "print(missing_values[missing_values > 0])\n"
   ]
  },
  {
   "cell_type": "code",
   "execution_count": 48,
   "id": "75b4dd2a-ab67-4a14-910f-5999e9cef3a7",
   "metadata": {},
   "outputs": [
    {
     "name": "stdout",
     "output_type": "stream",
     "text": [
      "                gender  school\n",
      "year  time_lsa                \n",
      "year1 pre            0       0\n",
      "      post        1021    1021\n",
      "year2 pre            0       0\n",
      "      post           0       0\n"
     ]
    }
   ],
   "source": [
    "# Determining where 'gender' and 'school' are by 'year' and 'time_lsa'\n",
    "missing_values = df.groupby([\"year\", \"time_lsa\"])[[\"gender\", \"school\"]].apply(lambda x: x.isnull().sum())\n",
    "\n",
    "# Display the results\n",
    "print(missing_values)"
   ]
  },
  {
   "cell_type": "markdown",
   "id": "6a18baca-219b-4cf8-a2dd-d10b157bc48f",
   "metadata": {},
   "source": [
    "### Identifying Float Columns in a Dataset\n",
    "\n",
    "The summaries of the dataset we generated earlier showed that we have 23 columns with a float data type. To efficiently identify these columns, we need to extract and displays them using pandas.\n",
    "\n",
    "The script first applies the select_dtypes() function with include=['float'] to filter out only the columns that are stored as floating-point numbers. It then converts the filtered column names into a list using .columns.tolist().\n",
    "\n",
    "Finally, the script prints the list of float columns, providing a quick reference for which numerical variables are stored as floating-point values. This is particularly useful for data cleaning, transformations, and type conversions, ensuring that the dataset is properly structured before further analysis."
   ]
  },
  {
   "cell_type": "code",
   "execution_count": 50,
   "id": "475a3d8c-87c3-4974-a043-8821ea4b8af7",
   "metadata": {},
   "outputs": [
    {
     "name": "stdout",
     "output_type": "stream",
     "text": [
      "['id', 'gender', 'understanding_q1', 'understanding_q2', 'understanding_q3', 'understanding_q4', 'understanding_q5', 'understanding_q6', 'understanding_q7', 'understanding_q8', 'understanding_q9', 'relationship_q10', 'relationship_q11', 'relationship_q12', 'relationship_q13', 'relationship_q14', 'relationship_q15', 'relationship_q16', 'relationship_q17', 'relationship_q18', 'relationship_q19', 'relationship_q20', 'relationship_q21']\n"
     ]
    }
   ],
   "source": [
    "# Get a list of all float columns\n",
    "float_columns = df.select_dtypes(include=['float']).columns.tolist()\n",
    "\n",
    "# Display the list\n",
    "print(float_columns)"
   ]
  },
  {
   "cell_type": "markdown",
   "id": "22ba1c23-8b9f-46c5-b80d-36af7f595f11",
   "metadata": {},
   "source": [
    "### Converting Float Columns to Integer \n",
    "\n",
    "We found that the dataset contains 23 float columns, and we need to convert them to integer format to optimize memory usage and ensure consistency. However, the \"gender\" column is also stored as a float but contains missing values (NaN). Converting it directly to an integer would raise an error because integer columns in pandas cannot store NaN values. To handle this, we first identify all float columns and then exclude \"gender\" from the conversion. The remaining float columns are converted to integer format using .astype(int), ensuring a smooth transformation while preserving the structure of the dataset."
   ]
  },
  {
   "cell_type": "code",
   "execution_count": 52,
   "id": "5239facd-e1d2-4afa-86f6-0234b0523042",
   "metadata": {},
   "outputs": [],
   "source": [
    "# Identify float columns excluding 'gender'\n",
    "float_columns = df.select_dtypes(include=['float']).columns.tolist()\n",
    "float_columns = [col for col in float_columns if col != \"gender\"]  # Exclude 'gender'\n",
    "\n",
    "# Convert the selected float columns to integer\n",
    "df[float_columns] = df[float_columns].astype(int)"
   ]
  },
  {
   "cell_type": "markdown",
   "id": "18aa81c2-8194-4c73-8b22-ae89db0add9f",
   "metadata": {},
   "source": [
    "### Checking the use of  correct reverse scoring for hots_q22\n",
    "\n",
    "If reverse scoring is properly applied, we would expect a negative correlation between the reverse-scored question (hots_q22) and the  direct-scored questions. For testing purpose, we will consider only a few direct-scored questions (hots_q23,hots_q24,hots_q25).\n",
    "\n",
    "This script calculates the Spearman correlation matrix for a subset of variables (hots_q22, hots_q23, hots_q24, hots_q25) in the dataset. The Spearman correlation is a non-parametric measure that evaluates the monotonic relationship between variables, making it useful when data is not normally distributed or when dealing with ordinal variables.The script extracts the relevant columns from the DataFrame (df) and applies the .corr(method='spearman') function to compute the correlation matrix. The resulting matrix shows how strongly each variable is associated with the others on a scale from -1 (strong negative correlation) to 1 (strong positive correlation)."
   ]
  },
  {
   "cell_type": "code",
   "execution_count": 54,
   "id": "33110d3e-2c4d-4b1a-afb0-4029abacb245",
   "metadata": {},
   "outputs": [
    {
     "data": {
      "text/html": [
       "<div>\n",
       "<style scoped>\n",
       "    .dataframe tbody tr th:only-of-type {\n",
       "        vertical-align: middle;\n",
       "    }\n",
       "\n",
       "    .dataframe tbody tr th {\n",
       "        vertical-align: top;\n",
       "    }\n",
       "\n",
       "    .dataframe thead th {\n",
       "        text-align: right;\n",
       "    }\n",
       "</style>\n",
       "<table border=\"1\" class=\"dataframe\">\n",
       "  <thead>\n",
       "    <tr style=\"text-align: right;\">\n",
       "      <th></th>\n",
       "      <th>hots_q22</th>\n",
       "      <th>hots_q23</th>\n",
       "      <th>hots_q24</th>\n",
       "      <th>hots_q25</th>\n",
       "    </tr>\n",
       "  </thead>\n",
       "  <tbody>\n",
       "    <tr>\n",
       "      <th>hots_q22</th>\n",
       "      <td>1.000000</td>\n",
       "      <td>-0.019860</td>\n",
       "      <td>-0.067736</td>\n",
       "      <td>-0.002370</td>\n",
       "    </tr>\n",
       "    <tr>\n",
       "      <th>hots_q23</th>\n",
       "      <td>-0.019860</td>\n",
       "      <td>1.000000</td>\n",
       "      <td>0.568212</td>\n",
       "      <td>0.546985</td>\n",
       "    </tr>\n",
       "    <tr>\n",
       "      <th>hots_q24</th>\n",
       "      <td>-0.067736</td>\n",
       "      <td>0.568212</td>\n",
       "      <td>1.000000</td>\n",
       "      <td>0.559596</td>\n",
       "    </tr>\n",
       "    <tr>\n",
       "      <th>hots_q25</th>\n",
       "      <td>-0.002370</td>\n",
       "      <td>0.546985</td>\n",
       "      <td>0.559596</td>\n",
       "      <td>1.000000</td>\n",
       "    </tr>\n",
       "  </tbody>\n",
       "</table>\n",
       "</div>"
      ],
      "text/plain": [
       "          hots_q22  hots_q23  hots_q24  hots_q25\n",
       "hots_q22  1.000000 -0.019860 -0.067736 -0.002370\n",
       "hots_q23 -0.019860  1.000000  0.568212  0.546985\n",
       "hots_q24 -0.067736  0.568212  1.000000  0.559596\n",
       "hots_q25 -0.002370  0.546985  0.559596  1.000000"
      ]
     },
     "execution_count": 54,
     "metadata": {},
     "output_type": "execute_result"
    }
   ],
   "source": [
    "# Compute Spearman correlation matrix for \n",
    "corr_matrix = df[['hots_q22','hots_q23','hots_q24','hots_q25']].corr(method='spearman')\n",
    "corr_matrix"
   ]
  },
  {
   "cell_type": "markdown",
   "id": "07212ec3-f611-49d2-b09d-fc16a775cadd",
   "metadata": {},
   "source": [
    "### Checking the use of correct reverse scoring for employability reverse scoring. \n",
    "\n",
    "As above we would expect a negative correlation between the reverse-scored questions (employability_q3, employability_q6, employability_q9,employability_q10) a few direct-scored questions (employability_q1, employability_q2,employability_q4)et"
   ]
  },
  {
   "cell_type": "code",
   "execution_count": 56,
   "id": "eedcd685-b708-49d3-aa3e-993aaa423412",
   "metadata": {},
   "outputs": [
    {
     "data": {
      "text/html": [
       "<div>\n",
       "<style scoped>\n",
       "    .dataframe tbody tr th:only-of-type {\n",
       "        vertical-align: middle;\n",
       "    }\n",
       "\n",
       "    .dataframe tbody tr th {\n",
       "        vertical-align: top;\n",
       "    }\n",
       "\n",
       "    .dataframe thead th {\n",
       "        text-align: right;\n",
       "    }\n",
       "</style>\n",
       "<table border=\"1\" class=\"dataframe\">\n",
       "  <thead>\n",
       "    <tr style=\"text-align: right;\">\n",
       "      <th></th>\n",
       "      <th>employability_q3</th>\n",
       "      <th>employability_q6</th>\n",
       "      <th>employability_q9</th>\n",
       "      <th>employability_q10</th>\n",
       "      <th>employability_q1</th>\n",
       "      <th>employability_q2</th>\n",
       "      <th>employability_q4</th>\n",
       "    </tr>\n",
       "  </thead>\n",
       "  <tbody>\n",
       "    <tr>\n",
       "      <th>employability_q3</th>\n",
       "      <td>1.000000</td>\n",
       "      <td>0.493218</td>\n",
       "      <td>0.490473</td>\n",
       "      <td>0.501874</td>\n",
       "      <td>0.130996</td>\n",
       "      <td>0.116997</td>\n",
       "      <td>0.049395</td>\n",
       "    </tr>\n",
       "    <tr>\n",
       "      <th>employability_q6</th>\n",
       "      <td>0.493218</td>\n",
       "      <td>1.000000</td>\n",
       "      <td>0.426667</td>\n",
       "      <td>0.444107</td>\n",
       "      <td>0.132434</td>\n",
       "      <td>0.060541</td>\n",
       "      <td>0.126076</td>\n",
       "    </tr>\n",
       "    <tr>\n",
       "      <th>employability_q9</th>\n",
       "      <td>0.490473</td>\n",
       "      <td>0.426667</td>\n",
       "      <td>1.000000</td>\n",
       "      <td>0.521609</td>\n",
       "      <td>0.094365</td>\n",
       "      <td>0.066387</td>\n",
       "      <td>0.043365</td>\n",
       "    </tr>\n",
       "    <tr>\n",
       "      <th>employability_q10</th>\n",
       "      <td>0.501874</td>\n",
       "      <td>0.444107</td>\n",
       "      <td>0.521609</td>\n",
       "      <td>1.000000</td>\n",
       "      <td>0.186327</td>\n",
       "      <td>0.151285</td>\n",
       "      <td>0.118625</td>\n",
       "    </tr>\n",
       "    <tr>\n",
       "      <th>employability_q1</th>\n",
       "      <td>0.130996</td>\n",
       "      <td>0.132434</td>\n",
       "      <td>0.094365</td>\n",
       "      <td>0.186327</td>\n",
       "      <td>1.000000</td>\n",
       "      <td>0.673546</td>\n",
       "      <td>0.376293</td>\n",
       "    </tr>\n",
       "    <tr>\n",
       "      <th>employability_q2</th>\n",
       "      <td>0.116997</td>\n",
       "      <td>0.060541</td>\n",
       "      <td>0.066387</td>\n",
       "      <td>0.151285</td>\n",
       "      <td>0.673546</td>\n",
       "      <td>1.000000</td>\n",
       "      <td>0.341461</td>\n",
       "    </tr>\n",
       "    <tr>\n",
       "      <th>employability_q4</th>\n",
       "      <td>0.049395</td>\n",
       "      <td>0.126076</td>\n",
       "      <td>0.043365</td>\n",
       "      <td>0.118625</td>\n",
       "      <td>0.376293</td>\n",
       "      <td>0.341461</td>\n",
       "      <td>1.000000</td>\n",
       "    </tr>\n",
       "  </tbody>\n",
       "</table>\n",
       "</div>"
      ],
      "text/plain": [
       "                   employability_q3  employability_q6  employability_q9  \\\n",
       "employability_q3           1.000000          0.493218          0.490473   \n",
       "employability_q6           0.493218          1.000000          0.426667   \n",
       "employability_q9           0.490473          0.426667          1.000000   \n",
       "employability_q10          0.501874          0.444107          0.521609   \n",
       "employability_q1           0.130996          0.132434          0.094365   \n",
       "employability_q2           0.116997          0.060541          0.066387   \n",
       "employability_q4           0.049395          0.126076          0.043365   \n",
       "\n",
       "                   employability_q10  employability_q1  employability_q2  \\\n",
       "employability_q3            0.501874          0.130996          0.116997   \n",
       "employability_q6            0.444107          0.132434          0.060541   \n",
       "employability_q9            0.521609          0.094365          0.066387   \n",
       "employability_q10           1.000000          0.186327          0.151285   \n",
       "employability_q1            0.186327          1.000000          0.673546   \n",
       "employability_q2            0.151285          0.673546          1.000000   \n",
       "employability_q4            0.118625          0.376293          0.341461   \n",
       "\n",
       "                   employability_q4  \n",
       "employability_q3           0.049395  \n",
       "employability_q6           0.126076  \n",
       "employability_q9           0.043365  \n",
       "employability_q10          0.118625  \n",
       "employability_q1           0.376293  \n",
       "employability_q2           0.341461  \n",
       "employability_q4           1.000000  "
      ]
     },
     "execution_count": 56,
     "metadata": {},
     "output_type": "execute_result"
    }
   ],
   "source": [
    "# Compute Spearman correlation matrix for \n",
    "corr_matrix = df[['employability_q3','employability_q6','employability_q9','employability_q10','employability_q1','employability_q2'\n",
    "                  ,'employability_q4']].corr(method='spearman')\n",
    "corr_matrix"
   ]
  },
  {
   "cell_type": "markdown",
   "id": "bee98c3e-1f3e-4771-90c5-62d8420009ce",
   "metadata": {},
   "source": [
    "### Correcting Reverse-Scored Questions Based on Correlation Evidence\n",
    "\n",
    "The correlation analysis provided evidence that reverse-scored questions were incorrectly coded during data collection. This means that the response values for these questions were recorded in the opposite scale, which can lead to incorrect interpretations.To correct this, we must apply a transformation to reverse-score the affected responses using the following mapping:\n",
    "\n",
    "1 → 4,\n",
    "2 → 3,\n",
    "3 → 2,\n",
    "4 → 1.\n",
    "This transformation ensures that the response scales are correctly aligned, allowing for accurate analysis and interpretation of the data."
   ]
  },
  {
   "cell_type": "code",
   "execution_count": 58,
   "id": "49afa84f-33f5-4a04-afd3-a185e8c0d2ad",
   "metadata": {},
   "outputs": [],
   "source": [
    "# Define the mapping for recoding values\n",
    "recode_mapping = {4: 1, 3: 2, 2: 3, 1: 4}\n",
    "\n",
    "# List of columns to recode\n",
    "columns_to_recode = ['hots_q22', 'employability_q3', 'employability_q6', 'employability_q9', 'employability_q10',\n",
    "                    'entrepreneurship_q3','entrepreneurship_q6','entrepreneurship_q7','entrepreneurship_q10','entrepreneurship_q14',\n",
    "                    'mindset_q1','mindset_q4','mindset_q9']\n",
    "\n",
    "# Apply the mapping to the selected columns\n",
    "df[columns_to_recode] = df[columns_to_recode].replace(recode_mapping)"
   ]
  },
  {
   "cell_type": "markdown",
   "id": "c50fe499-9e4e-45df-ab35-6fa20b9b91e9",
   "metadata": {},
   "source": [
    "### Generating Composite Scores for Life Skills, Employability, and Mindset\n",
    "\n",
    "\n",
    "We calculated the composite scores for several skill domains by summing responses across related survey questions. These aggregated scores help summarize and quantify individual competencies in broader constructs like life skills, employability, and mindset. \n",
    "\n",
    "* understanding_score is calculated as the sum of responses to questions from understanding_q1 to understanding_q9.\n",
    "\n",
    "* relationship_score is based on the sum of responses from relationship_q10 to relationship_q21.\n",
    "\n",
    "* hots_score (Higher Order Thinking Skills) aggregates values from hots_q22 to hots_q31.\n",
    "\n",
    "* life_skill_score is the total of the above three scores: understanding, relationship, and HOTS—representing a composite view of life skills.\n",
    "\n",
    "* employability_score is calculated from employability_q1 to employability_q12, capturing the overall employability dimension.\n",
    "\n",
    "* mindset_score is derived from the total of responses to mindset_q1 to mindset_q21, reflecting the participant’s mindset orientation."
   ]
  },
  {
   "cell_type": "code",
   "execution_count": 60,
   "id": "26c91ab6-0253-4623-a183-f687e7ee04c6",
   "metadata": {},
   "outputs": [
    {
     "data": {
      "text/html": [
       "<div>\n",
       "<style scoped>\n",
       "    .dataframe tbody tr th:only-of-type {\n",
       "        vertical-align: middle;\n",
       "    }\n",
       "\n",
       "    .dataframe tbody tr th {\n",
       "        vertical-align: top;\n",
       "    }\n",
       "\n",
       "    .dataframe thead th {\n",
       "        text-align: right;\n",
       "    }\n",
       "</style>\n",
       "<table border=\"1\" class=\"dataframe\">\n",
       "  <thead>\n",
       "    <tr style=\"text-align: right;\">\n",
       "      <th></th>\n",
       "      <th>year</th>\n",
       "      <th>time_lsa</th>\n",
       "      <th>province</th>\n",
       "      <th>school</th>\n",
       "      <th>id</th>\n",
       "      <th>gender</th>\n",
       "      <th>grade</th>\n",
       "      <th>field_study</th>\n",
       "      <th>understanding_q1</th>\n",
       "      <th>understanding_q2</th>\n",
       "      <th>...</th>\n",
       "      <th>mindset_q18</th>\n",
       "      <th>mindset_q19</th>\n",
       "      <th>mindset_q20</th>\n",
       "      <th>mindset_q21</th>\n",
       "      <th>understanding_score</th>\n",
       "      <th>relationship_score</th>\n",
       "      <th>hots_score</th>\n",
       "      <th>life_skill_score</th>\n",
       "      <th>employability_score</th>\n",
       "      <th>mindset_score</th>\n",
       "    </tr>\n",
       "  </thead>\n",
       "  <tbody>\n",
       "    <tr>\n",
       "      <th>0</th>\n",
       "      <td>year1</td>\n",
       "      <td>pre</td>\n",
       "      <td>Jawa Timur</td>\n",
       "      <td>SMKN 2 LUMAJANG</td>\n",
       "      <td>2765</td>\n",
       "      <td>1.0</td>\n",
       "      <td>12</td>\n",
       "      <td>TATA BOGA</td>\n",
       "      <td>4</td>\n",
       "      <td>4</td>\n",
       "      <td>...</td>\n",
       "      <td>4</td>\n",
       "      <td>4</td>\n",
       "      <td>4</td>\n",
       "      <td>4</td>\n",
       "      <td>35</td>\n",
       "      <td>42</td>\n",
       "      <td>33</td>\n",
       "      <td>110</td>\n",
       "      <td>42</td>\n",
       "      <td>76</td>\n",
       "    </tr>\n",
       "    <tr>\n",
       "      <th>1</th>\n",
       "      <td>year1</td>\n",
       "      <td>pre</td>\n",
       "      <td>Jawa Timur</td>\n",
       "      <td>SMKN 2 LUMAJANG</td>\n",
       "      <td>2902</td>\n",
       "      <td>1.0</td>\n",
       "      <td>12</td>\n",
       "      <td>TATA KECANTIKAN</td>\n",
       "      <td>4</td>\n",
       "      <td>4</td>\n",
       "      <td>...</td>\n",
       "      <td>4</td>\n",
       "      <td>3</td>\n",
       "      <td>3</td>\n",
       "      <td>3</td>\n",
       "      <td>28</td>\n",
       "      <td>37</td>\n",
       "      <td>28</td>\n",
       "      <td>93</td>\n",
       "      <td>35</td>\n",
       "      <td>71</td>\n",
       "    </tr>\n",
       "    <tr>\n",
       "      <th>2</th>\n",
       "      <td>year1</td>\n",
       "      <td>pre</td>\n",
       "      <td>Jawa Timur</td>\n",
       "      <td>SMKN 2 LUMAJANG</td>\n",
       "      <td>15970</td>\n",
       "      <td>1.0</td>\n",
       "      <td>12</td>\n",
       "      <td>TATA KECANTIKAN</td>\n",
       "      <td>4</td>\n",
       "      <td>4</td>\n",
       "      <td>...</td>\n",
       "      <td>3</td>\n",
       "      <td>3</td>\n",
       "      <td>3</td>\n",
       "      <td>3</td>\n",
       "      <td>29</td>\n",
       "      <td>36</td>\n",
       "      <td>29</td>\n",
       "      <td>94</td>\n",
       "      <td>34</td>\n",
       "      <td>59</td>\n",
       "    </tr>\n",
       "    <tr>\n",
       "      <th>3</th>\n",
       "      <td>year1</td>\n",
       "      <td>pre</td>\n",
       "      <td>Jawa Timur</td>\n",
       "      <td>SMKN 2 LUMAJANG</td>\n",
       "      <td>2889</td>\n",
       "      <td>1.0</td>\n",
       "      <td>12</td>\n",
       "      <td>TATA KECANTIKAN</td>\n",
       "      <td>4</td>\n",
       "      <td>4</td>\n",
       "      <td>...</td>\n",
       "      <td>4</td>\n",
       "      <td>4</td>\n",
       "      <td>4</td>\n",
       "      <td>4</td>\n",
       "      <td>36</td>\n",
       "      <td>48</td>\n",
       "      <td>40</td>\n",
       "      <td>124</td>\n",
       "      <td>48</td>\n",
       "      <td>84</td>\n",
       "    </tr>\n",
       "    <tr>\n",
       "      <th>4</th>\n",
       "      <td>year1</td>\n",
       "      <td>pre</td>\n",
       "      <td>Jawa Timur</td>\n",
       "      <td>SMKN 2 LUMAJANG</td>\n",
       "      <td>2895</td>\n",
       "      <td>1.0</td>\n",
       "      <td>12</td>\n",
       "      <td>TATA KECANTIKAN</td>\n",
       "      <td>3</td>\n",
       "      <td>4</td>\n",
       "      <td>...</td>\n",
       "      <td>3</td>\n",
       "      <td>3</td>\n",
       "      <td>3</td>\n",
       "      <td>3</td>\n",
       "      <td>27</td>\n",
       "      <td>37</td>\n",
       "      <td>29</td>\n",
       "      <td>93</td>\n",
       "      <td>33</td>\n",
       "      <td>65</td>\n",
       "    </tr>\n",
       "  </tbody>\n",
       "</table>\n",
       "<p>5 rows × 109 columns</p>\n",
       "</div>"
      ],
      "text/plain": [
       "    year time_lsa    province           school     id  gender grade  \\\n",
       "0  year1      pre  Jawa Timur  SMKN 2 LUMAJANG   2765     1.0    12   \n",
       "1  year1      pre  Jawa Timur  SMKN 2 LUMAJANG   2902     1.0    12   \n",
       "2  year1      pre  Jawa Timur  SMKN 2 LUMAJANG  15970     1.0    12   \n",
       "3  year1      pre  Jawa Timur  SMKN 2 LUMAJANG   2889     1.0    12   \n",
       "4  year1      pre  Jawa Timur  SMKN 2 LUMAJANG   2895     1.0    12   \n",
       "\n",
       "       field_study  understanding_q1  understanding_q2  ...  mindset_q18  \\\n",
       "0        TATA BOGA                 4                 4  ...            4   \n",
       "1  TATA KECANTIKAN                 4                 4  ...            4   \n",
       "2  TATA KECANTIKAN                 4                 4  ...            3   \n",
       "3  TATA KECANTIKAN                 4                 4  ...            4   \n",
       "4  TATA KECANTIKAN                 3                 4  ...            3   \n",
       "\n",
       "   mindset_q19  mindset_q20  mindset_q21  understanding_score  \\\n",
       "0            4            4            4                   35   \n",
       "1            3            3            3                   28   \n",
       "2            3            3            3                   29   \n",
       "3            4            4            4                   36   \n",
       "4            3            3            3                   27   \n",
       "\n",
       "   relationship_score  hots_score  life_skill_score  employability_score  \\\n",
       "0                  42          33               110                   42   \n",
       "1                  37          28                93                   35   \n",
       "2                  36          29                94                   34   \n",
       "3                  48          40               124                   48   \n",
       "4                  37          29                93                   33   \n",
       "\n",
       "   mindset_score  \n",
       "0             76  \n",
       "1             71  \n",
       "2             59  \n",
       "3             84  \n",
       "4             65  \n",
       "\n",
       "[5 rows x 109 columns]"
      ]
     },
     "execution_count": 60,
     "metadata": {},
     "output_type": "execute_result"
    }
   ],
   "source": [
    "# Creating the undestanding_score column (sum of \"understanding_q1\" to \"understanding_q9\")\n",
    "df[\"understanding_score\"] = df.loc[:, \"understanding_q1\":\"understanding_q9\"].sum(axis=1)\n",
    "# Creating the relationship_score column (sum of 'relationship_q10' to 'relationship_q21')\n",
    "df[\"relationship_score\"] = df.loc[:, \"relationship_q10\":\"relationship_q21\"].sum(axis=1)\n",
    "# Creating the relationship_score column (sum of 'relationship_q10' to 'relationship_q21')\n",
    "df[\"hots_score\"] = df.loc[:, \"hots_q22\":\"hots_q31\"].sum(axis=1)\n",
    "# Creating the life_skill _score column (sum of understanding, relationship and hots socres)\n",
    "df[\"life_skill_score\"] = df[\"understanding_score\"]+df[\"relationship_score\"]+df[\"hots_score\"]\n",
    "# Creating the employability_score column (sum of 'employability_q1' to 'employability_q12')\n",
    "df[\"employability_score\"] = df.loc[:, \"employability_q1\":\"employability_q12\"].sum(axis=1)\n",
    "# Creating the mindset_score column (sum of 'mindset_q1' to 'mindset_q21')\n",
    "df[\"mindset_score\"] = df.loc[:, \"mindset_q1\":\"mindset_q21\"].sum(axis=1)\n",
    "\n",
    "df.head()"
   ]
  },
  {
   "cell_type": "code",
   "execution_count": 61,
   "id": "5dddc0a3-7cae-4cdd-b972-f50016b7b5e4",
   "metadata": {},
   "outputs": [],
   "source": [
    "# Save the DataFrame to a specific path on the D: drive \n",
    "df.to_csv(\"D:/S2S_FE/Indonesia_data/df.csv\", index=False)"
   ]
  },
  {
   "cell_type": "markdown",
   "id": "3420b893-e51d-4493-961b-d01fd6d042d0",
   "metadata": {},
   "source": [
    "## 📈 3. LSAs score data analysis "
   ]
  },
  {
   "cell_type": "markdown",
   "id": "bc78b5f2-243a-453d-a86d-9af0ea9e1733",
   "metadata": {},
   "source": [
    "In this analysis, we assess the distribution and changes in two key scores — the Life Skills Score and the Employability Score — before and after the training (Pre and Post) for participants in both Year 1 and Year 2.\n",
    "\n",
    "The Life Skills Score is a composite indicator that captures three essential dimensions:\n",
    "\n",
    "* Understanding Self\n",
    "* Relationship Skills\n",
    "* Higher-Order Thinking Skills (HOTS)\n",
    "\n",
    "The Employability Score reflects participants’ readiness for the job market and their perceived employability.\n",
    "\n",
    "For each year, the analysis will:\n",
    "\n",
    "* Visualize Pre and Post score distributions using side-by-side histograms\n",
    "* Summarize the results with descriptive statistics (mean, median, range, percentiles)\n",
    "* Apply the Wilcoxon signed-rank test — a non-parametric method suited for paired (panel) data — to assess whether observed changes after the training are statistically significant\n",
    "\n",
    "This year-by-year breakdown provides a more nuanced understanding of the training’s impact across different implementation periods.\n",
    "\n",
    "For each score and each year, we will summarize the main insights, focusing on distribution shifts, changes in central values, and the results of the statistical tests.\n",
    "\n",
    "Lastly, a key question in this analysis is whether improvements in life skills are associated with gains in employability. Given that both domains are targeted by the training program, it is important to understand whether progress in one area translates into measurable outcomes in the other. To explore this relationship, we calculate change scores for each participant by subtracting their pre-training score from their post-training score, for both Life Skills and Employability. We then assess the strength and direction of the association between these change scores using Spearman’s rank correlation as we  did not assume a linear relationship or normally distributed variables — it's based on the rank order of values, making it ideal when data may not meet parametric assumptions.  This analysis is conducted separately for Year 1 and Year 2, and then visualized together to compare trends across cohorts.\n"
   ]
  },
  {
   "cell_type": "code",
   "execution_count": 64,
   "id": "9b2914e4-6fc8-485b-acb7-b68f5925bf94",
   "metadata": {},
   "outputs": [],
   "source": [
    "import matplotlib.pyplot as plt\n",
    "import seaborn as sns\n",
    "from scipy.stats import wilcoxon"
   ]
  },
  {
   "cell_type": "code",
   "execution_count": 65,
   "id": "170a3969-ae11-4d2a-8afe-8fa6ac7aa106",
   "metadata": {},
   "outputs": [],
   "source": [
    "# Filter data for year = 'year1' and time_lsa = 'pre'\n",
    "df_y1_pre = df[(df[\"year\"] == \"year1\") & (df[\"time_lsa\"] == \"pre\")]\n",
    "# Filter data for year = 'year1' and time_lsa = 'post'\n",
    "df_y1_post = df[(df[\"year\"] == \"year1\") & (df[\"time_lsa\"] == \"post\")]\n",
    "# Filter data for year = 'year2' and time_lsa = 'pre'\n",
    "df_y2_pre = df[(df[\"year\"] == \"year2\") & (df[\"time_lsa\"] == \"pre\")]\n",
    "# Filter data for year = 'year2' and time_lsa = 'post'\n",
    "df_y2_post = df[(df[\"year\"] == \"year2\") & (df[\"time_lsa\"] == \"post\")]"
   ]
  },
  {
   "cell_type": "code",
   "execution_count": 66,
   "id": "4e11d28b-3586-411e-a312-efc933167bfc",
   "metadata": {},
   "outputs": [
    {
     "data": {
      "text/html": [
       "<div>\n",
       "<style scoped>\n",
       "    .dataframe tbody tr th:only-of-type {\n",
       "        vertical-align: middle;\n",
       "    }\n",
       "\n",
       "    .dataframe tbody tr th {\n",
       "        vertical-align: top;\n",
       "    }\n",
       "\n",
       "    .dataframe thead th {\n",
       "        text-align: right;\n",
       "    }\n",
       "</style>\n",
       "<table border=\"1\" class=\"dataframe\">\n",
       "  <thead>\n",
       "    <tr style=\"text-align: right;\">\n",
       "      <th></th>\n",
       "      <th>year</th>\n",
       "      <th>time_lsa</th>\n",
       "      <th>province</th>\n",
       "      <th>school</th>\n",
       "      <th>id</th>\n",
       "      <th>gender</th>\n",
       "      <th>grade</th>\n",
       "      <th>field_study</th>\n",
       "      <th>understanding_q1</th>\n",
       "      <th>understanding_q2</th>\n",
       "      <th>...</th>\n",
       "      <th>mindset_q18</th>\n",
       "      <th>mindset_q19</th>\n",
       "      <th>mindset_q20</th>\n",
       "      <th>mindset_q21</th>\n",
       "      <th>understanding_score</th>\n",
       "      <th>relationship_score</th>\n",
       "      <th>hots_score</th>\n",
       "      <th>life_skill_score</th>\n",
       "      <th>employability_score</th>\n",
       "      <th>mindset_score</th>\n",
       "    </tr>\n",
       "  </thead>\n",
       "  <tbody>\n",
       "    <tr>\n",
       "      <th>1021</th>\n",
       "      <td>year1</td>\n",
       "      <td>post</td>\n",
       "      <td>SMKN 1 SURABAYA</td>\n",
       "      <td>NaN</td>\n",
       "      <td>4846</td>\n",
       "      <td>NaN</td>\n",
       "      <td>Alumni</td>\n",
       "      <td>Akuntansi &amp; Keuangan Lembaga</td>\n",
       "      <td>4</td>\n",
       "      <td>4</td>\n",
       "      <td>...</td>\n",
       "      <td>2</td>\n",
       "      <td>3</td>\n",
       "      <td>4</td>\n",
       "      <td>2</td>\n",
       "      <td>29</td>\n",
       "      <td>41</td>\n",
       "      <td>29</td>\n",
       "      <td>99</td>\n",
       "      <td>31</td>\n",
       "      <td>62</td>\n",
       "    </tr>\n",
       "    <tr>\n",
       "      <th>1022</th>\n",
       "      <td>year1</td>\n",
       "      <td>post</td>\n",
       "      <td>SMKN 1 SURABAYA</td>\n",
       "      <td>NaN</td>\n",
       "      <td>29287</td>\n",
       "      <td>NaN</td>\n",
       "      <td>Alumni</td>\n",
       "      <td>Perhotelan</td>\n",
       "      <td>4</td>\n",
       "      <td>3</td>\n",
       "      <td>...</td>\n",
       "      <td>3</td>\n",
       "      <td>2</td>\n",
       "      <td>3</td>\n",
       "      <td>3</td>\n",
       "      <td>26</td>\n",
       "      <td>36</td>\n",
       "      <td>29</td>\n",
       "      <td>91</td>\n",
       "      <td>30</td>\n",
       "      <td>58</td>\n",
       "    </tr>\n",
       "    <tr>\n",
       "      <th>1023</th>\n",
       "      <td>year1</td>\n",
       "      <td>post</td>\n",
       "      <td>SMKN 1 SURABAYA</td>\n",
       "      <td>NaN</td>\n",
       "      <td>29254</td>\n",
       "      <td>NaN</td>\n",
       "      <td>Alumni</td>\n",
       "      <td>Perhotelan dan Jasa Pariwisata</td>\n",
       "      <td>4</td>\n",
       "      <td>4</td>\n",
       "      <td>...</td>\n",
       "      <td>4</td>\n",
       "      <td>4</td>\n",
       "      <td>4</td>\n",
       "      <td>4</td>\n",
       "      <td>31</td>\n",
       "      <td>37</td>\n",
       "      <td>30</td>\n",
       "      <td>98</td>\n",
       "      <td>38</td>\n",
       "      <td>70</td>\n",
       "    </tr>\n",
       "    <tr>\n",
       "      <th>1024</th>\n",
       "      <td>year1</td>\n",
       "      <td>post</td>\n",
       "      <td>SMKN 1 SURABAYA</td>\n",
       "      <td>NaN</td>\n",
       "      <td>5044</td>\n",
       "      <td>NaN</td>\n",
       "      <td>Alumni</td>\n",
       "      <td>Rekayasa Perangkat Lunak</td>\n",
       "      <td>4</td>\n",
       "      <td>3</td>\n",
       "      <td>...</td>\n",
       "      <td>3</td>\n",
       "      <td>3</td>\n",
       "      <td>3</td>\n",
       "      <td>2</td>\n",
       "      <td>24</td>\n",
       "      <td>32</td>\n",
       "      <td>28</td>\n",
       "      <td>84</td>\n",
       "      <td>34</td>\n",
       "      <td>64</td>\n",
       "    </tr>\n",
       "    <tr>\n",
       "      <th>1025</th>\n",
       "      <td>year1</td>\n",
       "      <td>post</td>\n",
       "      <td>SMKN 1 SURABAYA</td>\n",
       "      <td>NaN</td>\n",
       "      <td>5291</td>\n",
       "      <td>NaN</td>\n",
       "      <td>Alumni</td>\n",
       "      <td>AKUNTANSI</td>\n",
       "      <td>3</td>\n",
       "      <td>4</td>\n",
       "      <td>...</td>\n",
       "      <td>4</td>\n",
       "      <td>3</td>\n",
       "      <td>4</td>\n",
       "      <td>3</td>\n",
       "      <td>28</td>\n",
       "      <td>41</td>\n",
       "      <td>34</td>\n",
       "      <td>103</td>\n",
       "      <td>39</td>\n",
       "      <td>77</td>\n",
       "    </tr>\n",
       "  </tbody>\n",
       "</table>\n",
       "<p>5 rows × 109 columns</p>\n",
       "</div>"
      ],
      "text/plain": [
       "       year time_lsa         province school     id  gender   grade  \\\n",
       "1021  year1     post  SMKN 1 SURABAYA    NaN   4846     NaN  Alumni   \n",
       "1022  year1     post  SMKN 1 SURABAYA    NaN  29287     NaN  Alumni   \n",
       "1023  year1     post  SMKN 1 SURABAYA    NaN  29254     NaN  Alumni   \n",
       "1024  year1     post  SMKN 1 SURABAYA    NaN   5044     NaN  Alumni   \n",
       "1025  year1     post  SMKN 1 SURABAYA    NaN   5291     NaN  Alumni   \n",
       "\n",
       "                         field_study  understanding_q1  understanding_q2  ...  \\\n",
       "1021    Akuntansi & Keuangan Lembaga                 4                 4  ...   \n",
       "1022                      Perhotelan                 4                 3  ...   \n",
       "1023  Perhotelan dan Jasa Pariwisata                 4                 4  ...   \n",
       "1024        Rekayasa Perangkat Lunak                 4                 3  ...   \n",
       "1025                       AKUNTANSI                 3                 4  ...   \n",
       "\n",
       "      mindset_q18  mindset_q19  mindset_q20  mindset_q21  understanding_score  \\\n",
       "1021            2            3            4            2                   29   \n",
       "1022            3            2            3            3                   26   \n",
       "1023            4            4            4            4                   31   \n",
       "1024            3            3            3            2                   24   \n",
       "1025            4            3            4            3                   28   \n",
       "\n",
       "      relationship_score  hots_score  life_skill_score  employability_score  \\\n",
       "1021                  41          29                99                   31   \n",
       "1022                  36          29                91                   30   \n",
       "1023                  37          30                98                   38   \n",
       "1024                  32          28                84                   34   \n",
       "1025                  41          34               103                   39   \n",
       "\n",
       "      mindset_score  \n",
       "1021             62  \n",
       "1022             58  \n",
       "1023             70  \n",
       "1024             64  \n",
       "1025             77  \n",
       "\n",
       "[5 rows x 109 columns]"
      ]
     },
     "execution_count": 66,
     "metadata": {},
     "output_type": "execute_result"
    }
   ],
   "source": [
    "df_y1_post.head()"
   ]
  },
  {
   "cell_type": "markdown",
   "id": "b5ab4fbe-35b3-498f-a563-a20fc8ecaf2a",
   "metadata": {},
   "source": [
    "### Life Skills : Analysis for  Year 1"
   ]
  },
  {
   "cell_type": "code",
   "execution_count": 68,
   "id": "ee6a5c1c-723f-4729-8a51-01f0cc24c237",
   "metadata": {},
   "outputs": [
    {
     "data": {
      "image/png": "[encoded data removed]",
      "text/plain": [
       "<Figure size 1400x600 with 2 Axes>"
      ]
     },
     "metadata": {},
     "output_type": "display_data"
    }
   ],
   "source": [
    "# SIDE BY SID HISTOGRAM\n",
    "\n",
    "# Calculate means for insights\n",
    "mean_pre = df_y1_pre[\"life_skill_score\"].mean()\n",
    "mean_post = df_y1_post[\"life_skill_score\"].mean()\n",
    "\n",
    "# Create side-by-side histograms for understanding self in pre and post in year 1\n",
    "fig, axes = plt.subplots(nrows=1, ncols=2, figsize=(14, 6), sharey=True)\n",
    "\n",
    "# Plot Pre\n",
    "axes[0].hist(df_y1_pre[\"life_skill_score\"].dropna(), bins=10, edgecolor='black', color='skyblue')\n",
    "axes[0].axvline(mean_pre, color='red', linestyle='dashed', linewidth=1.5, label=f\"Mean = {mean_pre:.1f}\")\n",
    "axes[0].set_title(\"Life Skills Score\\n(Year 1 - Pre)\")\n",
    "axes[0].set_xlabel(\"Score\")\n",
    "axes[0].set_ylabel(\"Frequency\")\n",
    "axes[0].grid(axis='y', linestyle='--', alpha=0.7)\n",
    "axes[0].legend()\n",
    "\n",
    "# Plot Post\n",
    "axes[1].hist(df_y1_post[\"life_skill_score\"].dropna(), bins=10, edgecolor='black', color='lightgreen')\n",
    "axes[1].axvline(mean_post, color='red', linestyle='dashed', linewidth=1.5, label=f\"Mean = {mean_post:.1f}\")\n",
    "axes[1].set_title(\"Life Skills Score\\n(Year 1 - Post)\")\n",
    "axes[1].set_xlabel(\"Score\")\n",
    "axes[1].grid(axis='y', linestyle='--', alpha=0.7)\n",
    "axes[1].legend()\n",
    "\n",
    "plt.tight_layout()\n",
    "plt.show()"
   ]
  },
  {
   "cell_type": "code",
   "execution_count": 69,
   "id": "529c8604-1490-4422-9dcf-e88ad935efb9",
   "metadata": {},
   "outputs": [
    {
     "data": {
      "text/html": [
       "<div>\n",
       "<style scoped>\n",
       "    .dataframe tbody tr th:only-of-type {\n",
       "        vertical-align: middle;\n",
       "    }\n",
       "\n",
       "    .dataframe tbody tr th {\n",
       "        vertical-align: top;\n",
       "    }\n",
       "\n",
       "    .dataframe thead th {\n",
       "        text-align: right;\n",
       "    }\n",
       "</style>\n",
       "<table border=\"1\" class=\"dataframe\">\n",
       "  <thead>\n",
       "    <tr style=\"text-align: right;\">\n",
       "      <th></th>\n",
       "      <th>count</th>\n",
       "      <th>mean</th>\n",
       "      <th>std</th>\n",
       "      <th>min</th>\n",
       "      <th>25%</th>\n",
       "      <th>50%</th>\n",
       "      <th>75%</th>\n",
       "      <th>max</th>\n",
       "    </tr>\n",
       "  </thead>\n",
       "  <tbody>\n",
       "    <tr>\n",
       "      <th>Y1_Pre</th>\n",
       "      <td>1021.0</td>\n",
       "      <td>99.180215</td>\n",
       "      <td>10.029605</td>\n",
       "      <td>58.0</td>\n",
       "      <td>92.0</td>\n",
       "      <td>96.0</td>\n",
       "      <td>105.0</td>\n",
       "      <td>124.0</td>\n",
       "    </tr>\n",
       "    <tr>\n",
       "      <th>Y1_Post</th>\n",
       "      <td>1021.0</td>\n",
       "      <td>101.625857</td>\n",
       "      <td>10.734089</td>\n",
       "      <td>31.0</td>\n",
       "      <td>93.0</td>\n",
       "      <td>99.0</td>\n",
       "      <td>110.0</td>\n",
       "      <td>124.0</td>\n",
       "    </tr>\n",
       "  </tbody>\n",
       "</table>\n",
       "</div>"
      ],
      "text/plain": [
       "          count        mean        std   min   25%   50%    75%    max\n",
       "Y1_Pre   1021.0   99.180215  10.029605  58.0  92.0  96.0  105.0  124.0\n",
       "Y1_Post  1021.0  101.625857  10.734089  31.0  93.0  99.0  110.0  124.0"
      ]
     },
     "execution_count": 69,
     "metadata": {},
     "output_type": "execute_result"
    }
   ],
   "source": [
    "# Create a dictionary of descriptive stats\n",
    "summary = {\n",
    "    \"Y1_Pre\": df_y1_pre[\"life_skill_score\"].describe(),\n",
    "    \"Y1_Post\": df_y1_post[\"life_skill_score\"].describe()\n",
    "}\n",
    "\n",
    "# Convert to a DataFrame for a tidy summary\n",
    "summary_df = pd.DataFrame(summary)\n",
    "\n",
    "# Transpose for better readability (optional)\n",
    "summary_df = summary_df.T  # Rows become conditions, columns are stats\n",
    "\n",
    "# Display the combined summary\n",
    "summary_df"
   ]
  },
  {
   "cell_type": "code",
   "execution_count": 70,
   "id": "39781508-eeba-4c0a-b513-078444d811d2",
   "metadata": {},
   "outputs": [
    {
     "name": "stdout",
     "output_type": "stream",
     "text": [
      "Wilcoxon Test Statistic: 163513.5\n",
      "p-value: 1.6559278818708019e-12\n"
     ]
    }
   ],
   "source": [
    "# Filter Year 1 - Pre and keep only 'id' and 'life_skill_score'\n",
    "df_y1_pre = df[(df[\"year\"] == \"year1\") & (df[\"time_lsa\"] == \"pre\")] # 👉 Filters df to include only Year 1 and Pre-training records.\n",
    "df_y1_pre = df_y1_pre[[\"id\", \"life_skill_score\"]]                   #👉 Keeps only id &  life_skill_score columns from the filtered data.\n",
    "df_y1_pre = df_y1_pre.rename(columns={\"life_skill_score\": \"life_skill_pre\"}) # 👉 Renames the life_skill_score column \n",
    "                                                           \n",
    "\n",
    "# Filter Year 1 - Post and keep only 'id' and 'life_skill_score'\n",
    "df_y1_post = df[(df[\"year\"] == \"year1\") & (df[\"time_lsa\"] == \"post\")] #👉 Filters df to include only Year 2 and Post-training records.\n",
    "df_y1_post = df_y1_post[[\"id\", \"life_skill_score\"]]                   # 👉 Keeps only id & life_skill_score columns from the filtered data.\n",
    "df_y1_post = df_y1_post.rename(columns={\"life_skill_score\": \"life_skill_post\"}) # 👉 Renames the life_skill_score column \n",
    "\n",
    "# Merge Pre and Post datasets on 'id'\n",
    "merged_df = pd.merge(df_y1_pre, df_y1_post, on=\"id\", how=\"inner\") # 👉 Merges the Pre and Post datasets by matching IDs,\n",
    "                                                                       # so we have both scores side by side for each respondent.\n",
    "                                                                       \n",
    "\n",
    "# Drop rows with missing values in either score column\n",
    "paired_data = merged_df.dropna(subset=[\"life_skill_pre\", \"life_skill_post\"]) # 👉 Removes any rows where a participant is\n",
    "                                                                                 # missing either a pre- or post-score.\n",
    "                                                                                # Wilcoxon requires complete pairs to work properly.\n",
    "# Run the Wilcoxon signed-rank test\n",
    "stat, p_value = wilcoxon(\n",
    "    paired_data[\"life_skill_pre\"],\n",
    "    paired_data[\"life_skill_post\"]\n",
    ")\n",
    "\n",
    "# Display the test statistic and p-value\n",
    "print(\"Wilcoxon Test Statistic:\", stat)\n",
    "print(\"p-value:\", p_value)"
   ]
  },
  {
   "cell_type": "markdown",
   "id": "ee78c0af-de70-4ee5-adcb-ed571b34106c",
   "metadata": {},
   "source": [
    "#### 🧠 Insights from Life Skills Score for Year 1 \n",
    "\n",
    "✅ 1. Increase in Mean Score\n",
    "\n",
    "* Pre-training Mean: 99.18\n",
    "* Post-training Mean: 101.63\n",
    "\n",
    "This suggests a modest overall improvement in life skills following the intervention. The increase in average score is visually supported by the rightward shift in the histogram.\n",
    "\n",
    "✅ 2. Higher Post-Training Scores\n",
    "\n",
    "* Median (50th percentile) rose from 96 (Pre) to 99 (Post).\n",
    "* The 75th percentile increased from 105 to 110, indicating that top-performing participants improved further.\n",
    "* These upward shifts show that more participants reached higher levels of life skill competency post-training.\n",
    "\n",
    "✅ 3. Greater Score Variability After Training\n",
    "\n",
    "* Standard deviation increased from 10.03 (Pre) to 10.73 (Post).\n",
    "* This suggests a wider spread in scores post-intervention, meaning that while many improved, some may not have benefitted as much—or had varying responses to the program.\n",
    "\n",
    "✅ 4. Presence of Outliers\n",
    "\n",
    "* Minimum score dropped from 58 (Pre) to 31 (Post). This could reflect data entry issues, disengagement, or specific subgroups who did not benefit from the training.\n",
    "    \n",
    "* Maximum score remained stable at 124 for both groups.\n",
    "\n",
    "✅ 5. Rightward Shift in Histogram\n",
    "\n",
    "* The Year 1 Post histogram is visibly shifted to the right compared to the Pre histogram.\n",
    "* This means more participants scored higher on life skills after the intervention.\n",
    "* The peak (mode) of the distribution also seems to have shifted slightly toward higher values.\n",
    "\n",
    "✅ 6. Stretch in the histogram Upper Tail\n",
    "\n",
    "* The Post group has a broader right tail, suggesting more individuals achieving very high scores.\n",
    "* The increase in the 75th percentile from 105 to 110 confirms this: top performers did better.\n",
    "\n",
    "✅ 7. Score statisticaly different\n",
    "\n",
    "The Wilcoxon Signed-Rank Test yield a p-value that is extremely small (much less than 0.05), which means the difference between pre- and post-training scores is statistically significant. \n",
    "\n",
    "🔍 Conclusion:\n",
    "There is a statistically significant increase in life skill scores from pre- to post-intervention, confirming the visual trends we observed earlier in the histograms and summary stats.This provides strong evidence that the training/intervention led to a real improvement in life skill scores among participants in Year 1.\n"
   ]
  },
  {
   "cell_type": "markdown",
   "id": "a3f065b4-c388-4cc1-915c-9ccdc88d5aa0",
   "metadata": {},
   "source": [
    "### Life Skills : Analysis for  Year 2"
   ]
  },
  {
   "cell_type": "code",
   "execution_count": 73,
   "id": "b24c05ea-02f8-477c-abb9-ec36e6ca6826",
   "metadata": {},
   "outputs": [
    {
     "data": {
      "image/png": "[encoded data removed]",
      "text/plain": [
       "<Figure size 1400x600 with 2 Axes>"
      ]
     },
     "metadata": {},
     "output_type": "display_data"
    }
   ],
   "source": [
    "# SIDE BY SID HISTOGRAM\n",
    "\n",
    "# Calculate means for insights\n",
    "mean_pre = df_y2_pre[\"life_skill_score\"].mean()\n",
    "mean_post = df_y2_post[\"life_skill_score\"].mean()\n",
    "\n",
    "# Create side-by-side histograms for understanding self in pre and post in year 1\n",
    "fig, axes = plt.subplots(nrows=1, ncols=2, figsize=(14, 6), sharey=True)\n",
    "\n",
    "# Plot Pre\n",
    "axes[0].hist(df_y2_pre[\"life_skill_score\"].dropna(), bins=10, edgecolor='black', color='skyblue')\n",
    "axes[0].axvline(mean_pre, color='red', linestyle='dashed', linewidth=1.5, label=f\"Mean = {mean_pre:.1f}\")\n",
    "axes[0].set_title(\"Life Skills Score\\n(Year 2 - Pre)\")\n",
    "axes[0].set_xlabel(\"Score\")\n",
    "axes[0].set_ylabel(\"Frequency\")\n",
    "axes[0].grid(axis='y', linestyle='--', alpha=0.7)\n",
    "axes[0].legend()\n",
    "\n",
    "# Plot Post\n",
    "axes[1].hist(df_y2_post[\"life_skill_score\"].dropna(), bins=10, edgecolor='black', color='lightgreen')\n",
    "axes[1].axvline(mean_post, color='red', linestyle='dashed', linewidth=1.5, label=f\"Mean = {mean_post:.1f}\")\n",
    "axes[1].set_title(\"Life Skills Score\\n(Year 2 - Post)\")\n",
    "axes[1].set_xlabel(\"Score\")\n",
    "axes[1].grid(axis='y', linestyle='--', alpha=0.7)\n",
    "axes[1].legend()\n",
    "\n",
    "plt.tight_layout()\n",
    "plt.show()"
   ]
  },
  {
   "cell_type": "code",
   "execution_count": 74,
   "id": "3df1843a-7ec1-4d73-80c6-85e8e9ca034a",
   "metadata": {},
   "outputs": [
    {
     "data": {
      "text/html": [
       "<div>\n",
       "<style scoped>\n",
       "    .dataframe tbody tr th:only-of-type {\n",
       "        vertical-align: middle;\n",
       "    }\n",
       "\n",
       "    .dataframe tbody tr th {\n",
       "        vertical-align: top;\n",
       "    }\n",
       "\n",
       "    .dataframe thead th {\n",
       "        text-align: right;\n",
       "    }\n",
       "</style>\n",
       "<table border=\"1\" class=\"dataframe\">\n",
       "  <thead>\n",
       "    <tr style=\"text-align: right;\">\n",
       "      <th></th>\n",
       "      <th>count</th>\n",
       "      <th>mean</th>\n",
       "      <th>std</th>\n",
       "      <th>min</th>\n",
       "      <th>25%</th>\n",
       "      <th>50%</th>\n",
       "      <th>75%</th>\n",
       "      <th>max</th>\n",
       "    </tr>\n",
       "  </thead>\n",
       "  <tbody>\n",
       "    <tr>\n",
       "      <th>Y2_Pre</th>\n",
       "      <td>572.0</td>\n",
       "      <td>102.400350</td>\n",
       "      <td>10.905526</td>\n",
       "      <td>73.0</td>\n",
       "      <td>93.0</td>\n",
       "      <td>101.0</td>\n",
       "      <td>111.0</td>\n",
       "      <td>124.0</td>\n",
       "    </tr>\n",
       "    <tr>\n",
       "      <th>Y2_Post</th>\n",
       "      <td>572.0</td>\n",
       "      <td>100.954545</td>\n",
       "      <td>10.808703</td>\n",
       "      <td>75.0</td>\n",
       "      <td>93.0</td>\n",
       "      <td>98.0</td>\n",
       "      <td>109.0</td>\n",
       "      <td>124.0</td>\n",
       "    </tr>\n",
       "  </tbody>\n",
       "</table>\n",
       "</div>"
      ],
      "text/plain": [
       "         count        mean        std   min   25%    50%    75%    max\n",
       "Y2_Pre   572.0  102.400350  10.905526  73.0  93.0  101.0  111.0  124.0\n",
       "Y2_Post  572.0  100.954545  10.808703  75.0  93.0   98.0  109.0  124.0"
      ]
     },
     "execution_count": 74,
     "metadata": {},
     "output_type": "execute_result"
    }
   ],
   "source": [
    "# Create a dictionary of descriptive stats\n",
    "summary = {\n",
    "    \"Y2_Pre\": df_y2_pre[\"life_skill_score\"].describe(),\n",
    "    \"Y2_Post\": df_y2_post[\"life_skill_score\"].describe()\n",
    "}\n",
    "\n",
    "# Convert to a DataFrame for a tidy summary\n",
    "summary_df = pd.DataFrame(summary)\n",
    "\n",
    "# Transpose for better readability (optional)\n",
    "summary_df = summary_df.T  # Rows become conditions, columns are stats\n",
    "\n",
    "# Display the combined summary\n",
    "summary_df"
   ]
  },
  {
   "cell_type": "code",
   "execution_count": 75,
   "id": "e85efc9c-8051-47af-b4f1-0fb0819d89a1",
   "metadata": {},
   "outputs": [
    {
     "name": "stdout",
     "output_type": "stream",
     "text": [
      "Wilcoxon Test Statistic: 69066.0\n",
      "p-value: 0.032458430235314556\n"
     ]
    }
   ],
   "source": [
    "# Filter Year 2 - Pre and keep only 'id' and 'life_skill_score'\n",
    "df_y2_pre = df[(df[\"year\"] == \"year2\") & (df[\"time_lsa\"] == \"pre\")] # 👉 Filters df to include only Year 2 and Pre-training records.\n",
    "df_y2_pre = df_y2_pre[[\"id\", \"life_skill_score\"]]                   #👉 Keeps only id &  life_skill_score columns from the filtered data.\n",
    "df_y2_pre = df_y2_pre.rename(columns={\"life_skill_score\": \"life_skill_pre\"}) # 👉 Renames the life_skill_score column \n",
    "                                                           \n",
    "\n",
    "# Filter Year 2 - Post and keep only 'id' and 'life_skill_score'\n",
    "df_y2_post = df[(df[\"year\"] == \"year2\") & (df[\"time_lsa\"] == \"post\")] #👉 Filters df to include only Year 2 and Post-training records.\n",
    "df_y2_post = df_y2_post[[\"id\", \"life_skill_score\"]]                   # 👉 Keeps only id & life_skill_score columns from the filtered data.\n",
    "df_y2_post = df_y2_post.rename(columns={\"life_skill_score\": \"life_skill_post\"}) # 👉 Renames the life_skill_score column \n",
    "\n",
    "# Merge Pre and Post datasets on 'id'\n",
    "merged_df = pd.merge(df_y2_pre, df_y2_post, on=\"id\", how=\"inner\") # 👉 Merges the Pre and Post datasets by matching IDs,\n",
    "                                                                       # so we have both scores side by side for each respondent.\n",
    "                                                                       \n",
    "\n",
    "# Drop rows with missing values in either score column\n",
    "paired_data = merged_df.dropna(subset=[\"life_skill_pre\", \"life_skill_post\"]) # 👉 Removes any rows where a participant is\n",
    "                                                                                 # missing either a pre- or post-score.\n",
    "                                                                                # Wilcoxon requires complete pairs to work properly.\n",
    "# Run the Wilcoxon signed-rank test\n",
    "stat, p_value = wilcoxon(\n",
    "    paired_data[\"life_skill_pre\"],\n",
    "    paired_data[\"life_skill_post\"]\n",
    ")\n",
    "\n",
    "# Display the test statistic and p-value\n",
    "print(\"Wilcoxon Test Statistic:\", stat)\n",
    "print(\"p-value:\", p_value)"
   ]
  },
  {
   "cell_type": "markdown",
   "id": "cdaa23ef-00d1-4e20-9002-5d5e2e233ae5",
   "metadata": {},
   "source": [
    "#### 🧠 Insights from Life Skills Score for Year 2\n",
    "\n",
    "✅ 1. Slight Decrease in Average Life Skill Score\n",
    "* Pre-intervention mean: 102.4\n",
    "* Post-intervention mean: 100.95\n",
    "* This shows a modest decline in average life skill scores after the training. The red dashed mean line on the Post histogram is slightly to the left of the Pre, confirming this small drop.\n",
    "\n",
    "✅ 2. Median Shift Indicates Broader Change\n",
    "*The median dropped from 101 (Pre) to 98 (Post). While not a drastic change, it suggests that more than half of the participants scored lower post-intervention.\n",
    "\n",
    "✅ 3. Overall Distribution Shifted Left\n",
    "* Visually, the histogram for Post appears flatter and shifted slightly left, indicating more spread in responses and fewer participants scoring in the higher range.\n",
    "* The 75th percentile also decreased (from 111 to 109), supporting the observation that top performers did not improve post-training.\n",
    "\n",
    "✅ 4. Similar Spread, But Slightly Lower Performance\n",
    "* Standard deviation remained similar: 10.91 (Pre) vs. 10.81 (Post). This tells us the variability stayed stable, but the entire distribution shifted slightly lower.\n",
    "\n",
    "✅ 5. Minimum and Maximum Scores Stayed Strong\n",
    "* The score range (Min–Max) stayed nearly identical: Min: 73 → 75  and  Max: 124 (both)\n",
    "* So, the range is consistent, but central tendencies (mean, median) moved downward.\n",
    "\n",
    "\n",
    "✅ 6. Leftward Shift in Central Values\n",
    "\n",
    "* The histogram for Post is slightly shifted to the left compared to Pre.The mean drops from 102.4 to 100.95, and the median shifts from 101 to 98, indicating a general downward movement in the score distribution.This shows that most participants scored slightly lower after the intervention.\n",
    "\n",
    "✅ 7. Flattening of the Distribution Post-Training\n",
    "\n",
    "*  The Pre histogram appears more peaked, while the Post histogram is flatter.This suggests that responses became more spread out, and fewer people clustered around higher scores.\n",
    "\n",
    "✅ 8. Score in year 2 satistically different:\n",
    "\n",
    "* The Wilcoxon Signed-Rank Test yielded a p-value of  0.032, which is below the conventional threshold of 0.05.This means the decrease in life skill scores from Pre to Post in Year 2 is statistically significant — the observed difference is unlikely due to chance. Although the decline in scores was small, this test confirms that it is statistically meaningful for the panel of participants.\n",
    "\n",
    "🔍 Conclusion: The intervention in Year 2 appears to have had a statistically significant but slightly negative effect on life skill scores. While the distribution shift was subtle, the Wilcoxon test confirms that the decrease is real and consistent across participants."
   ]
  },
  {
   "cell_type": "markdown",
   "id": "60df53e9-4e5f-4232-b65a-049710c0f101",
   "metadata": {},
   "source": [
    "### Employability  : Analysis for Year 1"
   ]
  },
  {
   "cell_type": "code",
   "execution_count": 78,
   "id": "805af7cc-a31f-4d54-a28e-5fa8759feb6e",
   "metadata": {},
   "outputs": [],
   "source": [
    "# Re-filter Year 1 Pre and Post so they include the latest columns\n",
    "df_y1_pre = df[(df[\"year\"] == \"year1\") & (df[\"time_lsa\"] == \"pre\")]\n",
    "df_y1_post = df[(df[\"year\"] == \"year1\") & (df[\"time_lsa\"] == \"post\")]"
   ]
  },
  {
   "cell_type": "code",
   "execution_count": 79,
   "id": "1bd41f83-0c2b-47c1-bc76-6b7266ba9a16",
   "metadata": {},
   "outputs": [
    {
     "data": {
      "image/png": "[encoded data removed]",
      "text/plain": [
       "<Figure size 1400x600 with 2 Axes>"
      ]
     },
     "metadata": {},
     "output_type": "display_data"
    }
   ],
   "source": [
    "# SIDE BY SID HISTOGRAM\n",
    "\n",
    "# Calculate means for insights\n",
    "mean_pre = df_y1_pre[\"employability_score\"].mean()\n",
    "mean_post = df_y1_post[\"employability_score\"].mean()\n",
    "\n",
    "# Create side-by-side histograms for employability  in pre and post in year 1\n",
    "fig, axes = plt.subplots(nrows=1, ncols=2, figsize=(14, 6), sharey=True)\n",
    "\n",
    "# Plot Pre\n",
    "axes[0].hist(df_y1_pre[\"employability_score\"].dropna(), bins=10, edgecolor='black', color='skyblue')\n",
    "axes[0].axvline(mean_pre, color='red', linestyle='dashed', linewidth=1.5, label=f\"Mean = {mean_pre:.1f}\")\n",
    "axes[0].set_title(\"Employability Score\\n(Year 1 - Pre)\")\n",
    "axes[0].set_xlabel(\"Score\")\n",
    "axes[0].set_ylabel(\"Frequency\")\n",
    "axes[0].grid(axis='y', linestyle='--', alpha=0.7)\n",
    "axes[0].legend()\n",
    "\n",
    "# Plot Post\n",
    "axes[1].hist(df_y1_post[\"employability_score\"].dropna(), bins=10, edgecolor='black', color='lightgreen')\n",
    "axes[1].axvline(mean_post, color='red', linestyle='dashed', linewidth=1.5, label=f\"Mean = {mean_post:.1f}\")\n",
    "axes[1].set_title(\"Employability score Score\\n(Year 1 - Post)\")\n",
    "axes[1].set_xlabel(\"Score\")\n",
    "axes[1].grid(axis='y', linestyle='--', alpha=0.7)\n",
    "axes[1].legend()\n",
    "\n",
    "plt.tight_layout()\n",
    "plt.show()"
   ]
  },
  {
   "cell_type": "code",
   "execution_count": 80,
   "id": "bd5b7992-7f7c-4696-8ea1-3a0924125b77",
   "metadata": {},
   "outputs": [
    {
     "data": {
      "text/html": [
       "<div>\n",
       "<style scoped>\n",
       "    .dataframe tbody tr th:only-of-type {\n",
       "        vertical-align: middle;\n",
       "    }\n",
       "\n",
       "    .dataframe tbody tr th {\n",
       "        vertical-align: top;\n",
       "    }\n",
       "\n",
       "    .dataframe thead th {\n",
       "        text-align: right;\n",
       "    }\n",
       "</style>\n",
       "<table border=\"1\" class=\"dataframe\">\n",
       "  <thead>\n",
       "    <tr style=\"text-align: right;\">\n",
       "      <th></th>\n",
       "      <th>count</th>\n",
       "      <th>mean</th>\n",
       "      <th>std</th>\n",
       "      <th>min</th>\n",
       "      <th>25%</th>\n",
       "      <th>50%</th>\n",
       "      <th>75%</th>\n",
       "      <th>max</th>\n",
       "    </tr>\n",
       "  </thead>\n",
       "  <tbody>\n",
       "    <tr>\n",
       "      <th>Y1_Pre</th>\n",
       "      <td>1021.0</td>\n",
       "      <td>35.29383</td>\n",
       "      <td>3.588360</td>\n",
       "      <td>12.0</td>\n",
       "      <td>33.0</td>\n",
       "      <td>35.0</td>\n",
       "      <td>37.0</td>\n",
       "      <td>48.0</td>\n",
       "    </tr>\n",
       "    <tr>\n",
       "      <th>Y1_Post</th>\n",
       "      <td>1021.0</td>\n",
       "      <td>35.72478</td>\n",
       "      <td>3.810417</td>\n",
       "      <td>12.0</td>\n",
       "      <td>33.0</td>\n",
       "      <td>36.0</td>\n",
       "      <td>37.0</td>\n",
       "      <td>48.0</td>\n",
       "    </tr>\n",
       "  </tbody>\n",
       "</table>\n",
       "</div>"
      ],
      "text/plain": [
       "          count      mean       std   min   25%   50%   75%   max\n",
       "Y1_Pre   1021.0  35.29383  3.588360  12.0  33.0  35.0  37.0  48.0\n",
       "Y1_Post  1021.0  35.72478  3.810417  12.0  33.0  36.0  37.0  48.0"
      ]
     },
     "execution_count": 80,
     "metadata": {},
     "output_type": "execute_result"
    }
   ],
   "source": [
    "# Create a dictionary of descriptive stats\n",
    "summary = {\n",
    "    \"Y1_Pre\": df_y1_pre[\"employability_score\"].describe(),\n",
    "    \"Y1_Post\": df_y1_post[\"employability_score\"].describe()\n",
    "}\n",
    "\n",
    "# Convert to a DataFrame for a tidy summary\n",
    "summary_df = pd.DataFrame(summary)\n",
    "\n",
    "# Transpose for better readability (optional)\n",
    "summary_df = summary_df.T  # Rows become conditions, columns are stats\n",
    "\n",
    "# Display the combined summary\n",
    "summary_df"
   ]
  },
  {
   "cell_type": "code",
   "execution_count": 81,
   "id": "53c7af3d-4331-4b67-b81c-cbcf10a28f20",
   "metadata": {},
   "outputs": [
    {
     "name": "stdout",
     "output_type": "stream",
     "text": [
      "Wilcoxon Test Statistic: 171420.0\n",
      "p-value: 0.004786646254808239\n"
     ]
    }
   ],
   "source": [
    "# Filter Year 1 - Pre and keep only 'id' and 'employability_score'\n",
    "df_y1_pre = df[(df[\"year\"] == \"year1\") & (df[\"time_lsa\"] == \"pre\")] # 👉 Filters df to include only Year 1 and Pre-training records.\n",
    "df_y1_pre = df_y1_pre[[\"id\", \"employability_score\"]]                   #👉 Keeps only id &  employability_score columns from the filtered data.\n",
    "df_y1_pre = df_y1_pre.rename(columns={\"employability_score\": \"employability_pre\"}) # 👉 Renames the life_skill_score column \n",
    "                                                           \n",
    "\n",
    "# Filter Year 1 - Post and keep only 'id' and 'employability_score'\n",
    "df_y1_post = df[(df[\"year\"] == \"year1\") & (df[\"time_lsa\"] == \"post\")] #👉 Filters df to include only Year 2 and Post-training records.\n",
    "df_y1_post = df_y1_post[[\"id\", \"employability_score\"]]                   # 👉 Keeps only id & employability_score columns from the filtered data.\n",
    "df_y1_post = df_y1_post.rename(columns={\"employability_score\": \"employability_post\"}) # 👉 Renames the life_skill_score column \n",
    "\n",
    "# Merge Pre and Post datasets on 'id'\n",
    "merged_df = pd.merge(df_y1_pre, df_y1_post, on=\"id\", how=\"inner\") # 👉 Merges the Pre and Post datasets by matching IDs,\n",
    "                                                                       # so we have both scores side by side for each respondent.\n",
    "                                                                       \n",
    "\n",
    "# Drop rows with missing values in either score column\n",
    "paired_data = merged_df.dropna(subset=[\"employability_pre\", \"employability_post\"]) # 👉 Removes any rows where a participant is\n",
    "                                                                                 # missing either a pre- or post-score.\n",
    "                                                                                # Wilcoxon requires complete pairs to work properly.\n",
    "# Run the Wilcoxon signed-rank test\n",
    "stat, p_value = wilcoxon(\n",
    "    paired_data[\"employability_pre\"],\n",
    "    paired_data[\"employability_post\"]\n",
    ")\n",
    "\n",
    "# Display the test statistic and p-value\n",
    "print(\"Wilcoxon Test Statistic:\", stat)\n",
    "print(\"p-value:\", p_value)"
   ]
  },
  {
   "cell_type": "markdown",
   "id": "dc0f6351-8634-4fa0-ab8f-8f7ff0b5cb6d",
   "metadata": {},
   "source": [
    "### 🧠 Insights from Employability Score for Year 1\n",
    "\n",
    "✅ 1. Slight Increase in Average Employability Score\n",
    "\n",
    "* Pre-intervention mean: 35.29\n",
    "* Post-intervention mean: 35.72\n",
    "\n",
    "This shows a modest improvement in employability scores following the training. The red dashed mean line in the post histogram is slightly to the right of the pre, confirming this small upward shift.\n",
    "\n",
    "✅ 2. Median Shift Indicates Group-Level Improvement\n",
    "\n",
    "Median increased from 35 (Pre) to 36 (Post). This suggests that more than half of the participants scored slightly higher post-intervention.\n",
    "\n",
    "✅ 3. Distribution Shifted Right, Though Slightly\n",
    "\n",
    "* Visually, the histogram for Post is slightly shifted to the right, indicating an overall improvement in scores.\n",
    "* The 75th percentile remained at 37, showing that top performers maintained their level, while the bulk of participants moved slightly higher.\n",
    "\n",
    "✅ 4. Slight Increase in Variability\n",
    "\n",
    "* Standard deviation increased from 3.59 (Pre) to 3.81 (Post). This indicates that while the average score rose, the spread of scores widened slightly, likely due to individual differences in training response.\n",
    "  \n",
    "✅ 5. Minimum and Maximum Scores Remained the Same\n",
    "\n",
    "* Score range (Min–Max) stayed at 12 to 48 in both pre and post, indicating no extreme new highs or lows introduced by the intervention.\n",
    "\n",
    "✅ 6. Rightward Shift in Central Tendency\n",
    "\n",
    "* The mean and median both shifted right, showing a general upward movement in the score distribution. This confirms a positive though modest effect of the program on employability outcomes.\n",
    "\n",
    "✅ 7. Subtle Flattening of the Post Distribution\n",
    "\n",
    "* The Pre histogram appears slightly more peaked, while the Post distribution is a bit flatter and broader. This implies greater variability in participant outcomes, possibly reflecting diverse levels of benefit from the intervention.\n",
    "\n",
    "✅ 8. Employability Score pre-post statisticaly different in year 1\n",
    "\n",
    "The Wilcoxon Signed-Rank Test yield a p-value that is  small (much less than 0.05), which means the difference between pre- and post-training scores is statistically significant.\n",
    "\n",
    "🔍 Conclusion: There is a statistically significant increase in employability scores from pre- to post training, confirming the visual trends we observed earlier in the histograms and summary stats.This provides strong evidence that the training/intervention led to a real improvement in employability scores among participants in Year 1."
   ]
  },
  {
   "cell_type": "markdown",
   "id": "3ded17c2-0baf-43e0-ba25-23be067b54e5",
   "metadata": {},
   "source": [
    "### Employability:  Analysis for year 2"
   ]
  },
  {
   "cell_type": "code",
   "execution_count": 84,
   "id": "7f994de9-bab7-43c4-908c-f337f3e4703d",
   "metadata": {},
   "outputs": [],
   "source": [
    "# Re-filter Year 2 Pre and Post so they include the latest columns\n",
    "df_y2_pre = df[(df[\"year\"] == \"year2\") & (df[\"time_lsa\"] == \"pre\")]\n",
    "df_y2_post = df[(df[\"year\"] == \"year2\") & (df[\"time_lsa\"] == \"post\")]"
   ]
  },
  {
   "cell_type": "code",
   "execution_count": 85,
   "id": "0dc7c719-6248-4c20-964a-b4f845891146",
   "metadata": {},
   "outputs": [
    {
     "data": {
      "image/png": "[encoded data removed]",
      "text/plain": [
       "<Figure size 1400x600 with 2 Axes>"
      ]
     },
     "metadata": {},
     "output_type": "display_data"
    }
   ],
   "source": [
    "# SIDE BY SID HISTOGRAM\n",
    "\n",
    "# Calculate means for insights\n",
    "mean_pre = df_y2_pre[\"employability_score\"].mean()\n",
    "mean_post = df_y2_post[\"employability_score\"].mean()\n",
    "\n",
    "# Create side-by-side histograms for employability  in pre and post in year 1\n",
    "fig, axes = plt.subplots(nrows=1, ncols=2, figsize=(14, 6), sharey=True)\n",
    "\n",
    "# Plot Pre\n",
    "axes[0].hist(df_y2_pre[\"employability_score\"].dropna(), bins=10, edgecolor='black', color='skyblue')\n",
    "axes[0].axvline(mean_pre, color='red', linestyle='dashed', linewidth=1.5, label=f\"Mean = {mean_pre:.1f}\")\n",
    "axes[0].set_title(\"Employability Score\\n(Year 2 - Pre)\")\n",
    "axes[0].set_xlabel(\"Score\")\n",
    "axes[0].set_ylabel(\"Frequency\")\n",
    "axes[0].grid(axis='y', linestyle='--', alpha=0.7)\n",
    "axes[0].legend()\n",
    "\n",
    "# Plot Post\n",
    "axes[1].hist(df_y2_post[\"employability_score\"].dropna(), bins=10, edgecolor='black', color='lightgreen')\n",
    "axes[1].axvline(mean_post, color='red', linestyle='dashed', linewidth=1.5, label=f\"Mean = {mean_post:.1f}\")\n",
    "axes[1].set_title(\"Employability score Score\\n(Year 2 - Post)\")\n",
    "axes[1].set_xlabel(\"Score\")\n",
    "axes[1].grid(axis='y', linestyle='--', alpha=0.7)\n",
    "axes[1].legend()\n",
    "\n",
    "plt.tight_layout()\n",
    "plt.show()"
   ]
  },
  {
   "cell_type": "code",
   "execution_count": 86,
   "id": "d122951e-4e08-4691-a8f1-d821e35505ad",
   "metadata": {},
   "outputs": [
    {
     "data": {
      "text/html": [
       "<div>\n",
       "<style scoped>\n",
       "    .dataframe tbody tr th:only-of-type {\n",
       "        vertical-align: middle;\n",
       "    }\n",
       "\n",
       "    .dataframe tbody tr th {\n",
       "        vertical-align: top;\n",
       "    }\n",
       "\n",
       "    .dataframe thead th {\n",
       "        text-align: right;\n",
       "    }\n",
       "</style>\n",
       "<table border=\"1\" class=\"dataframe\">\n",
       "  <thead>\n",
       "    <tr style=\"text-align: right;\">\n",
       "      <th></th>\n",
       "      <th>count</th>\n",
       "      <th>mean</th>\n",
       "      <th>std</th>\n",
       "      <th>min</th>\n",
       "      <th>25%</th>\n",
       "      <th>50%</th>\n",
       "      <th>75%</th>\n",
       "      <th>max</th>\n",
       "    </tr>\n",
       "  </thead>\n",
       "  <tbody>\n",
       "    <tr>\n",
       "      <th>Y2_Pre</th>\n",
       "      <td>572.0</td>\n",
       "      <td>37.202797</td>\n",
       "      <td>4.543712</td>\n",
       "      <td>29.0</td>\n",
       "      <td>34.0</td>\n",
       "      <td>36.0</td>\n",
       "      <td>39.0</td>\n",
       "      <td>48.0</td>\n",
       "    </tr>\n",
       "    <tr>\n",
       "      <th>Y2_Post</th>\n",
       "      <td>572.0</td>\n",
       "      <td>35.743007</td>\n",
       "      <td>3.479040</td>\n",
       "      <td>24.0</td>\n",
       "      <td>34.0</td>\n",
       "      <td>35.0</td>\n",
       "      <td>37.0</td>\n",
       "      <td>48.0</td>\n",
       "    </tr>\n",
       "  </tbody>\n",
       "</table>\n",
       "</div>"
      ],
      "text/plain": [
       "         count       mean       std   min   25%   50%   75%   max\n",
       "Y2_Pre   572.0  37.202797  4.543712  29.0  34.0  36.0  39.0  48.0\n",
       "Y2_Post  572.0  35.743007  3.479040  24.0  34.0  35.0  37.0  48.0"
      ]
     },
     "execution_count": 86,
     "metadata": {},
     "output_type": "execute_result"
    }
   ],
   "source": [
    "# Create a dictionary of descriptive stats\n",
    "summary = {\n",
    "    \"Y2_Pre\": df_y2_pre[\"employability_score\"].describe(),\n",
    "    \"Y2_Post\": df_y2_post[\"employability_score\"].describe()\n",
    "}\n",
    "\n",
    "# Convert to a DataFrame for a tidy summary\n",
    "summary_df = pd.DataFrame(summary)\n",
    "\n",
    "# Transpose for better readability (optional)\n",
    "summary_df = summary_df.T  # Rows become conditions, columns are stats\n",
    "\n",
    "# Display the combined summary\n",
    "summary_df"
   ]
  },
  {
   "cell_type": "code",
   "execution_count": 87,
   "id": "dc6d21f4-a8cf-4a24-ba7f-f50a1b5578d5",
   "metadata": {},
   "outputs": [
    {
     "name": "stdout",
     "output_type": "stream",
     "text": [
      "Wilcoxon Test Statistic: 43343.5\n",
      "p-value: 1.0972036604130017e-10\n"
     ]
    }
   ],
   "source": [
    "# Filter Year 2 - Pre and keep only 'id' and 'employability_score'\n",
    "df_y2_pre = df[(df[\"year\"] == \"year2\") & (df[\"time_lsa\"] == \"pre\")] # 👉 Filters df to include only Year2 and Pre-training records.\n",
    "df_y2_pre = df_y2_pre[[\"id\", \"employability_score\"]]                   #👉 Keeps only id &  employability_score columns from the filtered data.\n",
    "df_y2_pre = df_y2_pre.rename(columns={\"employability_score\": \"employability_pre\"}) # 👉 Renames the life_skill_score column \n",
    "                                                           \n",
    "\n",
    "# Filter Year 2 - Post and keep only 'id' and 'employability_score'\n",
    "df_y2_post = df[(df[\"year\"] == \"year2\") & (df[\"time_lsa\"] == \"post\")] #👉 Filters df to include only Year 2 and Post-training records.\n",
    "df_y2_post = df_y2_post[[\"id\", \"employability_score\"]]                   # 👉 Keeps only id & employability_score columns from the filtered data.\n",
    "df_y2_post = df_y2_post.rename(columns={\"employability_score\": \"employability_post\"}) # 👉 Renames the life_skill_score column \n",
    "\n",
    "# Merge Pre and Post datasets on 'id'\n",
    "merged_df = pd.merge(df_y2_pre, df_y2_post, on=\"id\", how=\"inner\") # 👉 Merges the Pre and Post datasets by matching IDs,\n",
    "                                                                       # so we have both scores side by side for each respondent.\n",
    "\n",
    "\n",
    "\n",
    "# Drop rows with missing values in either score column\n",
    "paired_data = merged_df.dropna(subset=[\"employability_pre\", \"employability_post\"]) # 👉 Removes any rows where a participant is\n",
    "                                                                                 # missing either a pre- or post-score.\n",
    "                                                                                # Wilcoxon requires complete pairs to work properly.\n",
    "# Run the Wilcoxon signed-rank test\n",
    "stat, p_value = wilcoxon(\n",
    "    paired_data[\"employability_pre\"],\n",
    "    paired_data[\"employability_post\"]\n",
    ")\n",
    "\n",
    "# Display the test statistic and p-value\n",
    "print(\"Wilcoxon Test Statistic:\", stat)\n",
    "print(\"p-value:\", p_value)"
   ]
  },
  {
   "cell_type": "markdown",
   "id": "9f9c3354-5829-43fc-9da5-7a378bfaf413",
   "metadata": {},
   "source": [
    "#### 🧠 Insights from Employability Score – Year 2 \n",
    "\n",
    "✅ 1. Decrease in Average Employability Score\n",
    "\n",
    "* Pre-intervention mean: 37.20\n",
    "* Post-intervention mean: 35.74\n",
    "\n",
    "This shows a notable drop in average employability scores after the training. The red dashed line for the mean in the Post histogram is shifted left, confirming the decrease in average performance.\n",
    "\n",
    "✅ 2. Median Shift Suggests Broad Decline\n",
    "\n",
    "* Median dropped from 36 (Pre) to 35 (Post). This indicates that more than half of participants scored lower after the intervention, pointing to a broad pattern of decreased performance.\n",
    "  \n",
    "✅ 3. Leftward Shift in the Distribution\n",
    "\n",
    "* The Post histogram is clearly shifted to the left compared to the Pre histogram.\n",
    "* Fewer participants reached the higher score brackets post-intervention.\n",
    "* The 75th percentile dropped from 39 to 37, confirming that even higher performers declined.\n",
    "  \n",
    "✅ 4. Slight Decrease in Variability\n",
    "\n",
    "* Standard deviation decreased from 4.54 (Pre) to 3.48 (Post). This suggests that while most scores dropped, the spread became more concentrated, with fewer outliers or extreme high performers.\n",
    "  \n",
    "✅ 5. Score Range Narrowed Slightly\n",
    "\n",
    "Minimum score decreased from 29 to 24, while maximum remained 48. This reinforces the drop in the lower end of the performance spectrum.\n",
    "\n",
    "✅ 6. Histogram Shape: Flattening with a Downward Shift\n",
    "\n",
    "The Post histogram is flatter and shifted left, meaning scores were not only lower but also more uniformly distributed around a lower average.\n",
    "The Pre histogram had a clearer central peak, suggesting more participants were scoring in the upper-middle range.\n",
    "\n",
    "\n",
    "✅ 7. Statistically Significant Decline (Wilcoxon Test)\n",
    "\n",
    "Wilcoxon Test Statistic: 43,343.5\n",
    "p-value: 1.10 × 10⁻¹⁰ \n",
    "\n",
    "This very low p-value confirms that the decline is statistically significant — it is highly unlikely to be due to chance.\n",
    "\n",
    "\n",
    "🔍Conclusion\n",
    "The Year 2 data shows a statistically significant and meaningful decline in employability scores following the intervention. Unlike Year 1, where we observed modest gains, Year 2 outcomes suggest that the program may not have been as effective — or that contextual factors influenced performance negatively. Further exploration by subgroup or implementation differences may help explain this trend. ​"
   ]
  },
  {
   "cell_type": "markdown",
   "id": "07305334-89ec-4051-ae7b-9f56e39032cc",
   "metadata": {},
   "source": [
    "### Did youth who improved more in life skills also improve more in employability?"
   ]
  },
  {
   "cell_type": "code",
   "execution_count": 90,
   "id": "46d8ca5c-d79a-40de-b026-49f2c951f304",
   "metadata": {},
   "outputs": [
    {
     "data": {
      "text/html": [
       "<div>\n",
       "<style scoped>\n",
       "    .dataframe tbody tr th:only-of-type {\n",
       "        vertical-align: middle;\n",
       "    }\n",
       "\n",
       "    .dataframe tbody tr th {\n",
       "        vertical-align: top;\n",
       "    }\n",
       "\n",
       "    .dataframe thead th {\n",
       "        text-align: right;\n",
       "    }\n",
       "</style>\n",
       "<table border=\"1\" class=\"dataframe\">\n",
       "  <thead>\n",
       "    <tr style=\"text-align: right;\">\n",
       "      <th></th>\n",
       "      <th>life_skill_change</th>\n",
       "      <th>employability_change</th>\n",
       "    </tr>\n",
       "  </thead>\n",
       "  <tbody>\n",
       "    <tr>\n",
       "      <th>life_skill_change</th>\n",
       "      <td>1.000000</td>\n",
       "      <td>0.500641</td>\n",
       "    </tr>\n",
       "    <tr>\n",
       "      <th>employability_change</th>\n",
       "      <td>0.500641</td>\n",
       "      <td>1.000000</td>\n",
       "    </tr>\n",
       "  </tbody>\n",
       "</table>\n",
       "</div>"
      ],
      "text/plain": [
       "                      life_skill_change  employability_change\n",
       "life_skill_change              1.000000              0.500641\n",
       "employability_change           0.500641              1.000000"
      ]
     },
     "execution_count": 90,
     "metadata": {},
     "output_type": "execute_result"
    }
   ],
   "source": [
    "# LOOKING AT CORRELATION FOR YEAR 1\n",
    "\n",
    "\n",
    "# Filter Year 1 Pre and Post data\n",
    "df_y1_pre = df[(df[\"year\"] == \"year1\") & (df[\"time_lsa\"] == \"pre\")]\n",
    "df_y1_post = df[(df[\"year\"] == \"year1\") & (df[\"time_lsa\"] == \"post\")]\n",
    "\n",
    "# Select and rename relevant columns\n",
    "df_y1_pre = df_y1_pre[[\"id\", \"life_skill_score\", \"employability_score\"]].rename(\n",
    "    columns={\n",
    "        \"life_skill_score\": \"life_skill_pre\",\n",
    "        \"employability_score\": \"employability_pre\"\n",
    "    }\n",
    ")\n",
    "\n",
    "df_y1_post = df_y1_post[[\"id\", \"life_skill_score\", \"employability_score\"]].rename(\n",
    "    columns={\n",
    "        \"life_skill_score\": \"life_skill_post\",\n",
    "        \"employability_score\": \"employability_post\"\n",
    "    }\n",
    ")\n",
    "\n",
    "# Merge Pre and Post datasets on 'id'\n",
    "df_y1_merged = pd.merge(df_y1_pre, df_y1_post, on=\"id\", how=\"inner\")\n",
    "\n",
    "# Drop rows with missing values\n",
    "df_y1_merged = df_y1_merged.dropna(subset=[\n",
    "    \"life_skill_pre\", \"life_skill_post\",\n",
    "    \"employability_pre\", \"employability_post\"\n",
    "])\n",
    "\n",
    "# Compute change scores\n",
    "df_y1_merged[\"life_skill_change\"] = df_y1_merged[\"life_skill_post\"] - df_y1_merged[\"life_skill_pre\"]\n",
    "df_y1_merged[\"employability_change\"] = df_y1_merged[\"employability_post\"] - df_y1_merged[\"employability_pre\"]\n",
    "\n",
    "# Calculate Spearman correlation between change scores\n",
    "correlation_matrix = df_y1_merged[[\"life_skill_change\", \"employability_change\"]].corr(method=\"spearman\")\n",
    "\n",
    "# Output the result\n",
    "correlation_matrix\n"
   ]
  },
  {
   "cell_type": "markdown",
   "id": "f075fb8b-b88f-4087-a862-e20bad02d633",
   "metadata": {},
   "source": [
    "🧠 __Insights from the correlation in year 1__\n",
    "\n",
    "* Spearman correlation coefficient between Change in Life Skills and Employability in year a is : 0.50\n",
    "\n",
    "* Interpretation: This is a moderate positive correlation between the change in Life Skills Score and the change in Employability Score. In practical terms, this means that participants who improved more in life skills also tended to improve more in employability. The relationship is strong enough to suggest a meaningful link between growth in these two areas.\n"
   ]
  },
  {
   "cell_type": "code",
   "execution_count": 92,
   "id": "8d7e1790-d369-4a33-9f5b-e4facd837c1d",
   "metadata": {},
   "outputs": [
    {
     "data": {
      "text/html": [
       "<div>\n",
       "<style scoped>\n",
       "    .dataframe tbody tr th:only-of-type {\n",
       "        vertical-align: middle;\n",
       "    }\n",
       "\n",
       "    .dataframe tbody tr th {\n",
       "        vertical-align: top;\n",
       "    }\n",
       "\n",
       "    .dataframe thead th {\n",
       "        text-align: right;\n",
       "    }\n",
       "</style>\n",
       "<table border=\"1\" class=\"dataframe\">\n",
       "  <thead>\n",
       "    <tr style=\"text-align: right;\">\n",
       "      <th></th>\n",
       "      <th>life_skill_change</th>\n",
       "      <th>employability_change</th>\n",
       "    </tr>\n",
       "  </thead>\n",
       "  <tbody>\n",
       "    <tr>\n",
       "      <th>life_skill_change</th>\n",
       "      <td>1.00000</td>\n",
       "      <td>0.55493</td>\n",
       "    </tr>\n",
       "    <tr>\n",
       "      <th>employability_change</th>\n",
       "      <td>0.55493</td>\n",
       "      <td>1.00000</td>\n",
       "    </tr>\n",
       "  </tbody>\n",
       "</table>\n",
       "</div>"
      ],
      "text/plain": [
       "                      life_skill_change  employability_change\n",
       "life_skill_change               1.00000               0.55493\n",
       "employability_change            0.55493               1.00000"
      ]
     },
     "execution_count": 92,
     "metadata": {},
     "output_type": "execute_result"
    }
   ],
   "source": [
    "# LOOKING AT CORRELATION FOR YEAR 2\n",
    "\n",
    "# Filter Year 2 Pre and Post data\n",
    "df_y2_pre = df[(df[\"year\"] == \"year2\") & (df[\"time_lsa\"] == \"pre\")]\n",
    "df_y2_post = df[(df[\"year\"] == \"year2\") & (df[\"time_lsa\"] == \"post\")]\n",
    "\n",
    "# Select and rename relevant columns\n",
    "df_y2_pre = df_y2_pre[[\"id\", \"life_skill_score\", \"employability_score\"]].rename(\n",
    "    columns={\n",
    "        \"life_skill_score\": \"life_skill_pre\",\n",
    "        \"employability_score\": \"employability_pre\"\n",
    "    }\n",
    ")\n",
    "\n",
    "df_y2_post = df_y2_post[[\"id\", \"life_skill_score\", \"employability_score\"]].rename(\n",
    "    columns={\n",
    "        \"life_skill_score\": \"life_skill_post\",\n",
    "        \"employability_score\": \"employability_post\"\n",
    "    }\n",
    ")\n",
    "\n",
    "# Merge Pre and Post datasets on 'id'\n",
    "df_y2_merged = pd.merge(df_y2_pre, df_y2_post, on=\"id\", how=\"inner\")\n",
    "\n",
    "# Drop rows with missing values\n",
    "df_y2_merged = df_y2_merged.dropna(subset=[\n",
    "    \"life_skill_pre\", \"life_skill_post\",\n",
    "    \"employability_pre\", \"employability_post\"\n",
    "])\n",
    "\n",
    "# Compute change scores\n",
    "df_y2_merged[\"life_skill_change\"] = df_y2_merged[\"life_skill_post\"] - df_y2_merged[\"life_skill_pre\"]\n",
    "df_y2_merged[\"employability_change\"] = df_y2_merged[\"employability_post\"] - df_y2_merged[\"employability_pre\"]\n",
    "\n",
    "# Calculate Spearman correlation between change scores\n",
    "correlation_matrix_y2 = df_y2_merged[[\"life_skill_change\", \"employability_change\"]].corr(method=\"spearman\")\n",
    "\n",
    "# Output the result\n",
    "correlation_matrix_y2\n"
   ]
  },
  {
   "cell_type": "code",
   "execution_count": null,
   "id": "cca68e30-bdcd-4648-9b17-0b5a8f0228f0",
   "metadata": {},
   "outputs": [],
   "source": []
  },
  {
   "cell_type": "markdown",
   "id": "033e5290-16a1-4850-96ee-6005e017e525",
   "metadata": {},
   "source": [
    "🧠 __Insights from the correlation in year 2__\n",
    "\n",
    "* Spearman correlation coefficient between Change in Life Skills and Employability: 0.55\n",
    "\n",
    "* Interpretation: This is a moderately strong positive correlation, slightly higher than in Year 1. It suggests that participants who gained more in life skills were also more likely to see improvements in their employability. This consistent pattern across both years indicates a potentially strong interdependency between the two score areas — reinforcing the value of life skills development in influencing employability outcomes."
   ]
  },
  {
   "cell_type": "code",
   "execution_count": 94,
   "id": "80691159-65c3-453d-890f-001d2eb8a8e3",
   "metadata": {},
   "outputs": [
    {
     "name": "stderr",
     "output_type": "stream",
     "text": [
      "C:\\Users\\Nael\\Anaconda3\\lib\\site-packages\\seaborn\\axisgrid.py:123: UserWarning: The figure layout has changed to tight\n",
      "  self._figure.tight_layout(*args, **kwargs)\n",
      "C:\\Users\\Nael\\AppData\\Local\\Temp\\ipykernel_24760\\2507141547.py:46: UserWarning: The figure layout has changed to tight\n",
      "  plt.tight_layout()\n"
     ]
    },
    {
     "data": {
      "image/png": "[encoded data removed]",
      "text/plain": [
       "<Figure size 992.625x600 with 1 Axes>"
      ]
     },
     "metadata": {},
     "output_type": "display_data"
    }
   ],
   "source": [
    "# Combined visual showing the relationship between change in Life Skills and Employability Scores for Year 1 and Year 2:\n",
    "\n",
    "from scipy.stats import linregress\n",
    "\n",
    "# Recreate the combined_changes DataFrame since the environment reset might have cleared it\n",
    "df_y1_merged[\"year\"] = \"Year 1\"\n",
    "df_y2_merged[\"year\"] = \"Year 2\"\n",
    "\n",
    "# Combine both datasets\n",
    "combined_changes = pd.concat([df_y1_merged, df_y2_merged], ignore_index=True)\n",
    "\n",
    "# Year 1 regression\n",
    "x1 = df_y1_merged[\"life_skill_change\"]\n",
    "y1 = df_y1_merged[\"employability_change\"]\n",
    "slope_y1, intercept_y1, _, _, _ = linregress(x1, y1)\n",
    "\n",
    "# Year 2 regression\n",
    "x2 = df_y2_merged[\"life_skill_change\"]\n",
    "y2 = df_y2_merged[\"employability_change\"]\n",
    "slope_y2, intercept_y2, _, _, _ = linregress(x2, y2)\n",
    "\n",
    "# Redraw the plot with correct slope/intercept values and colors\n",
    "palette = {\"Year 1\": \"#1f77b4\", \"Year 2\": \"#d62728\"}  # blue and red\n",
    "\n",
    "g = sns.lmplot(\n",
    "    data=combined_changes,\n",
    "    x=\"life_skill_change\",\n",
    "    y=\"employability_change\",\n",
    "    hue=\"year\",\n",
    "    palette=palette,\n",
    "    markers=[\"o\", \"s\"],\n",
    "    aspect=1.5,\n",
    "    height=6,\n",
    "    scatter_kws={'alpha': 0.5},\n",
    "    line_kws={'linewidth': 2}\n",
    ")\n",
    "\n",
    "plt.xlabel(\"Change in Life Skill Score\")\n",
    "plt.ylabel(\"Change in Employability Score\")\n",
    "plt.title(\"Change in Life Skills vs Employability by Year\")\n",
    "\n",
    "# Annotate regression equations\n",
    "plt.figtext(0.13, 0.88, f\"Year 1: y = {slope_y1:.2f}x + {intercept_y1:.2f}\", ha='left', fontsize=10, color=palette[\"Year 1\"])\n",
    "plt.figtext(0.13, 0.84, f\"Year 2: y = {slope_y2:.2f}x + {intercept_y2:.2f}\", ha='left', fontsize=10, color=palette[\"Year 2\"])\n",
    "\n",
    "plt.tight_layout()\n",
    "plt.show()"
   ]
  },
  {
   "cell_type": "markdown",
   "id": "3b4162d9-c3ac-4db0-8552-b775cc305d7e",
   "metadata": {},
   "source": [
    "🧠 __Insights from the combined visual showing the relationship between change in Life Skills and Employability Scores for Year 1 and Year 2__\n",
    "\n",
    "\n",
    "✅ 1. Positive Relationship in Both Years : Both Year 1 and Year 2 show an upward trend, meaning participants who improved more in life skills also tended to improve in employability.\n",
    "\n",
    "✅ 2. Slightly Stronger Trend in Year 2 : The regression line for Year 2 appears slightly steeper, visually supporting the stronger correlation observed earlier (r = 0.55 vs r = 0.50 in Year 1).\n",
    "\n",
    "✅ 3. Broader Spread in Year 2 : Year 2 also shows a wider spread in change scores — especially for life skills — indicating more variability in participant outcomes."
   ]
  },
  {
   "cell_type": "markdown",
   "id": "ec693289-85b4-47bd-80e1-d0982ee8af06",
   "metadata": {},
   "source": [
    "## Possible next analysis \n",
    "\n",
    "__Subgroup Analysis__\n",
    "* Disaggregate by key characteristics to see if the program worked better for some groups than others:  Gender, Province. This helps uncover hidden effects or inequities in outcomes.\n",
    "\n",
    "__Latent Class or Cluster Analysis__\n",
    "\n",
    "Explore whether participants naturally fall into distinct groups based on their score patterns or characteristics:\n",
    "\n",
    "* Pre/post score trajectories\n",
    "\n",
    "* Life Skills vs. Employability growth patterns\n",
    "\n",
    "This could highlight different \"types\" of participant responses to the intervention.\n",
    "\n",
    "__Mediation or Path Analysis__\n",
    "\n",
    "As we  suspect that Life Skills improvement leads to Employability gains (as the correlation suggests), We could test a mediation model: Did Life Skills improvements mediate the effect of training on Employability?\n"
   ]
  },
  {
   "cell_type": "code",
   "execution_count": null,
   "id": "90c5647f-0fa9-4c0d-a9ae-46c31964e09a",
   "metadata": {},
   "outputs": [],
   "source": []
  }
 ],
 "metadata": {
  "kernelspec": {
   "display_name": "Python 3 (ipykernel)",
   "language": "python",
   "name": "python3"
  },
  "language_info": {
   "codemirror_mode": {
    "name": "ipython",
    "version": 3
   },
   "file_extension": ".py",
   "mimetype": "text/x-python",
   "name": "python",
   "nbconvert_exporter": "python",
   "pygments_lexer": "ipython3",
   "version": "3.8.5"
  }
 },
 "nbformat": 4,
 "nbformat_minor": 5
}
