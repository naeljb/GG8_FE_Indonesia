{
 "cells": [
  {
   "cell_type": "markdown",
   "id": "b7e16701-3780-4fcf-80c5-67a69f7bb26c",
   "metadata": {},
   "source": [
    "<h1 style=\"text-align: center;\">📘 Baseline_Follow up Indonesia Data Processing and Analysis</h1>\n",
    "\n",
    "This notebook documents the process of preparing and analyzing data collected from the **GG8 Baseline and Follow-up survey** conducted in **Indonesia**. It was administered in two distinct cohorts: **Year 1** and **Year 2**, with each year including data collected at **baseline** and at **follow-up** of the training interventions. \r\n",
    "\r\n",
    "The aim of this analysis is to:\r\n",
    "- Conduct a **descriptive analysis**\r\n",
    "- Evaluate the **socio-economic data** (Module A, Module B)\r\n",
    "- Assess **transformed outcome questions** (Module C)\r\n",
    "## 📂 Notebook Structure\r\n",
    "\r\n",
    "This notebook is organized into **four main sections**:\r\n",
    "\r\n",
    "1. **🔗 Dataset Concatenation**  \r\n",
    "   This section outlines the steps and operations used to create a concatenated dataset from the four individual datasets.\r\n",
    "\r\n",
    "2. **🔧 Data Transformation**  \r\n",
    "   After concatenation, this section describes the transformations applied to prepare the data for analysis.\r\n",
    "\r\n",
    "3. **📊 Youth Demographics**  \r\n",
    "   Presents a descriptive overview of the demographic characteristics of the youth surveyed.\r\n",
    "\r\n",
    "4. **📈 Transformed Outcomes**  \r\n",
    "   Analyzes the changes in responses to the transformed outcome questions between baseline an follow-up.\r\n",
    "\n",
    " ✅ **Descriptive Analysis**\r\n",
    "\r\n",
    "---\r\n",
    "\r\n",
    "## 🧰 Tools & Libraries\r\n",
    "\r\n",
    "This notebook uses Python libraries such as:\r\n",
    "- `pandas` for data manipulation  \r\n",
    "- `matplotlib` and `seaborn` for visualization  \r\n",
    "- `scipy.stats` for statistical analysisIndonesia."
   ]
  },
  {
   "cell_type": "markdown",
   "id": "3db00067-1c93-4851-b618-90db6d2dfff1",
   "metadata": {},
   "source": [
    "## 📦 1. Creating a single concatenated dataset\n",
    "\n",
    "---"
   ]
  },
  {
   "cell_type": "code",
   "execution_count": 3,
   "id": "15340f4f-130f-4acb-9a8a-6ab9ee00bcca",
   "metadata": {},
   "outputs": [],
   "source": [
    "# importing pandas library\n",
    "import pandas as pd"
   ]
  },
  {
   "cell_type": "code",
   "execution_count": 4,
   "id": "3df4633b-f4bf-469d-a55b-0eaa6bd472cc",
   "metadata": {},
   "outputs": [],
   "source": [
    "path1 = \"D:/S2S_FE/Indonesia_data/indonesia_y1_baseline.csv\"\n",
    "path2 = \"D:/S2S_FE/Indonesia_data/indonesia_y1_followup.csv\"\n",
    "path3 = \"D:/S2S_FE/Indonesia_data/indonesia_y2_baseline.csv\"\n",
    "path4 = \"D:/S2S_FE/Indonesia_data/indonesia_y2_followup.csv\""
   ]
  },
  {
   "cell_type": "code",
   "execution_count": 5,
   "id": "d1457644-c310-4d9b-b686-f0520670442f",
   "metadata": {},
   "outputs": [],
   "source": [
    "# Load the datasets using ISO-8859-1 encoding\n",
    "y1_baseline = pd.read_csv(path1, encoding=\"ISO-8859-1\")\n",
    "y1_follow = pd.read_csv(path2, encoding=\"ISO-8859-1\")\n",
    "y2_baseline = pd.read_csv(path3, encoding=\"ISO-8859-1\")\n",
    "y2_follow = pd.read_csv(path4, encoding=\"ISO-8859-1\")"
   ]
  },
  {
   "cell_type": "code",
   "execution_count": 6,
   "id": "168dbda6-e77c-4232-bd68-e1df12ec111d",
   "metadata": {},
   "outputs": [
    {
     "name": "stdout",
     "output_type": "stream",
     "text": [
      "Y1_baseline: (1189, 115) columns: ['class', 'field_study', 'id', 'A4', 'A5']...\n",
      "Y1_follow: (1189, 115) columns: ['class', 'field_study', 'id', 'A4', 'A5']...\n",
      "Y2_baseline: (572, 115) columns: ['class', 'field_study', 'id', 'A4', 'A5']...\n",
      "Y2_follow: (572, 115) columns: ['class', 'field_study', 'id', 'A4', 'A5']...\n",
      "\n",
      "✅ All datasets have the same column structure!\n"
     ]
    }
   ],
   "source": [
    "# Validate column consistency\n",
    "datasets = {\n",
    "    \"Y1_baseline\": y1_baseline,\n",
    "    \"Y1_follow\": y1_follow,\n",
    "    \"Y2_baseline\": y2_baseline,\n",
    "    \"Y2_follow\": y2_follow\n",
    "}\n",
    "\n",
    "for name, df in datasets.items():\n",
    "    print(f\"{name}: {df.shape} columns: {list(df.columns[:5])}...\")  # Show first 5 columns\n",
    "\n",
    "# Ensure all datasets have the same columns\n",
    "column_sets = {name: set(df.columns) for name, df in datasets.items()}\n",
    "if len(set(map(tuple, column_sets.values()))) == 1:\n",
    "    print(\"\\n✅ All datasets have the same column structure!\")\n",
    "else:\n",
    "    print(\"\\n⚠️ Column mismatch detected between datasets!\")"
   ]
  },
  {
   "cell_type": "code",
   "execution_count": 7,
   "id": "037eccf1-a34c-4370-8c0b-0fd18786521c",
   "metadata": {},
   "outputs": [
    {
     "name": "stdout",
     "output_type": "stream",
     "text": [
      "            Y1_baseline Y1_follow Y2_baseline Y2_follow\n",
      "class             int64    object       int64    object\n",
      "field_study      object    object      object    object\n",
      "id                int64     int64       int64     int64\n",
      "A4               object    object      object    object\n",
      "A5               object    object      object   float64\n",
      "school           object    object      object    object\n",
      "B1               object    object      object    object\n",
      "ca               object    object      object    object\n",
      "B2               object     int64     float64     int64\n",
      "B3               object     int64     float64     int64\n",
      "B4.1             object   float64     float64   float64\n",
      "B4.2             object   float64     float64   float64\n",
      "B4.3             object   float64     float64   float64\n",
      "B4.4             object   float64     float64   float64\n",
      "B4.5             object   float64     float64   float64\n"
     ]
    }
   ],
   "source": [
    "# Create a DataFrame to store column data types\n",
    "dtype_dict = {}\n",
    "for name, df in datasets.items():\n",
    "    dtype_dict[name] = df.dtypes.astype(str)  # Convert data types to string for storage\n",
    "\n",
    "dtype_df = pd.DataFrame(dtype_dict)\n",
    "\n",
    "# Save to CSV for review\n",
    "dtype_df.to_csv(\"D:/S2S_FE/Indonesia_data/column_data_types.csv\", index=True)\n",
    "\n",
    "# Display first 30 rows of data type table\n",
    "print(dtype_df.head(15))"
   ]
  },
  {
   "cell_type": "code",
   "execution_count": 8,
   "id": "63821efe-aae8-4673-b036-030f913a177e",
   "metadata": {},
   "outputs": [],
   "source": [
    "# Function to drop columns containing 'Sebutkan'\n",
    "def drop_sebutkan_cols(df):\n",
    "    return df.loc[:, ~df.columns.str.contains(\"Sebutkan\", case=False, na=False)]\n",
    "\n",
    "# Apply to all your datasets\n",
    "y1_baseline = drop_sebutkan_cols(y1_baseline)\n",
    "y1_follow = drop_sebutkan_cols(y1_follow)\n",
    "y2_baseline = drop_sebutkan_cols(y2_baseline)\n",
    "y2_follow = drop_sebutkan_cols(y2_follow)\n"
   ]
  },
  {
   "cell_type": "code",
   "execution_count": 9,
   "id": "0a42e135-90be-4098-9f86-1d24e292df67",
   "metadata": {},
   "outputs": [],
   "source": [
    "# Clean the datasets and avoid the warning by using .copy()\n",
    "y1_baseline = drop_sebutkan_cols(y1_baseline)\n",
    "y1_follow = drop_sebutkan_cols(y1_follow)\n",
    "y2_baseline = drop_sebutkan_cols(y2_baseline)\n",
    "y2_follow = drop_sebutkan_cols(y2_follow)"
   ]
  },
  {
   "cell_type": "code",
   "execution_count": 10,
   "id": "dee4aff2-78c3-4b71-9382-c67fc7a84d68",
   "metadata": {},
   "outputs": [],
   "source": [
    "# Add new columns to y1 for indicating year1 and baseline for all rows\n",
    "y1_baseline[\"year\"] = \"year1\"\n",
    "y1_baseline[\"type\"] = \"baseline\"\n",
    "\n",
    "# Add new columns to y1 for indicating year1 and follow for all rows\n",
    "y1_follow[\"year\"] = \"year1\"\n",
    "y1_follow[\"type\"] = \"follow\"\n",
    "\n",
    "# Add new columns to y2 for indicating year2 and baseline for all rows\n",
    "y2_baseline[\"year\"] = \"year2\"\n",
    "y2_baseline[\"type\"] = \"baseline\"\n",
    "\n",
    "# Add new columns to y2 for indicating year1 and follow for all rows\n",
    "y2_follow[\"year\"] = \"year2\"\n",
    "y2_follow[\"type\"] = \"follow\""
   ]
  },
  {
   "cell_type": "code",
   "execution_count": 11,
   "id": "db7a93c0-61a4-4665-9caf-456c1d777aaf",
   "metadata": {},
   "outputs": [],
   "source": [
    "### Checking retention betweeen baseline &  follow in year 1"
   ]
  },
  {
   "cell_type": "code",
   "execution_count": 12,
   "id": "5e68f091-a568-425a-b3e2-3880b03f9e4e",
   "metadata": {},
   "outputs": [
    {
     "name": "stdout",
     "output_type": "stream",
     "text": [
      "\n",
      "✅ Identical IDs count in Y1_baseline and Y1_follow: 1189\n"
     ]
    }
   ],
   "source": [
    "# Check if 'ID' column exists in both datasets\n",
    "if \"id\" in y1_baseline.columns and \"id\" in y1_follow.columns:\n",
    "    pre_ids = set(y1_baseline[\"id\"])\n",
    "    post_ids = set(y1_follow[\"id\"])\n",
    "    \n",
    "    # Find common IDs\n",
    "    common_ids = pre_ids.intersection(post_ids)\n",
    "    \n",
    "    print(f\"\\n✅ Identical IDs count in Y1_baseline and Y1_follow: {len(common_ids)}\")\n",
    "else:\n",
    "    print(\"\\n⚠️ 'ID' column not found in one or both Y1 datasets!\")"
   ]
  },
  {
   "cell_type": "code",
   "execution_count": 13,
   "id": "edba55e4-3232-4d16-b851-4b20be1f955e",
   "metadata": {},
   "outputs": [],
   "source": [
    "### Checking retention betweeen baseline and follow in year 2"
   ]
  },
  {
   "cell_type": "code",
   "execution_count": 14,
   "id": "dde50b23-d46c-43ed-a33d-195d68e254d6",
   "metadata": {},
   "outputs": [
    {
     "name": "stdout",
     "output_type": "stream",
     "text": [
      "\n",
      "✅ Identical IDs count in Y2_baseline and Y2_follow: 572\n"
     ]
    }
   ],
   "source": [
    "# Check if 'ID' column exists in both datasets\n",
    "if \"id\" in y2_baseline.columns and \"id\" in y2_follow.columns:\n",
    "    pre_ids = set(y2_baseline[\"id\"])\n",
    "    post_ids = set(y2_follow[\"id\"])\n",
    "    \n",
    "    # Find common IDs\n",
    "    common_ids = pre_ids.intersection(post_ids)\n",
    "    \n",
    "    print(f\"\\n✅ Identical IDs count in Y2_baseline and Y2_follow: {len(common_ids)}\")\n",
    "else:\n",
    "    print(\"\\n⚠️ 'ID' column not found in one or both Y2 datasets!\")"
   ]
  },
  {
   "cell_type": "code",
   "execution_count": 15,
   "id": "b1003441-29a5-443a-a70e-892ed0884d34",
   "metadata": {},
   "outputs": [
    {
     "name": "stdout",
     "output_type": "stream",
     "text": [
      "\n",
      "No duplicate IDs found in y1_baseline.\n",
      "\n",
      "No duplicate IDs found in y1_follow.\n",
      "\n",
      "No duplicate IDs found in y2_baseline.\n",
      "\n",
      "No duplicate IDs found in y2_follow.\n"
     ]
    }
   ],
   "source": [
    "# CHECKING TO SEE IF THERE ARE DUPLICATE ID IN THE DATASET\n",
    "\n",
    "# Function to check and print duplicate IDs in a dataset\n",
    "def check_duplicate_ids(df, name=\"dataset\"):\n",
    "    id_counts = df['id'].value_counts()\n",
    "    duplicate_ids = id_counts[id_counts > 1]\n",
    "    if not duplicate_ids.empty:\n",
    "        print(f\"\\nDuplicate IDs found in {name}:\")\n",
    "        print(duplicate_ids)\n",
    "    else:\n",
    "        print(f\"\\nNo duplicate IDs found in {name}.\")\n",
    "\n",
    "# Run the check for each dataset\n",
    "check_duplicate_ids(y1_baseline, \"y1_baseline\")\n",
    "check_duplicate_ids(y1_follow, \"y1_follow\")\n",
    "check_duplicate_ids(y2_baseline, \"y2_baseline\")\n",
    "check_duplicate_ids(y2_follow, \"y2_follow\")"
   ]
  },
  {
   "cell_type": "code",
   "execution_count": 16,
   "id": "a0b912b2-1ff4-4eac-8002-f60f58940230",
   "metadata": {},
   "outputs": [
    {
     "name": "stdout",
     "output_type": "stream",
     "text": [
      "\n",
      "Missing values in y1_baseline:\n",
      "class          0\n",
      "field_study    0\n",
      "id             0\n",
      "A4             0\n",
      "A5             0\n",
      "school         0\n",
      "B1             0\n",
      "ca             0\n",
      "B2             0\n",
      "B3             0\n",
      "B4.1           0\n",
      "B4.2           0\n",
      "B4.3           0\n",
      "B4.4           0\n",
      "B4.5           0\n",
      "B4.6           0\n",
      "B5.1           0\n",
      "B5.2           0\n",
      "B5.3           0\n",
      "B5.4           0\n",
      "B5.5           0\n",
      "B5.6           0\n",
      "B5.7           0\n",
      "B5.8           0\n",
      "B5.9           0\n",
      "B5.10          0\n",
      "dtype: int64\n",
      "\n",
      "Missing values in y1_follow:\n",
      "class             0\n",
      "field_study       0\n",
      "id                0\n",
      "A4                0\n",
      "A5                0\n",
      "school            0\n",
      "B1                0\n",
      "ca                0\n",
      "B2                0\n",
      "B3                0\n",
      "B4.1           1189\n",
      "B4.2           1189\n",
      "B4.3           1189\n",
      "B4.4           1189\n",
      "B4.5           1189\n",
      "B4.6           1189\n",
      "B5.1              0\n",
      "B5.2              0\n",
      "B5.3              0\n",
      "B5.4              0\n",
      "B5.5              0\n",
      "B5.6              0\n",
      "B5.7              0\n",
      "B5.8              0\n",
      "B5.9              0\n",
      "B5.10             0\n",
      "dtype: int64\n",
      "\n",
      "Missing values in y2_baseline:\n",
      "class           0\n",
      "field_study     0\n",
      "id              0\n",
      "A4              0\n",
      "A5              0\n",
      "school          0\n",
      "B1             15\n",
      "ca             15\n",
      "B2             15\n",
      "B3             15\n",
      "B4.1           15\n",
      "B4.2           15\n",
      "B4.3           15\n",
      "B4.4           15\n",
      "B4.5           15\n",
      "B4.6           15\n",
      "B5.1           15\n",
      "B5.2           15\n",
      "B5.3           15\n",
      "B5.4           15\n",
      "B5.5           15\n",
      "B5.6           15\n",
      "B5.7           15\n",
      "B5.8           15\n",
      "B5.9           15\n",
      "B5.10          15\n",
      "dtype: int64\n",
      "\n",
      "Missing values in y2_follow:\n",
      "class            0\n",
      "field_study      0\n",
      "id               0\n",
      "A4               0\n",
      "A5             572\n",
      "school           0\n",
      "B1               0\n",
      "ca               0\n",
      "B2               0\n",
      "B3               0\n",
      "B4.1           572\n",
      "B4.2           572\n",
      "B4.3           572\n",
      "B4.4           572\n",
      "B4.5           572\n",
      "B4.6           572\n",
      "B5.1             0\n",
      "B5.2             0\n",
      "B5.3             0\n",
      "B5.4             0\n",
      "B5.5             0\n",
      "B5.6             0\n",
      "B5.7             0\n",
      "B5.8             0\n",
      "B5.9             0\n",
      "B5.10            0\n",
      "dtype: int64\n"
     ]
    }
   ],
   "source": [
    "# CHECKING MISSING VALUE IN SOCIO-ECONOMIC COLUMN\n",
    "\n",
    "\n",
    "# DefinING  the list of columns of interested in\n",
    "cols = ['class', 'field_study', 'id', 'A4', 'A5', 'school', 'B1', 'ca', 'B2', 'B3',\n",
    "        'B4.1', 'B4.2', 'B4.3', 'B4.4', 'B4.5', 'B4.6',\n",
    "        'B5.1', 'B5.2', 'B5.3', 'B5.4', 'B5.5', 'B5.6', 'B5.7', 'B5.8', 'B5.9', 'B5.10']\n",
    "\n",
    "# datasets into a dictionary to loop over them\n",
    "datasets = {\n",
    "    \"y1_baseline\": y1_baseline,\n",
    "    \"y1_follow\": y1_follow,\n",
    "    \"y2_baseline\": y2_baseline,\n",
    "    \"y2_follow\": y2_follow\n",
    "}\n",
    "\n",
    "# Loop through and print missing value counts for the selected columns\n",
    "for name, df in datasets.items():\n",
    "    print(f\"\\nMissing values in {name}:\")\n",
    "    print(df[cols].isna().sum())"
   ]
  },
  {
   "cell_type": "markdown",
   "id": "81bbc3ca-52b7-4c14-8b39-d5431b66f749",
   "metadata": {},
   "source": [
    "__Note on Missing Data:__\n",
    "Both follow-up surveys are missing data on disabilities. However, since this is a panel survey, we assumed that disability status remains the same as reported at baseline. Therefore, we can impute the missing values in the follow-ups using the baseline data.\n",
    "\n",
    "That said, we also identified that the Year 2 baseline contains 15 incomplete cases, ranging from variable B1 (date of birth) to B5.10 (house – ceramic flooring). These 15 cases must be removed from the Year 2 baseline before using it to impute disability data in the corresponding follow-up."
   ]
  },
  {
   "cell_type": "code",
   "execution_count": 18,
   "id": "c3e91278-5780-4888-a1d3-ed45e9e5aafb",
   "metadata": {},
   "outputs": [
    {
     "data": {
      "text/plain": [
       "B4.1    0\n",
       "B4.2    0\n",
       "B4.3    0\n",
       "B4.4    0\n",
       "B4.5    0\n",
       "B4.6    0\n",
       "dtype: int64"
      ]
     },
     "execution_count": 18,
     "metadata": {},
     "output_type": "execute_result"
    }
   ],
   "source": [
    "# FILLING MISSING VALUE IN YEAR 1 FOR DISABILITIES FOR FOLLOW USING  BASELINE WE HAVE PANEL DATA\n",
    "\n",
    "# List of columns to fill\n",
    "cols_to_fill = ['B4.1', 'B4.2', 'B4.3', 'B4.4', 'B4.5', 'B4.6']\n",
    "\n",
    "# Step 1: Extract just the id and those columns from baseline\n",
    "baseline_subset = y1_baseline[[\"id\"] + cols_to_fill].drop_duplicates()\n",
    "\n",
    "# Step 2: Merge with y2_follow on id\n",
    "y1_follow = y1_follow.merge(baseline_subset, on=\"id\", how=\"left\", suffixes=(\"\", \"_baseline\"))\n",
    "\n",
    "# Step 3: Fill missing values for each column\n",
    "for col in cols_to_fill:\n",
    "    y1_follow[col] = y1_follow[col].fillna(y1_follow[f\"{col}_baseline\"])\n",
    "    y1_follow.drop(columns=[f\"{col}_baseline\"], inplace=True)\n",
    "\n",
    "# checking missing values in y1_follow\n",
    "y1_follow[['B4.1', 'B4.2', 'B4.3', 'B4.4', 'B4.5', 'B4.6']].isna().sum()  "
   ]
  },
  {
   "cell_type": "code",
   "execution_count": 19,
   "id": "bd981159-e0b4-4834-85a7-584de7c704ea",
   "metadata": {},
   "outputs": [
    {
     "name": "stdout",
     "output_type": "stream",
     "text": [
      "Total baseline cases: 572\n",
      "Complete baseline cases: 557\n",
      "\n",
      "Remaining missing values after filling from complete baseline:\n",
      "B4.1    15\n",
      "B4.2    15\n",
      "B4.3    15\n",
      "B4.4    15\n",
      "B4.5    15\n",
      "B4.6    15\n",
      "dtype: int64\n",
      "\n",
      "Dropped 15 follow-up rows due to missing disability data.\n"
     ]
    }
   ],
   "source": [
    "# 15 CASES DROP & FILLING MISSING VALUE IN YEAR 2 FOR DISABILITIES FOR FOLLOW USING  BASELINE WE HAVE PANEL DATA\n",
    "\n",
    "# STEP 1: Flag incomplete baseline cases (those with missing B5.1)\n",
    "y2_baseline[\"is_complete\"] = ~y2_baseline[\"B5.1\"].isna()\n",
    "print(f\"Total baseline cases: {y2_baseline.shape[0]}\")\n",
    "print(f\"Complete baseline cases: {y2_baseline['is_complete'].sum()}\")\n",
    "\n",
    "# STEP 2: Prepare to impute disability data in the follow-up using only complete baseline cases\n",
    "cols_to_fill = ['B4.1', 'B4.2', 'B4.3', 'B4.4', 'B4.5', 'B4.6']\n",
    "\n",
    "# Extract only ID and disability-related columns from complete baseline\n",
    "baseline_complete = y2_baseline[y2_baseline[\"is_complete\"]][[\"id\"] + cols_to_fill].drop_duplicates()\n",
    "\n",
    "# STEP 3: Merge complete baseline disability data into the follow-up data\n",
    "y2_follow = y2_follow.merge(baseline_complete, on=\"id\", how=\"left\", suffixes=(\"\", \"_baseline\"))\n",
    "\n",
    "# STEP 4: Fill missing disability values in follow-up from the baseline\n",
    "for col in cols_to_fill:\n",
    "    y2_follow[col] = y2_follow[col].fillna(y2_follow[f\"{col}_baseline\"])\n",
    "    y2_follow.drop(columns=[f\"{col}_baseline\"], inplace=True)\n",
    "\n",
    "# STEP 5: Check remaining missing values\n",
    "missing_counts = y2_follow[cols_to_fill].isna().sum()\n",
    "print(\"\\nRemaining missing values after filling from complete baseline:\")\n",
    "print(missing_counts)\n",
    "\n",
    "# STEP 6: Drop follow-up rows where disability data could not be filled\n",
    "before_drop = y2_follow.shape[0]\n",
    "y2_follow = y2_follow[~y2_follow[cols_to_fill[0]].isna()]\n",
    "after_drop = y2_follow.shape[0]\n",
    "print(f\"\\nDropped {before_drop - after_drop} follow-up rows due to missing disability data.\")\n",
    "\n"
   ]
  },
  {
   "cell_type": "code",
   "execution_count": 20,
   "id": "c697d4e4-052b-42a8-a0df-19e7710c4a31",
   "metadata": {},
   "outputs": [
    {
     "data": {
      "text/plain": [
       "B4.1    0\n",
       "B4.2    0\n",
       "B4.3    0\n",
       "B4.4    0\n",
       "B4.5    0\n",
       "B4.6    0\n",
       "dtype: int64"
      ]
     },
     "execution_count": 20,
     "metadata": {},
     "output_type": "execute_result"
    }
   ],
   "source": [
    "# checking missing values in y2_follow for disabilitis after treatment\n",
    "y2_follow[['B4.1', 'B4.2', 'B4.3', 'B4.4', 'B4.5', 'B4.6']].isna().sum()  "
   ]
  },
  {
   "cell_type": "code",
   "execution_count": 21,
   "id": "638dae21-a570-4216-b079-c5024b4a9690",
   "metadata": {},
   "outputs": [],
   "source": [
    "y2_baseline = y2_baseline.dropna(subset=['B1'])"
   ]
  },
  {
   "cell_type": "code",
   "execution_count": 22,
   "id": "cf8d674c-d6a5-4403-ba4c-2fbdbd7e019d",
   "metadata": {},
   "outputs": [
    {
     "name": "stdout",
     "output_type": "stream",
     "text": [
      "\n",
      "Missing values in y1_baseline:\n",
      "class          0\n",
      "field_study    0\n",
      "id             0\n",
      "A4             0\n",
      "A5             0\n",
      "school         0\n",
      "B1             0\n",
      "ca             0\n",
      "B2             0\n",
      "B3             0\n",
      "B4.1           0\n",
      "B4.2           0\n",
      "B4.3           0\n",
      "B4.4           0\n",
      "B4.5           0\n",
      "B4.6           0\n",
      "B5.1           0\n",
      "B5.2           0\n",
      "B5.3           0\n",
      "B5.4           0\n",
      "B5.5           0\n",
      "B5.6           0\n",
      "B5.7           0\n",
      "B5.8           0\n",
      "B5.9           0\n",
      "B5.10          0\n",
      "dtype: int64\n",
      "\n",
      "Missing values in y1_follow:\n",
      "class          0\n",
      "field_study    0\n",
      "id             0\n",
      "A4             0\n",
      "A5             0\n",
      "school         0\n",
      "B1             0\n",
      "ca             0\n",
      "B2             0\n",
      "B3             0\n",
      "B4.1           0\n",
      "B4.2           0\n",
      "B4.3           0\n",
      "B4.4           0\n",
      "B4.5           0\n",
      "B4.6           0\n",
      "B5.1           0\n",
      "B5.2           0\n",
      "B5.3           0\n",
      "B5.4           0\n",
      "B5.5           0\n",
      "B5.6           0\n",
      "B5.7           0\n",
      "B5.8           0\n",
      "B5.9           0\n",
      "B5.10          0\n",
      "dtype: int64\n",
      "\n",
      "Missing values in y2_baseline:\n",
      "class          0\n",
      "field_study    0\n",
      "id             0\n",
      "A4             0\n",
      "A5             0\n",
      "school         0\n",
      "B1             0\n",
      "ca             0\n",
      "B2             0\n",
      "B3             0\n",
      "B4.1           0\n",
      "B4.2           0\n",
      "B4.3           0\n",
      "B4.4           0\n",
      "B4.5           0\n",
      "B4.6           0\n",
      "B5.1           0\n",
      "B5.2           0\n",
      "B5.3           0\n",
      "B5.4           0\n",
      "B5.5           0\n",
      "B5.6           0\n",
      "B5.7           0\n",
      "B5.8           0\n",
      "B5.9           0\n",
      "B5.10          0\n",
      "dtype: int64\n",
      "\n",
      "Missing values in y2_follow:\n",
      "class            0\n",
      "field_study      0\n",
      "id               0\n",
      "A4               0\n",
      "A5             557\n",
      "school           0\n",
      "B1               0\n",
      "ca               0\n",
      "B2               0\n",
      "B3               0\n",
      "B4.1             0\n",
      "B4.2             0\n",
      "B4.3             0\n",
      "B4.4             0\n",
      "B4.5             0\n",
      "B4.6             0\n",
      "B5.1             0\n",
      "B5.2             0\n",
      "B5.3             0\n",
      "B5.4             0\n",
      "B5.5             0\n",
      "B5.6             0\n",
      "B5.7             0\n",
      "B5.8             0\n",
      "B5.9             0\n",
      "B5.10            0\n",
      "dtype: int64\n"
     ]
    }
   ],
   "source": [
    "# RE-CHECKING MISSING VALUE IN SOCIO-ECONOMIC COLUMNS AFTER TREATEMENT\n",
    "\n",
    "\n",
    "# DefinING  the list of columns of interested in\n",
    "cols = ['class', 'field_study', 'id', 'A4', 'A5', 'school', 'B1', 'ca', 'B2', 'B3',\n",
    "        'B4.1', 'B4.2', 'B4.3', 'B4.4', 'B4.5', 'B4.6',\n",
    "        'B5.1', 'B5.2', 'B5.3', 'B5.4', 'B5.5', 'B5.6', 'B5.7', 'B5.8', 'B5.9', 'B5.10']\n",
    "\n",
    "# datasets into a dictionary to loop over them\n",
    "datasets = {\n",
    "    \"y1_baseline\": y1_baseline,\n",
    "    \"y1_follow\": y1_follow,\n",
    "    \"y2_baseline\": y2_baseline,\n",
    "    \"y2_follow\": y2_follow\n",
    "}\n",
    "\n",
    "# Loop through and print missing value counts for the selected columns\n",
    "for name, df in datasets.items():\n",
    "    print(f\"\\nMissing values in {name}:\")\n",
    "    print(df[cols].isna().sum())"
   ]
  },
  {
   "cell_type": "markdown",
   "id": "291a0ad3-ad5d-4817-8aad-63b1bfce73a2",
   "metadata": {},
   "source": [
    "## 🛠️ 2. Pre-processing the concatenated baseline and follow up dataset"
   ]
  },
  {
   "cell_type": "code",
   "execution_count": 24,
   "id": "79a3d21f-9832-4b85-96f3-a12b60e041b6",
   "metadata": {},
   "outputs": [],
   "source": [
    "# CONCATENATING THE DATASETS\n",
    "\n",
    "df1 = pd.concat([y1_baseline, y1_follow, y2_baseline, y2_follow], ignore_index=True)"
   ]
  },
  {
   "cell_type": "code",
   "execution_count": 25,
   "id": "8432dc20-ddb4-439d-89ab-ba2efe700978",
   "metadata": {},
   "outputs": [
    {
     "data": {
      "text/html": [
       "<div>\n",
       "<style scoped>\n",
       "    .dataframe tbody tr th:only-of-type {\n",
       "        vertical-align: middle;\n",
       "    }\n",
       "\n",
       "    .dataframe tbody tr th {\n",
       "        vertical-align: top;\n",
       "    }\n",
       "\n",
       "    .dataframe thead th {\n",
       "        text-align: right;\n",
       "    }\n",
       "</style>\n",
       "<table border=\"1\" class=\"dataframe\">\n",
       "  <thead>\n",
       "    <tr style=\"text-align: right;\">\n",
       "      <th></th>\n",
       "      <th>year</th>\n",
       "      <th>type</th>\n",
       "      <th>class</th>\n",
       "      <th>field_study</th>\n",
       "      <th>id</th>\n",
       "      <th>A4</th>\n",
       "      <th>A5</th>\n",
       "      <th>school</th>\n",
       "      <th>B1</th>\n",
       "      <th>ca</th>\n",
       "      <th>...</th>\n",
       "      <th>F22</th>\n",
       "      <th>F23</th>\n",
       "      <th>F31</th>\n",
       "      <th>F32</th>\n",
       "      <th>F33</th>\n",
       "      <th>F34</th>\n",
       "      <th>F35</th>\n",
       "      <th>Total Resiliency</th>\n",
       "      <th>Carrer Readiness</th>\n",
       "      <th>is_complete</th>\n",
       "    </tr>\n",
       "  </thead>\n",
       "  <tbody>\n",
       "    <tr>\n",
       "      <th>0</th>\n",
       "      <td>year1</td>\n",
       "      <td>baseline</td>\n",
       "      <td>12</td>\n",
       "      <td>TATA BOGA</td>\n",
       "      <td>2750</td>\n",
       "      <td>Jawa Timur</td>\n",
       "      <td>Lumajang</td>\n",
       "      <td>SMKN 2 LUMAJANG</td>\n",
       "      <td>3/29/2005</td>\n",
       "      <td>2/2/2023</td>\n",
       "      <td>...</td>\n",
       "      <td>1</td>\n",
       "      <td>keahlian yg kita miliki</td>\n",
       "      <td>1</td>\n",
       "      <td>1</td>\n",
       "      <td>1</td>\n",
       "      <td>2</td>\n",
       "      <td>1</td>\n",
       "      <td>3.0</td>\n",
       "      <td>0.525</td>\n",
       "      <td>NaN</td>\n",
       "    </tr>\n",
       "    <tr>\n",
       "      <th>1</th>\n",
       "      <td>year1</td>\n",
       "      <td>baseline</td>\n",
       "      <td>12</td>\n",
       "      <td>TATA BOGA</td>\n",
       "      <td>2765</td>\n",
       "      <td>Jawa Timur</td>\n",
       "      <td>Lumajang</td>\n",
       "      <td>SMKN 2 LUMAJANG</td>\n",
       "      <td>10/12/2004</td>\n",
       "      <td>2/2/2023</td>\n",
       "      <td>...</td>\n",
       "      <td>1</td>\n",
       "      <td>MEMASAK</td>\n",
       "      <td>1</td>\n",
       "      <td>2</td>\n",
       "      <td>2</td>\n",
       "      <td>2</td>\n",
       "      <td>1</td>\n",
       "      <td>2.6</td>\n",
       "      <td>0.7125</td>\n",
       "      <td>NaN</td>\n",
       "    </tr>\n",
       "  </tbody>\n",
       "</table>\n",
       "<p>2 rows × 108 columns</p>\n",
       "</div>"
      ],
      "text/plain": [
       "    year      type class field_study    id          A4        A5  \\\n",
       "0  year1  baseline    12   TATA BOGA  2750  Jawa Timur  Lumajang   \n",
       "1  year1  baseline    12   TATA BOGA  2765  Jawa Timur  Lumajang   \n",
       "\n",
       "            school          B1        ca  ... F22                      F23  \\\n",
       "0  SMKN 2 LUMAJANG   3/29/2005  2/2/2023  ...   1  keahlian yg kita miliki   \n",
       "1  SMKN 2 LUMAJANG  10/12/2004  2/2/2023  ...   1                  MEMASAK   \n",
       "\n",
       "  F31 F32 F33 F34 F35 Total Resiliency Carrer Readiness is_complete  \n",
       "0   1   1   1   2   1              3.0            0.525         NaN  \n",
       "1   1   2   2   2   1              2.6           0.7125         NaN  \n",
       "\n",
       "[2 rows x 108 columns]"
      ]
     },
     "execution_count": 25,
     "metadata": {},
     "output_type": "execute_result"
    }
   ],
   "source": [
    "# Define custom categorical order for sorting\n",
    "df1[\"year\"] = pd.Categorical(df1[\"year\"], categories=[\"year1\", \"year2\"], ordered=True)\n",
    "df1[\"type\"] = pd.Categorical(df1[\"type\"], categories=[\"baseline\", \"follow\"], ordered=True)\n",
    "\n",
    "# Sort by year first, then by type\n",
    "df1 = df1.sort_values(by=[\"year\", \"type\"]).reset_index(drop=True)\n",
    "\n",
    "# Define the desired column order\n",
    "column_order = [\"year\", \"type\"] + [col for col in df1.columns if col not in [\"year\", \"type\"]]\n",
    "\n",
    "# Reorder the DataFrame\n",
    "df1 = df1[column_order]\n",
    "\n",
    "# View the first 2 rows\n",
    "df1.head(2)\n"
   ]
  },
  {
   "cell_type": "code",
   "execution_count": 26,
   "id": "10cbf060-9113-4a72-ad63-154ef12836a6",
   "metadata": {},
   "outputs": [
    {
     "name": "stdout",
     "output_type": "stream",
     "text": [
      "['year', 'type', 'class', 'field_study', 'id', 'A4', 'A5', 'school', 'B1', 'ca', 'B2', 'B3', 'B4.1', 'B4.2', 'B4.3', 'B4.4', 'B4.5', 'B4.6', 'B5.1', 'B5.2', 'B5.3', 'B5.4', 'B5.5', 'B5.6', 'B5.7', 'B5.8', 'B5.9', 'B5.10', 'C0', 'C00', 'C00.1', 'C00.2', 'C00.3', 'C00.4', 'C00.5', 'C01', 'C02', 'C11', 'C12', 'C13', 'C14', 'C15', 'C16', 'C17', 'C18', 'C19', 'C110', 'C111', 'C112', 'C113.1', 'C113.2', 'C113.3', 'C113.4', 'C113.5', 'C114', 'C115', 'C116', 'C117', 'C118', 'C119', 'C21', 'C22', 'C23', 'C24', 'C25', 'C26', 'C27', 'C28', 'C29', 'C210', 'C211', 'C212', 'C213', 'C214', 'C31', 'C32', 'C33', 'C41', 'C42', 'C43', 'D1', 'D2', 'D3', 'D4', 'D5', 'D6', 'D7', 'Be', 'E1', 'E2', 'E3', 'E4', 'E5', 'E6', 'E7', 'F11', 'F12', 'F21', 'F22', 'F23', 'F31', 'F32', 'F33', 'F34', 'F35', 'Total Resiliency', 'Carrer Readiness', 'is_complete']\n"
     ]
    }
   ],
   "source": [
    "column_headers = df1.columns.tolist()\n",
    "print(column_headers)"
   ]
  },
  {
   "cell_type": "markdown",
   "id": "70d900e1-8f5c-4429-bab6-263e2b89deb0",
   "metadata": {},
   "source": [
    "### Creating a disability column \n",
    "\n",
    "To create a simplified column called has_disability that summarizes the responses from six disability-related questions (B4.1 to B4.6) for each individual. Logic Behind has_disability:\n",
    "\n",
    "If any of the six responses is:\n",
    "\n",
    "    * 2 (some difficulty)\n",
    "\n",
    "    * 3 (a lot of difficulty)\n",
    "\n",
    "    * 4 (cannot do at all)\n",
    "        → then has_disability = 1 (the person has a disability)\n",
    "\n",
    "If any response is:\n",
    "\n",
    "    * 7 (refused to answer)\n",
    "\n",
    "    * 9 (don’t know)\n",
    "        → then has_disability = 99 (response is inconclusive)\n",
    "\n",
    "If all six responses are: 1 (no difficulty) → then has_disability = 0 (no disability)"
   ]
  },
  {
   "cell_type": "code",
   "execution_count": 28,
   "id": "72191e80-91b5-4e8a-a7b0-81499786ee5f",
   "metadata": {},
   "outputs": [],
   "source": [
    "# List of disability-related columns\n",
    "disability_cols = ['B4.1', 'B4.2', 'B4.3', 'B4.4', 'B4.5', 'B4.6']\n",
    "\n",
    "# Function to classify disability status\n",
    "# 1 = has disability (any 2, 3, or 4)\n",
    "# 0 = no disability (all 1s)\n",
    "# 99 = refused or don't know (any 7 or 9)\n",
    "def classify_disability(row):\n",
    "    if any(row[col] in [7, 9] for col in disability_cols):\n",
    "        return 99\n",
    "    elif any(row[col] in [2, 3, 4] for col in disability_cols):\n",
    "        return 1\n",
    "    else:\n",
    "        return 0\n",
    "\n",
    "# Apply the function to your dataset (e.g., y2_follow or any DataFrame you're working with)\n",
    "df1[\"has_disability\"] = df1.apply(classify_disability, axis=1)"
   ]
  },
  {
   "cell_type": "code",
   "execution_count": 29,
   "id": "58c3658e-b41f-4188-bbcd-5298690dbda0",
   "metadata": {},
   "outputs": [
    {
     "data": {
      "text/plain": [
       "B3\n",
       "1    1336\n",
       "2     964\n",
       "1     746\n",
       "2     433\n",
       "x       8\n",
       "4       3\n",
       "4       2\n",
       "Name: count, dtype: int64"
      ]
     },
     "execution_count": 29,
     "metadata": {},
     "output_type": "execute_result"
    }
   ],
   "source": [
    "# Checking the value for gender\n",
    "df1['B3'].value_counts()"
   ]
  },
  {
   "cell_type": "markdown",
   "id": "ef060479-cb90-471d-aa02-9dc94a5f678c",
   "metadata": {},
   "source": [
    "I noticed that there are 8 gender cases with values outside the acceptable range, so I need to drop them. Additionally, some values are in float format and should be converted to integers."
   ]
  },
  {
   "cell_type": "code",
   "execution_count": 31,
   "id": "787df5e8-f41c-4aab-b97a-5c0a8b5ae334",
   "metadata": {},
   "outputs": [],
   "source": [
    "# Drop rows where gender == 'x'\n",
    "df1 = df1[df1['B3'] != 'x']\n",
    "\n",
    "# Convert B3 float columns to integer\n",
    "df1[\"B3\"] = df1[\"B3\"].astype(int)"
   ]
  },
  {
   "cell_type": "code",
   "execution_count": 32,
   "id": "b6ad2f39-c291-4b0c-ae7a-1bad26647140",
   "metadata": {},
   "outputs": [
    {
     "data": {
      "text/plain": [
       "B5.1     object\n",
       "B5.2     object\n",
       "B5.3     object\n",
       "B5.4     object\n",
       "B5.5     object\n",
       "B5.6     object\n",
       "B5.7     object\n",
       "B5.8     object\n",
       "B5.9     object\n",
       "B5.10    object\n",
       "dtype: object"
      ]
     },
     "execution_count": 32,
     "metadata": {},
     "output_type": "execute_result"
    }
   ],
   "source": [
    "# Checking value type for assets \n",
    "df1[['B5.1', 'B5.2', 'B5.3', 'B5.4', 'B5.5', 'B5.6', 'B5.7', 'B5.8', 'B5.9', 'B5.10']].dtypes"
   ]
  },
  {
   "cell_type": "code",
   "execution_count": 33,
   "id": "2a4fb9df-7aec-47d0-9167-26f3e424fdd2",
   "metadata": {},
   "outputs": [],
   "source": [
    "# Convert the selected float columns to integer\n",
    "cols_to_convert = ['B5.1', 'B5.2', 'B5.3', 'B5.4', 'B5.5', 'B5.6', 'B5.7', 'B5.8', 'B5.9', 'B5.10']\n",
    "df1[cols_to_convert] = df1[cols_to_convert].apply(pd.to_numeric, errors='coerce').astype('Int64')"
   ]
  },
  {
   "cell_type": "code",
   "execution_count": 34,
   "id": "33a36d85-94b1-4bb1-b353-23aa83c8270a",
   "metadata": {},
   "outputs": [
    {
     "data": {
      "text/plain": [
       "B5.1     Int64\n",
       "B5.2     Int64\n",
       "B5.3     Int64\n",
       "B5.4     Int64\n",
       "B5.5     Int64\n",
       "B5.6     Int64\n",
       "B5.7     Int64\n",
       "B5.8     Int64\n",
       "B5.9     Int64\n",
       "B5.10    Int64\n",
       "dtype: object"
      ]
     },
     "execution_count": 34,
     "metadata": {},
     "output_type": "execute_result"
    }
   ],
   "source": [
    "# re-Checking value type for assets \n",
    "df1[['B5.1', 'B5.2', 'B5.3', 'B5.4', 'B5.5', 'B5.6', 'B5.7', 'B5.8', 'B5.9', 'B5.10']].dtypes"
   ]
  },
  {
   "cell_type": "code",
   "execution_count": 35,
   "id": "aafffd64-347d-404c-a102-c6a63f96fbfc",
   "metadata": {},
   "outputs": [
    {
     "data": {
      "text/plain": [
       "B5.2\n",
       "2    1756\n",
       "1    1701\n",
       "9      18\n",
       "3       9\n",
       "Name: count, dtype: Int64"
      ]
     },
     "execution_count": 35,
     "metadata": {},
     "output_type": "execute_result"
    }
   ],
   "source": [
    "# Checking the value count of assets \n",
    "df1[ 'B5.2'].value_counts()"
   ]
  },
  {
   "cell_type": "code",
   "execution_count": 36,
   "id": "adc97bfd-fb10-4f50-ab58-b3e5a27e259d",
   "metadata": {},
   "outputs": [],
   "source": [
    "#recoding assets column\n",
    "\n",
    "cols_to_recode = ['B5.1', 'B5.2', 'B5.3', 'B5.4', 'B5.5', 'B5.6', 'B5.7', 'B5.8', 'B5.9', 'B5.10']\n",
    "\n",
    "# Your recoding rule\n",
    "recode_map = {1: 1, 2: 0, 3: 99, 9: 99}\n",
    "\n",
    "# Apply the mapping across the columns\n",
    "df1[cols_to_recode] = df1[cols_to_recode].applymap(lambda x: recode_map.get(x, x))\n"
   ]
  },
  {
   "cell_type": "code",
   "execution_count": 37,
   "id": "70b1492c-d96f-4c76-89e4-c266cebcb80a",
   "metadata": {},
   "outputs": [
    {
     "data": {
      "text/plain": [
       "B5.2\n",
       "0     1756\n",
       "1     1701\n",
       "99      27\n",
       "Name: count, dtype: int64"
      ]
     },
     "execution_count": 37,
     "metadata": {},
     "output_type": "execute_result"
    }
   ],
   "source": [
    "df1[ 'B5.2'].value_counts()"
   ]
  },
  {
   "cell_type": "code",
   "execution_count": 38,
   "id": "695ba5c3-e8f2-4c2b-893a-79d98598324c",
   "metadata": {},
   "outputs": [],
   "source": [
    "# CREATING AN ASSET INDEX \n",
    "\n",
    "cols_to_sum = ['B5.1', 'B5.2', 'B5.3', 'B5.4', 'B5.5', 'B5.6', 'B5.7', 'B5.8', 'B5.9', 'B5.10'] \n",
    "\n",
    "# Set up the condition: if any value in the row is 99 → return NaN; else sum 0/1 values\n",
    "df1['asset_index'] = df1[cols_to_sum].apply(\n",
    "    lambda row: row.sum() if 99 not in row.values else pd.NA,\n",
    "    axis=1\n",
    ").astype('Int64')   # use Int64 if you want to preserve NA\n"
   ]
  },
  {
   "cell_type": "code",
   "execution_count": null,
   "id": "c4e18afb-3f38-40a4-8eac-2e7692c866c5",
   "metadata": {},
   "outputs": [],
   "source": []
  },
  {
   "cell_type": "code",
   "execution_count": 39,
   "id": "6cc13b86-d7d5-4ed2-a8d1-c7e95ad4447a",
   "metadata": {},
   "outputs": [
    {
     "data": {
      "text/plain": [
       "dtype('O')"
      ]
     },
     "execution_count": 39,
     "metadata": {},
     "output_type": "execute_result"
    }
   ],
   "source": [
    "# Checking data type of Age \n",
    "df1['B2'].dtype"
   ]
  },
  {
   "cell_type": "code",
   "execution_count": 40,
   "id": "541bb9a9-b1ff-4136-9974-db3f673e0edf",
   "metadata": {},
   "outputs": [],
   "source": [
    "# Convert B2 object  Age columns to integer\n",
    "df1[\"B2\"] = df1[\"B2\"].astype(int)"
   ]
  },
  {
   "cell_type": "code",
   "execution_count": 41,
   "id": "d6474fd4-7886-4e7e-853a-c932f1963237",
   "metadata": {},
   "outputs": [
    {
     "data": {
      "text/plain": [
       "dtype('O')"
      ]
     },
     "execution_count": 41,
     "metadata": {},
     "output_type": "execute_result"
    }
   ],
   "source": [
    "# Checking data type of C0 (have you graduated from edu system?) \n",
    "df1['C0'].dtype"
   ]
  },
  {
   "cell_type": "code",
   "execution_count": 42,
   "id": "49c37933-7729-49e6-9aa2-8e01c391e280",
   "metadata": {},
   "outputs": [],
   "source": [
    "# Convert C0 object columns to integer\n",
    "df1[\"C0\"] = df1[\"C0\"].astype(int)"
   ]
  },
  {
   "cell_type": "code",
   "execution_count": 43,
   "id": "16481595-1636-412a-aefe-23c0e3f72ef7",
   "metadata": {},
   "outputs": [],
   "source": [
    "#recoding C0\n",
    "edu_map = {1: 'Yes', 2: 'No'}\n",
    "df1['C0'] = df1['C0'].map(edu_map)"
   ]
  },
  {
   "cell_type": "code",
   "execution_count": 44,
   "id": "8dd9f63e-8702-458b-aee3-e22f7cbe8a53",
   "metadata": {},
   "outputs": [
    {
     "data": {
      "text/plain": [
       "dtype('O')"
      ]
     },
     "execution_count": 44,
     "metadata": {},
     "output_type": "execute_result"
    }
   ],
   "source": [
    "# Checking data type of C00.1 (currently employed) \n",
    "df1['C00.1'].dtype"
   ]
  },
  {
   "cell_type": "code",
   "execution_count": 45,
   "id": "2121f936-73a3-4e28-838c-9cb03a3bfeb8",
   "metadata": {},
   "outputs": [
    {
     "data": {
      "text/plain": [
       "C00.1\n",
       "0        1814\n",
       "FALSE    1116\n",
       "1         489\n",
       "TRUE       65\n",
       "Name: count, dtype: int64"
      ]
     },
     "execution_count": 45,
     "metadata": {},
     "output_type": "execute_result"
    }
   ],
   "source": [
    "df1['C00.1'].value_counts()"
   ]
  },
  {
   "cell_type": "markdown",
   "id": "2f7e6cf0-cb0a-4868-8bb3-f1b59d824280",
   "metadata": {},
   "source": [
    "the column C00.1 in the DataFrame contains mixed data types: numeric (0, 1) and boolean-like strings ('FALSE', 'TRUE'). So I will first treat everything as inteers (0/1) then as Yes and No"
   ]
  },
  {
   "cell_type": "code",
   "execution_count": 47,
   "id": "dac5bdbc-9e4f-4703-a16b-7dfa06472468",
   "metadata": {},
   "outputs": [],
   "source": [
    "df1['C00.1_clean'] = df1['C00.1'].replace({'FALSE': 0, 'TRUE': 1})\n",
    "#recoding C001\n",
    "df1['C00.1'] = df1['C00.1'].map({0: 'No', 1: 'Yes'})"
   ]
  },
  {
   "cell_type": "code",
   "execution_count": 48,
   "id": "543a59f3-e81d-43dd-85e8-85d76917104b",
   "metadata": {},
   "outputs": [
    {
     "data": {
      "text/plain": [
       "dtype('O')"
      ]
     },
     "execution_count": 48,
     "metadata": {},
     "output_type": "execute_result"
    }
   ],
   "source": [
    "# Checking data type of C00.2 (Owned Business) \n",
    "df1['C00.2'].dtype"
   ]
  },
  {
   "cell_type": "code",
   "execution_count": 49,
   "id": "7f3f7fda-5e96-4393-ab48-f55d20c40738",
   "metadata": {},
   "outputs": [
    {
     "data": {
      "text/plain": [
       "C00.2\n",
       "0        2236\n",
       "FALSE    1141\n",
       "1          67\n",
       "TRUE       40\n",
       "Name: count, dtype: int64"
      ]
     },
     "execution_count": 49,
     "metadata": {},
     "output_type": "execute_result"
    }
   ],
   "source": [
    "df1['C00.2'].value_counts()"
   ]
  },
  {
   "cell_type": "code",
   "execution_count": 50,
   "id": "74b8ba20-f876-4cc8-99d9-1ee432d997f7",
   "metadata": {},
   "outputs": [],
   "source": [
    "#recoding C002\n",
    "df1['C00.2'] = df1['C00.2'].replace({'FALSE': 0, 'TRUE': 1})\n",
    "df1['C00.2'] = df1['C00.2'].map({0: 'No', 1: 'Yes'})"
   ]
  },
  {
   "cell_type": "code",
   "execution_count": 51,
   "id": "05d6cebf-3db9-45c1-a6c6-6828fa161e1d",
   "metadata": {},
   "outputs": [],
   "source": [
    "#recoding C003, C004 & C005\n",
    "\n",
    "df1['C00.3'] = df1['C00.3'].replace({'FALSE': 0, 'TRUE': 1})\n",
    "df1['C00.3'] = df1['C00.3'].map({0: 'No', 1: 'Yes'})\n",
    "\n",
    "df1['C00.4'] = df1['C00.4'].replace({'FALSE': 0, 'TRUE': 1})\n",
    "df1['C00.4'] = df1['C00.4'].map({0: 'No', 1: 'Yes'})\n",
    "\n",
    "df1['C00.5'] = df1['C00.5'].replace({'FALSE': 0, 'TRUE': 1})\n",
    "df1['C00.5'] = df1['C00.5'].map({0: 'No', 1: 'Yes'})"
   ]
  },
  {
   "cell_type": "code",
   "execution_count": null,
   "id": "4deee2e3-56e7-47ff-91ca-2f23d8f5aa34",
   "metadata": {},
   "outputs": [],
   "source": []
  },
  {
   "cell_type": "code",
   "execution_count": null,
   "id": "3b817104-d2c1-4be1-931d-8ed632842bfa",
   "metadata": {},
   "outputs": [],
   "source": []
  },
  {
   "cell_type": "markdown",
   "id": "9bc94018-b436-4bff-8277-43aef21211b8",
   "metadata": {},
   "source": [
    "## 📈 3. Socio-Demographic data analysis"
   ]
  },
  {
   "cell_type": "code",
   "execution_count": 53,
   "id": "da21183d-6c28-483b-b4e0-42bf7507f40d",
   "metadata": {},
   "outputs": [],
   "source": [
    "# Creating two sub datasets( Baseline and  Follow up) for the previous concatenated dataset \n",
    "df1_baseline = df1[df1[\"type\"] == \"baseline\"]\n",
    "df1_follow = df1[df1[\"type\"] == \"follow\"]"
   ]
  },
  {
   "cell_type": "markdown",
   "id": "2a3021a1-172d-4574-a7bf-1c6aaf11b308",
   "metadata": {},
   "source": [
    "#### % youth with no (and with) disabilities"
   ]
  },
  {
   "cell_type": "code",
   "execution_count": 55,
   "id": "cbdf80fb-e72f-4d4c-9c4d-968d6aae3d6e",
   "metadata": {},
   "outputs": [
    {
     "data": {
      "text/plain": [
       "has_disability\n",
       "0     77.905639\n",
       "1     19.505178\n",
       "99     2.589183\n",
       "Name: proportion, dtype: float64"
      ]
     },
     "execution_count": 55,
     "metadata": {},
     "output_type": "execute_result"
    }
   ],
   "source": [
    "df1_baseline['has_disability'].value_counts(normalize=True) * 100"
   ]
  },
  {
   "cell_type": "markdown",
   "id": "73828ca5-ec2f-4f85-8385-a0246cbcdea5",
   "metadata": {},
   "source": [
    "#### % youth by gender"
   ]
  },
  {
   "cell_type": "code",
   "execution_count": 57,
   "id": "06b2dcf7-4854-4c48-ac33-64782cb5aad6",
   "metadata": {},
   "outputs": [
    {
     "data": {
      "text/plain": [
       "B3\n",
       "1    59.551208\n",
       "2    40.218642\n",
       "4     0.230150\n",
       "Name: proportion, dtype: float64"
      ]
     },
     "execution_count": 57,
     "metadata": {},
     "output_type": "execute_result"
    }
   ],
   "source": [
    "df1_baseline[\"B3\"].value_counts(normalize=True) *100"
   ]
  },
  {
   "cell_type": "markdown",
   "id": "a099ed67-5dd4-4435-83eb-cb5221fdaeb8",
   "metadata": {},
   "source": [
    "#### % of youth by gender and disabilities "
   ]
  },
  {
   "cell_type": "code",
   "execution_count": 59,
   "id": "628789d6-5a47-467b-9f7e-6f54d99bc7b7",
   "metadata": {},
   "outputs": [
    {
     "data": {
      "text/html": [
       "<div>\n",
       "<style scoped>\n",
       "    .dataframe tbody tr th:only-of-type {\n",
       "        vertical-align: middle;\n",
       "    }\n",
       "\n",
       "    .dataframe tbody tr th {\n",
       "        vertical-align: top;\n",
       "    }\n",
       "\n",
       "    .dataframe thead th {\n",
       "        text-align: right;\n",
       "    }\n",
       "</style>\n",
       "<table border=\"1\" class=\"dataframe\">\n",
       "  <thead>\n",
       "    <tr style=\"text-align: right;\">\n",
       "      <th>has_disability</th>\n",
       "      <th>0</th>\n",
       "      <th>1</th>\n",
       "      <th>99</th>\n",
       "    </tr>\n",
       "    <tr>\n",
       "      <th>B3</th>\n",
       "      <th></th>\n",
       "      <th></th>\n",
       "      <th></th>\n",
       "    </tr>\n",
       "  </thead>\n",
       "  <tbody>\n",
       "    <tr>\n",
       "      <th>1</th>\n",
       "      <td>80.483092</td>\n",
       "      <td>17.294686</td>\n",
       "      <td>2.222222</td>\n",
       "    </tr>\n",
       "    <tr>\n",
       "      <th>2</th>\n",
       "      <td>74.248927</td>\n",
       "      <td>22.746781</td>\n",
       "      <td>3.004292</td>\n",
       "    </tr>\n",
       "    <tr>\n",
       "      <th>4</th>\n",
       "      <td>50.000000</td>\n",
       "      <td>25.000000</td>\n",
       "      <td>25.000000</td>\n",
       "    </tr>\n",
       "  </tbody>\n",
       "</table>\n",
       "</div>"
      ],
      "text/plain": [
       "has_disability         0          1          99\n",
       "B3                                             \n",
       "1               80.483092  17.294686   2.222222\n",
       "2               74.248927  22.746781   3.004292\n",
       "4               50.000000  25.000000  25.000000"
      ]
     },
     "execution_count": 59,
     "metadata": {},
     "output_type": "execute_result"
    }
   ],
   "source": [
    "gender_disability = pd.crosstab(df1_baseline['B3'], df1_baseline['has_disability'], normalize='index') *100 # row-wise\n",
    "gender_disability"
   ]
  },
  {
   "cell_type": "markdown",
   "id": "24c4596d-3cd0-4ce2-859d-044e83bf6404",
   "metadata": {},
   "source": [
    "#### % youth by assest index  at baseline and follow up"
   ]
  },
  {
   "cell_type": "code",
   "execution_count": 61,
   "id": "a4ed9bd5-437a-4b9f-a4e0-1060b063de0a",
   "metadata": {},
   "outputs": [
    {
     "data": {
      "text/plain": [
       "asset_index\n",
       "1      0.217549\n",
       "2      0.435098\n",
       "3      1.740392\n",
       "10     4.060914\n",
       "4      5.003626\n",
       "5     10.804931\n",
       "9      13.19797\n",
       "6      20.08702\n",
       "8     22.117476\n",
       "7     22.335025\n",
       "Name: proportion, dtype: Float64"
      ]
     },
     "execution_count": 61,
     "metadata": {},
     "output_type": "execute_result"
    }
   ],
   "source": [
    "# Percentage of youth at baseline by asset index\n",
    "df1_baseline[\"asset_index\"].value_counts(normalize=True).sort_values() *100\n"
   ]
  },
  {
   "cell_type": "code",
   "execution_count": 62,
   "id": "629cf4e8-9402-4f2e-8e3d-5fd8005d471e",
   "metadata": {},
   "outputs": [
    {
     "data": {
      "text/plain": [
       "count      1379.0\n",
       "mean      6.93546\n",
       "std      1.631346\n",
       "min           1.0\n",
       "25%           6.0\n",
       "50%           7.0\n",
       "75%           8.0\n",
       "max          10.0\n",
       "Name: asset_index, dtype: Float64"
      ]
     },
     "execution_count": 62,
     "metadata": {},
     "output_type": "execute_result"
    }
   ],
   "source": [
    "#  Descriptive statistic for asset index at baseline\n",
    "df1_baseline[\"asset_index\"].describe()"
   ]
  },
  {
   "cell_type": "code",
   "execution_count": 63,
   "id": "ce53c4b4-3abf-47a9-9add-8280431220c8",
   "metadata": {},
   "outputs": [
    {
     "data": {
      "text/plain": [
       "asset_index\n",
       "1      0.264026\n",
       "2       0.39604\n",
       "3      1.716172\n",
       "4      4.026403\n",
       "10     4.092409\n",
       "5      8.778878\n",
       "9     12.343234\n",
       "6     20.330033\n",
       "8     22.442244\n",
       "7     25.610561\n",
       "Name: proportion, dtype: Float64"
      ]
     },
     "execution_count": 63,
     "metadata": {},
     "output_type": "execute_result"
    }
   ],
   "source": [
    "# Percentage of youth at follow up by asset inde\n",
    "df1_follow[\"asset_index\"].value_counts(normalize=True).sort_values() *100"
   ]
  },
  {
   "cell_type": "code",
   "execution_count": 64,
   "id": "8facbd4c-20a0-4212-b087-33945b90f75c",
   "metadata": {},
   "outputs": [
    {
     "data": {
      "text/plain": [
       "count      1515.0\n",
       "mean     6.990099\n",
       "std      1.572731\n",
       "min           1.0\n",
       "25%           6.0\n",
       "50%           7.0\n",
       "75%           8.0\n",
       "max          10.0\n",
       "Name: asset_index, dtype: Float64"
      ]
     },
     "execution_count": 64,
     "metadata": {},
     "output_type": "execute_result"
    }
   ],
   "source": [
    "#  Descriptive statistic for asset index at follow up\n",
    "df1_follow[\"asset_index\"].describe()"
   ]
  },
  {
   "cell_type": "code",
   "execution_count": 65,
   "id": "61c67943-aed8-49d4-8719-65a7928515fb",
   "metadata": {},
   "outputs": [
    {
     "data": {
      "text/html": [
       "<div>\n",
       "<style scoped>\n",
       "    .dataframe tbody tr th:only-of-type {\n",
       "        vertical-align: middle;\n",
       "    }\n",
       "\n",
       "    .dataframe tbody tr th {\n",
       "        vertical-align: top;\n",
       "    }\n",
       "\n",
       "    .dataframe thead th {\n",
       "        text-align: right;\n",
       "    }\n",
       "</style>\n",
       "<table border=\"1\" class=\"dataframe\">\n",
       "  <thead>\n",
       "    <tr style=\"text-align: right;\">\n",
       "      <th></th>\n",
       "      <th>Baseline (%)</th>\n",
       "      <th>Follow-up (%)</th>\n",
       "    </tr>\n",
       "    <tr>\n",
       "      <th>asset_index</th>\n",
       "      <th></th>\n",
       "      <th></th>\n",
       "    </tr>\n",
       "  </thead>\n",
       "  <tbody>\n",
       "    <tr>\n",
       "      <th>1</th>\n",
       "      <td>0.217549</td>\n",
       "      <td>0.264026</td>\n",
       "    </tr>\n",
       "    <tr>\n",
       "      <th>2</th>\n",
       "      <td>0.435098</td>\n",
       "      <td>0.39604</td>\n",
       "    </tr>\n",
       "    <tr>\n",
       "      <th>3</th>\n",
       "      <td>1.740392</td>\n",
       "      <td>1.716172</td>\n",
       "    </tr>\n",
       "    <tr>\n",
       "      <th>4</th>\n",
       "      <td>5.003626</td>\n",
       "      <td>4.026403</td>\n",
       "    </tr>\n",
       "    <tr>\n",
       "      <th>5</th>\n",
       "      <td>10.804931</td>\n",
       "      <td>8.778878</td>\n",
       "    </tr>\n",
       "    <tr>\n",
       "      <th>6</th>\n",
       "      <td>20.08702</td>\n",
       "      <td>20.330033</td>\n",
       "    </tr>\n",
       "    <tr>\n",
       "      <th>7</th>\n",
       "      <td>22.335025</td>\n",
       "      <td>25.610561</td>\n",
       "    </tr>\n",
       "    <tr>\n",
       "      <th>8</th>\n",
       "      <td>22.117476</td>\n",
       "      <td>22.442244</td>\n",
       "    </tr>\n",
       "    <tr>\n",
       "      <th>9</th>\n",
       "      <td>13.19797</td>\n",
       "      <td>12.343234</td>\n",
       "    </tr>\n",
       "    <tr>\n",
       "      <th>10</th>\n",
       "      <td>4.060914</td>\n",
       "      <td>4.092409</td>\n",
       "    </tr>\n",
       "  </tbody>\n",
       "</table>\n",
       "</div>"
      ],
      "text/plain": [
       "             Baseline (%)  Follow-up (%)\n",
       "asset_index                             \n",
       "1                0.217549       0.264026\n",
       "2                0.435098        0.39604\n",
       "3                1.740392       1.716172\n",
       "4                5.003626       4.026403\n",
       "5               10.804931       8.778878\n",
       "6                20.08702      20.330033\n",
       "7               22.335025      25.610561\n",
       "8               22.117476      22.442244\n",
       "9                13.19797      12.343234\n",
       "10               4.060914       4.092409"
      ]
     },
     "execution_count": 65,
     "metadata": {},
     "output_type": "execute_result"
    }
   ],
   "source": [
    "# CREATING A TABLE FOR PERCENTAGE OF YOUTH BY ASSET INDEX AT BOTH BASELINE AND FOLLOW UP \n",
    "\n",
    "# Make sure both are pandas Series with indexes\n",
    "baseline_pct = df1_baseline[\"asset_index\"].value_counts(normalize=True).sort_index() * 100\n",
    "follow_pct = df1_follow[\"asset_index\"].value_counts(normalize=True).sort_index() * 100\n",
    "\n",
    "# Combine using pd.concat to ensure alignment\n",
    "asset_comparison = pd.concat([baseline_pct, follow_pct], axis=1)\n",
    "asset_comparison.columns = [\"Baseline (%)\", \"Follow-up (%)\"]\n",
    "asset_comparison = asset_comparison.fillna(0)  # in case some categories are missing\n",
    "asset_comparison.head(10)"
   ]
  },
  {
   "cell_type": "code",
   "execution_count": 66,
   "id": "bd6e39bb-a96d-4213-a192-3207b811d2b1",
   "metadata": {},
   "outputs": [
    {
     "data": {
      "image/png": "[encoded data removed]",
      "text/plain": [
       "<Figure size 800x500 with 1 Axes>"
      ]
     },
     "metadata": {},
     "output_type": "display_data"
    }
   ],
   "source": [
    "# Plot side-by-side bar chart\n",
    "\n",
    "import matplotlib.pyplot as plt\n",
    "ax = asset_comparison.plot(kind='bar', figsize=(8, 5), rot=0)\n",
    "\n",
    "# Step 4: Add labels and title\n",
    "plt.title(\"Asset Index Distribution at Baseline and Follow-Up\")\n",
    "plt.ylabel(\"Percentage (%)\")\n",
    "plt.xlabel(\"Asset Index\")\n",
    "plt.legend(title=\"Survey Round\")\n",
    "plt.tight_layout()\n",
    "plt.grid(axis='y', linestyle='--', alpha=0.7)\n",
    "\n",
    "plt.show()"
   ]
  },
  {
   "cell_type": "markdown",
   "id": "225898fc-cc6e-45e0-b727-a67ea9518647",
   "metadata": {},
   "source": [
    "####  Youth Age at baseline "
   ]
  },
  {
   "cell_type": "code",
   "execution_count": 68,
   "id": "1754ac16-afd4-41b3-a355-10fa0bc10608",
   "metadata": {},
   "outputs": [
    {
     "data": {
      "text/plain": [
       "count    1738.000000\n",
       "mean       16.810702\n",
       "std         2.203091\n",
       "min        -2.000000\n",
       "25%        16.000000\n",
       "50%        17.000000\n",
       "75%        18.000000\n",
       "max        22.000000\n",
       "Name: B2, dtype: float64"
      ]
     },
     "execution_count": 68,
     "metadata": {},
     "output_type": "execute_result"
    }
   ],
   "source": [
    "# Descriptive Statistics\n",
    "df1_baseline['B2'].describe()"
   ]
  },
  {
   "cell_type": "code",
   "execution_count": 69,
   "id": "31d523dd-cb09-474b-85aa-17e651e385f2",
   "metadata": {},
   "outputs": [
    {
     "data": {
      "image/png": "[encoded data removed]",
      "text/plain": [
       "<Figure size 800x500 with 1 Axes>"
      ]
     },
     "metadata": {},
     "output_type": "display_data"
    }
   ],
   "source": [
    "# Filter out ages less than 5\n",
    "df1_baseline_filtered = df1[df1['B2'] >= 5]\n",
    "\n",
    "\n",
    "plt.figure(figsize=(8, 5))\n",
    "plt.hist(df1_baseline_filtered['B2'].dropna(), bins=20, color='skyblue', edgecolor='black')\n",
    "\n",
    "plt.title(\"Age Distribution Histogram\")\n",
    "plt.xlabel(\"Age\")\n",
    "plt.ylabel(\"Count\")\n",
    "plt.grid(axis='y', linestyle='--', alpha=0.7)\n",
    "plt.tight_layout()\n",
    "plt.show()"
   ]
  },
  {
   "cell_type": "code",
   "execution_count": 70,
   "id": "588e2847-76ef-4741-8fe2-c3801be083fd",
   "metadata": {},
   "outputs": [
    {
     "data": {
      "image/png": "[encoded data removed]",
      "text/plain": [
       "<Figure size 800x500 with 1 Axes>"
      ]
     },
     "metadata": {},
     "output_type": "display_data"
    }
   ],
   "source": [
    "# Age pyramidal by gender\n",
    "\n",
    "# Step 1: Recode gender and exclude unknowns\n",
    "gender_map = {1: 'Female', 2: 'Male'}\n",
    "df1_baseline = df1_baseline[df1_baseline['B3'].isin([1, 2])]  # Exclude unknown gender (4)\n",
    "df1_baseline['B3'] = df1_baseline['B3'].map(gender_map)\n",
    "\n",
    "# Step 2: Exclude ages below 10\n",
    "df1_baseline = df1_baseline[df1_baseline['B2'] >= 10]\n",
    "\n",
    "# Step 3: Define age bins for ages 10 to 24\n",
    "\n",
    "age_bins = [10, 12, 14, 16, 18, 20, 22, 24]\n",
    "age_labels = [f\"{age_bins[i]}-{age_bins[i+1]}\" for i in range(len(age_bins)-1)]\n",
    "df1_baseline['age_group'] = pd.cut(df1_baseline['B2'], bins=age_bins, labels=age_labels, right=True)\n",
    "\n",
    "# Step 4: Group by age group and gender\n",
    "pyramid = df1_baseline.groupby(['age_group', 'B3']).size().unstack(fill_value=0)\n",
    "\n",
    "# Step 5: Invert male values for pyramid\n",
    "pyramid['Male'] = -pyramid.get('Male', 0)\n",
    "\n",
    "# Step 6: Plot\n",
    "fig, ax = plt.subplots(figsize=(8, 5))\n",
    "\n",
    "# Bars\n",
    "ax.barh(pyramid.index, pyramid['Male'], color='steelblue', label='Male')\n",
    "ax.barh(pyramid.index, pyramid['Female'], color='salmon', label='Female')\n",
    "\n",
    "# Formatting\n",
    "ax.set_xlabel(\"Youth Count\")\n",
    "ax.set_ylabel(\"Age Group\")\n",
    "ax.set_title(\"Age Pyramid (Ages 10–24)\")\n",
    "ax.legend()\n",
    "ax.axvline(0, color='black', linewidth=0.5)\n",
    "plt.tight_layout()\n",
    "plt.show()"
   ]
  },
  {
   "cell_type": "markdown",
   "id": "4021d485-6f28-4d8a-a670-1d6bc4ed18fa",
   "metadata": {},
   "source": [
    "## 📈 4. Transformed outcomes data analysis"
   ]
  },
  {
   "cell_type": "markdown",
   "id": "d26476cc-5923-484e-b972-1264b5988f9c",
   "metadata": {},
   "source": [
    "#### Percentage of youth  at baseline who graduated from the education system"
   ]
  },
  {
   "cell_type": "code",
   "execution_count": 73,
   "id": "e2c7efe7-fe68-4c58-b56c-f8978da6f1f7",
   "metadata": {},
   "outputs": [
    {
     "data": {
      "text/plain": [
       "C0\n",
       "Yes     0.525701\n",
       "No     99.474299\n",
       "Name: proportion, dtype: float64"
      ]
     },
     "execution_count": 73,
     "metadata": {},
     "output_type": "execute_result"
    }
   ],
   "source": [
    "df1_baseline[\"C0\"].value_counts(normalize=True).sort_values() *100"
   ]
  },
  {
   "cell_type": "markdown",
   "id": "26b19a5c-474a-43d4-85d6-f3c39f1d17c3",
   "metadata": {},
   "source": [
    "#### Percentage of youth at baseline who graduated from the education system by gender"
   ]
  },
  {
   "cell_type": "code",
   "execution_count": 75,
   "id": "711e7500-e962-43fe-b748-b2747b04f376",
   "metadata": {},
   "outputs": [
    {
     "data": {
      "text/html": [
       "<div>\n",
       "<style scoped>\n",
       "    .dataframe tbody tr th:only-of-type {\n",
       "        vertical-align: middle;\n",
       "    }\n",
       "\n",
       "    .dataframe tbody tr th {\n",
       "        vertical-align: top;\n",
       "    }\n",
       "\n",
       "    .dataframe thead th {\n",
       "        text-align: right;\n",
       "    }\n",
       "</style>\n",
       "<table border=\"1\" class=\"dataframe\">\n",
       "  <thead>\n",
       "    <tr style=\"text-align: right;\">\n",
       "      <th>C0</th>\n",
       "      <th>No</th>\n",
       "      <th>Yes</th>\n",
       "    </tr>\n",
       "    <tr>\n",
       "      <th>B3</th>\n",
       "      <th></th>\n",
       "      <th></th>\n",
       "    </tr>\n",
       "  </thead>\n",
       "  <tbody>\n",
       "    <tr>\n",
       "      <th>Female</th>\n",
       "      <td>99.609756</td>\n",
       "      <td>0.390244</td>\n",
       "    </tr>\n",
       "    <tr>\n",
       "      <th>Male</th>\n",
       "      <td>99.272198</td>\n",
       "      <td>0.727802</td>\n",
       "    </tr>\n",
       "  </tbody>\n",
       "</table>\n",
       "</div>"
      ],
      "text/plain": [
       "C0             No       Yes\n",
       "B3                         \n",
       "Female  99.609756  0.390244\n",
       "Male    99.272198  0.727802"
      ]
     },
     "execution_count": 75,
     "metadata": {},
     "output_type": "execute_result"
    }
   ],
   "source": [
    "gender_system_baseline = pd.crosstab(df1_baseline['B3'], df1_baseline['C0'], normalize='index')* 100  # row-wise\n",
    "gender_system_baseline"
   ]
  },
  {
   "cell_type": "markdown",
   "id": "c98fd8cd-2d35-4a51-a70b-2cb066019c4b",
   "metadata": {},
   "source": [
    "#### Percentage of youth at follow up who graduated from the education system by gender"
   ]
  },
  {
   "cell_type": "code",
   "execution_count": 77,
   "id": "04fe74ee-4593-4e72-af36-774bc66af1b6",
   "metadata": {},
   "outputs": [
    {
     "data": {
      "text/html": [
       "<div>\n",
       "<style scoped>\n",
       "    .dataframe tbody tr th:only-of-type {\n",
       "        vertical-align: middle;\n",
       "    }\n",
       "\n",
       "    .dataframe tbody tr th {\n",
       "        vertical-align: top;\n",
       "    }\n",
       "\n",
       "    .dataframe thead th {\n",
       "        text-align: right;\n",
       "    }\n",
       "</style>\n",
       "<table border=\"1\" class=\"dataframe\">\n",
       "  <thead>\n",
       "    <tr style=\"text-align: right;\">\n",
       "      <th>C0</th>\n",
       "      <th>No</th>\n",
       "      <th>Yes</th>\n",
       "    </tr>\n",
       "    <tr>\n",
       "      <th>B3</th>\n",
       "      <th></th>\n",
       "      <th></th>\n",
       "    </tr>\n",
       "  </thead>\n",
       "  <tbody>\n",
       "    <tr>\n",
       "      <th>1</th>\n",
       "      <td>37.917861</td>\n",
       "      <td>62.082139</td>\n",
       "    </tr>\n",
       "    <tr>\n",
       "      <th>2</th>\n",
       "      <td>28.939828</td>\n",
       "      <td>71.060172</td>\n",
       "    </tr>\n",
       "    <tr>\n",
       "      <th>4</th>\n",
       "      <td>100.000000</td>\n",
       "      <td>0.000000</td>\n",
       "    </tr>\n",
       "  </tbody>\n",
       "</table>\n",
       "</div>"
      ],
      "text/plain": [
       "C0          No        Yes\n",
       "B3                       \n",
       "1    37.917861  62.082139\n",
       "2    28.939828  71.060172\n",
       "4   100.000000   0.000000"
      ]
     },
     "execution_count": 77,
     "metadata": {},
     "output_type": "execute_result"
    }
   ],
   "source": [
    "gender_system_follow = pd.crosstab(df1_follow['B3'], df1_follow['C0'], normalize='index')* 100  # row-wise\n",
    "gender_system_follow"
   ]
  },
  {
   "cell_type": "markdown",
   "id": "ffbb7075-9562-4bcb-b678-3c8cf38db227",
   "metadata": {},
   "source": [
    "#### Percentage of youth  at follow up who graduated from the education system"
   ]
  },
  {
   "cell_type": "code",
   "execution_count": 79,
   "id": "e6e0833a-bc29-4999-821d-326e0f9c97e0",
   "metadata": {},
   "outputs": [
    {
     "data": {
      "text/plain": [
       "C0\n",
       "No     34.364261\n",
       "Yes    65.635739\n",
       "Name: proportion, dtype: float64"
      ]
     },
     "execution_count": 79,
     "metadata": {},
     "output_type": "execute_result"
    }
   ],
   "source": [
    "df1_follow[\"C0\"].value_counts(normalize=True).sort_values() *100"
   ]
  },
  {
   "cell_type": "markdown",
   "id": "5799a5fc-66fc-4494-9dfd-1bc08d610a68",
   "metadata": {},
   "source": [
    "#### Percentage of youth employed at baseline"
   ]
  },
  {
   "cell_type": "code",
   "execution_count": 81,
   "id": "41166a01-c944-4a9e-9ea3-ad9e893c8072",
   "metadata": {},
   "outputs": [
    {
     "data": {
      "text/plain": [
       "C00.1\n",
       "Yes     3.669725\n",
       "No     96.330275\n",
       "Name: proportion, dtype: float64"
      ]
     },
     "execution_count": 81,
     "metadata": {},
     "output_type": "execute_result"
    }
   ],
   "source": [
    "df1_baseline[\"C00.1\"].value_counts(normalize=True).sort_values() *100"
   ]
  },
  {
   "cell_type": "markdown",
   "id": "a0c2930d-07f8-4736-91b4-61de10674602",
   "metadata": {},
   "source": [
    "#### Percentage of youth employed at baseline by gender"
   ]
  },
  {
   "cell_type": "code",
   "execution_count": 83,
   "id": "4ae5397f-bbb0-44bd-8efe-4f339c00a647",
   "metadata": {},
   "outputs": [
    {
     "data": {
      "text/html": [
       "<div>\n",
       "<style scoped>\n",
       "    .dataframe tbody tr th:only-of-type {\n",
       "        vertical-align: middle;\n",
       "    }\n",
       "\n",
       "    .dataframe tbody tr th {\n",
       "        vertical-align: top;\n",
       "    }\n",
       "\n",
       "    .dataframe thead th {\n",
       "        text-align: right;\n",
       "    }\n",
       "</style>\n",
       "<table border=\"1\" class=\"dataframe\">\n",
       "  <thead>\n",
       "    <tr style=\"text-align: right;\">\n",
       "      <th>C00.1</th>\n",
       "      <th>No</th>\n",
       "      <th>Yes</th>\n",
       "    </tr>\n",
       "    <tr>\n",
       "      <th>B3</th>\n",
       "      <th></th>\n",
       "      <th></th>\n",
       "    </tr>\n",
       "  </thead>\n",
       "  <tbody>\n",
       "    <tr>\n",
       "      <th>Female</th>\n",
       "      <td>96.167247</td>\n",
       "      <td>3.832753</td>\n",
       "    </tr>\n",
       "    <tr>\n",
       "      <th>Male</th>\n",
       "      <td>96.511628</td>\n",
       "      <td>3.488372</td>\n",
       "    </tr>\n",
       "  </tbody>\n",
       "</table>\n",
       "</div>"
      ],
      "text/plain": [
       "C00.1          No       Yes\n",
       "B3                         \n",
       "Female  96.167247  3.832753\n",
       "Male    96.511628  3.488372"
      ]
     },
     "execution_count": 83,
     "metadata": {},
     "output_type": "execute_result"
    }
   ],
   "source": [
    "gender_employed_baseline = pd.crosstab(df1_baseline['B3'], df1_baseline['C00.1'], normalize='index')* 100  # row-wise\n",
    "gender_employed_baseline"
   ]
  },
  {
   "cell_type": "markdown",
   "id": "7b72d42a-be91-4b67-9127-6e5a49edc464",
   "metadata": {},
   "source": [
    "#### Percentage of youth employed at follow up by gender"
   ]
  },
  {
   "cell_type": "code",
   "execution_count": 85,
   "id": "3902172e-e69c-4f47-829f-b6bc4976733a",
   "metadata": {},
   "outputs": [
    {
     "data": {
      "text/html": [
       "<div>\n",
       "<style scoped>\n",
       "    .dataframe tbody tr th:only-of-type {\n",
       "        vertical-align: middle;\n",
       "    }\n",
       "\n",
       "    .dataframe tbody tr th {\n",
       "        vertical-align: top;\n",
       "    }\n",
       "\n",
       "    .dataframe thead th {\n",
       "        text-align: right;\n",
       "    }\n",
       "</style>\n",
       "<table border=\"1\" class=\"dataframe\">\n",
       "  <thead>\n",
       "    <tr style=\"text-align: right;\">\n",
       "      <th>C00.1</th>\n",
       "      <th>No</th>\n",
       "      <th>Yes</th>\n",
       "    </tr>\n",
       "    <tr>\n",
       "      <th>B3</th>\n",
       "      <th></th>\n",
       "      <th></th>\n",
       "    </tr>\n",
       "  </thead>\n",
       "  <tbody>\n",
       "    <tr>\n",
       "      <th>1</th>\n",
       "      <td>77.077364</td>\n",
       "      <td>22.922636</td>\n",
       "    </tr>\n",
       "    <tr>\n",
       "      <th>2</th>\n",
       "      <td>67.335244</td>\n",
       "      <td>32.664756</td>\n",
       "    </tr>\n",
       "    <tr>\n",
       "      <th>4</th>\n",
       "      <td>100.000000</td>\n",
       "      <td>0.000000</td>\n",
       "    </tr>\n",
       "  </tbody>\n",
       "</table>\n",
       "</div>"
      ],
      "text/plain": [
       "C00.1          No        Yes\n",
       "B3                          \n",
       "1       77.077364  22.922636\n",
       "2       67.335244  32.664756\n",
       "4      100.000000   0.000000"
      ]
     },
     "execution_count": 85,
     "metadata": {},
     "output_type": "execute_result"
    }
   ],
   "source": [
    "gender_employed_follow = pd.crosstab(df1_follow['B3'], df1_follow['C00.1'], normalize='index')* 100  # row-wise\n",
    "gender_employed_follow"
   ]
  },
  {
   "cell_type": "markdown",
   "id": "60f50c05-f7a3-4bdf-ae4d-d9563f2a9f09",
   "metadata": {},
   "source": [
    "#### Percentage of youth employed at follow up"
   ]
  },
  {
   "cell_type": "code",
   "execution_count": 87,
   "id": "83e4d5e7-7db6-44b7-b40b-77cc0550ffd9",
   "metadata": {},
   "outputs": [
    {
     "data": {
      "text/plain": [
       "C00.1\n",
       "Yes    26.804124\n",
       "No     73.195876\n",
       "Name: proportion, dtype: float64"
      ]
     },
     "execution_count": 87,
     "metadata": {},
     "output_type": "execute_result"
    }
   ],
   "source": [
    "df1_follow[\"C00.1\"].value_counts(normalize=True).sort_values() *100"
   ]
  },
  {
   "cell_type": "markdown",
   "id": "bcc590c3-8ea2-4975-8e9d-81b733b608d6",
   "metadata": {},
   "source": [
    "#### Percentage of youth Owned business at baseline"
   ]
  },
  {
   "cell_type": "code",
   "execution_count": 89,
   "id": "af98f971-1fc9-4d2e-9f9f-d4b1dc68a8ff",
   "metadata": {},
   "outputs": [
    {
     "data": {
      "text/plain": [
       "C00.2\n",
       "Yes     2.920561\n",
       "No     97.079439\n",
       "Name: proportion, dtype: float64"
      ]
     },
     "execution_count": 89,
     "metadata": {},
     "output_type": "execute_result"
    }
   ],
   "source": [
    "df1_baseline[\"C00.2\"].value_counts(normalize=True).sort_values() *100"
   ]
  },
  {
   "cell_type": "markdown",
   "id": "f284143d-c99a-4a20-9137-7cc147599932",
   "metadata": {},
   "source": [
    "#### Percentage of youth Owned business at follow up"
   ]
  },
  {
   "cell_type": "code",
   "execution_count": 91,
   "id": "c8228948-7a01-462e-8123-2ca65ec924ab",
   "metadata": {},
   "outputs": [
    {
     "data": {
      "text/plain": [
       "C00.2\n",
       "Yes     3.207331\n",
       "No     96.792669\n",
       "Name: proportion, dtype: float64"
      ]
     },
     "execution_count": 91,
     "metadata": {},
     "output_type": "execute_result"
    }
   ],
   "source": [
    "df1_follow[\"C00.2\"].value_counts(normalize=True).sort_values() *100"
   ]
  },
  {
   "cell_type": "markdown",
   "id": "94d35636-a0b5-418a-931f-b8ebf24c743b",
   "metadata": {},
   "source": [
    "#### Percentage of youth studying at baseline\n"
   ]
  },
  {
   "cell_type": "code",
   "execution_count": 93,
   "id": "aa7aca3c-4391-4859-8572-ecd653affd17",
   "metadata": {},
   "outputs": [
    {
     "data": {
      "text/plain": [
       "C00.3\n",
       "No      1.985981\n",
       "Yes    98.014019\n",
       "Name: proportion, dtype: float64"
      ]
     },
     "execution_count": 93,
     "metadata": {},
     "output_type": "execute_result"
    }
   ],
   "source": [
    "df1_baseline[\"C00.3\"].value_counts(normalize=True).sort_values() *100"
   ]
  },
  {
   "cell_type": "markdown",
   "id": "d077e055-ddb0-412c-91b7-a2b7bfae8d37",
   "metadata": {},
   "source": [
    "#### Percentage of youth studying at follow up"
   ]
  },
  {
   "cell_type": "code",
   "execution_count": 95,
   "id": "b24331ca-3f03-4b5d-9d09-efbacf971c30",
   "metadata": {},
   "outputs": [
    {
     "data": {
      "text/plain": [
       "C00.3\n",
       "Yes    48.682703\n",
       "No     51.317297\n",
       "Name: proportion, dtype: float64"
      ]
     },
     "execution_count": 95,
     "metadata": {},
     "output_type": "execute_result"
    }
   ],
   "source": [
    "df1_follow[\"C00.3\"].value_counts(normalize=True).sort_values() *100"
   ]
  },
  {
   "cell_type": "markdown",
   "id": "1a08f8f8-7bf6-4623-af42-3e1a85089f62",
   "metadata": {},
   "source": [
    "#### Percentage of youth looking for job at baseline¶"
   ]
  },
  {
   "cell_type": "code",
   "execution_count": 97,
   "id": "821e642c-bda0-4eed-9bc3-228769390ce4",
   "metadata": {},
   "outputs": [
    {
     "data": {
      "text/plain": [
       "C00.4\n",
       "Yes     9.404206\n",
       "No     90.595794\n",
       "Name: proportion, dtype: float64"
      ]
     },
     "execution_count": 97,
     "metadata": {},
     "output_type": "execute_result"
    }
   ],
   "source": [
    "df1_baseline[\"C00.4\"].value_counts(normalize=True).sort_values() *100"
   ]
  },
  {
   "cell_type": "markdown",
   "id": "b1692022-aeb8-4c62-9052-cb1b15659a2d",
   "metadata": {},
   "source": [
    "#### Percentage of youth looking for job at follow up"
   ]
  },
  {
   "cell_type": "code",
   "execution_count": 99,
   "id": "f445741d-1f05-4198-a86e-d009d7eccc3b",
   "metadata": {},
   "outputs": [
    {
     "data": {
      "text/plain": [
       "C00.4\n",
       "Yes    25.028637\n",
       "No     74.971363\n",
       "Name: proportion, dtype: float64"
      ]
     },
     "execution_count": 99,
     "metadata": {},
     "output_type": "execute_result"
    }
   ],
   "source": [
    "df1_follow[\"C00.4\"].value_counts(normalize=True).sort_values() *100"
   ]
  },
  {
   "cell_type": "markdown",
   "id": "bd78e04d-2706-4195-94bc-addfccb41122",
   "metadata": {},
   "source": [
    "#### Percentage of youth not studying, not working & looking for job at baseline¶"
   ]
  },
  {
   "cell_type": "code",
   "execution_count": 101,
   "id": "3fec1c0f-b467-423c-ac96-546e6d25dc15",
   "metadata": {},
   "outputs": [
    {
     "data": {
      "text/plain": [
       "C00.5\n",
       "Yes     0.817757\n",
       "No     99.182243\n",
       "Name: proportion, dtype: float64"
      ]
     },
     "execution_count": 101,
     "metadata": {},
     "output_type": "execute_result"
    }
   ],
   "source": [
    "df1_baseline[\"C00.5\"].value_counts(normalize=True).sort_values() *100"
   ]
  },
  {
   "cell_type": "markdown",
   "id": "9a75690b-47c8-4e02-b692-5b4e141ed48e",
   "metadata": {},
   "source": [
    "#### Percentage of youth not studying, not working & looking for job at follow up"
   ]
  },
  {
   "cell_type": "code",
   "execution_count": 103,
   "id": "fdbf958d-406a-4ae9-b2d0-47adce7e8fcc",
   "metadata": {},
   "outputs": [
    {
     "data": {
      "text/plain": [
       "C00.5\n",
       "Yes     2.348225\n",
       "No     97.651775\n",
       "Name: proportion, dtype: float64"
      ]
     },
     "execution_count": 103,
     "metadata": {},
     "output_type": "execute_result"
    }
   ],
   "source": [
    "df1_follow[\"C00.5\"].value_counts(normalize=True).sort_values() *100"
   ]
  },
  {
   "cell_type": "code",
   "execution_count": null,
   "id": "570e8f3f-c4d1-41e0-9324-56c7940ba789",
   "metadata": {},
   "outputs": [],
   "source": []
  }
 ],
 "metadata": {
  "kernelspec": {
   "display_name": "Python 3 (ipykernel)",
   "language": "python",
   "name": "python3"
  },
  "language_info": {
   "codemirror_mode": {
    "name": "ipython",
    "version": 3
   },
   "file_extension": ".py",
   "mimetype": "text/x-python",
   "name": "python",
   "nbconvert_exporter": "python",
   "pygments_lexer": "ipython3",
   "version": "3.8.5"
  }
 },
 "nbformat": 4,
 "nbformat_minor": 5
}
